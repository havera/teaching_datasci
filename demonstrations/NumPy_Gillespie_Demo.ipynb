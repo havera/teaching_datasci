{
 "cells": [
  {
   "cell_type": "markdown",
   "id": "fa85bf8d-5085-4545-a8e3-516cacdfd311",
   "metadata": {},
   "source": [
    "# Demonstrating NumPy:\n",
    "\n",
    "Here we implement the algorithm described in *Exact Stochastic Simulation of Coupled Chemical Reactions* by Danlel T. Gillespie.\n",
    "A copy can be found online [here](https://www.caam.rice.edu/~cox/gillespie.pdf).\n",
    "\n",
    "For testing our algorithm we shall consider the [exponential decay](https://en.wikipedia.org/wiki/Exponential_decay) example,\n",
    "as such processes are ubiquitous. Additionally we can numerically solve many features of interest in this system, and compare those\n",
    "features to our simulation results.\n",
    "\n",
    "For a review of what $e$ is, see this [video](https://www.youtube.com/watch?v=m2MIpDrF7Es)."
   ]
  },
  {
   "cell_type": "code",
   "execution_count": 1,
   "id": "c1440821-f232-43a1-963d-6c6e7cfcb02a",
   "metadata": {},
   "outputs": [],
   "source": [
    "import numpy as np\n",
    "\n",
    "# For a discussion of random sampling see:\n",
    "# https://numpy.org/doc/stable/reference/random/index.html \n",
    "from numpy.random import default_rng\n",
    "rng = default_rng()\n",
    "\n",
    "import matplotlib.pyplot as plt\n",
    "%matplotlib inline"
   ]
  },
  {
   "cell_type": "markdown",
   "id": "b4865d64-ccfd-4fa3-91cd-f8ff1803f3db",
   "metadata": {},
   "source": [
    "## Exponential Decay\n",
    "\n",
    "The first thing we do is implement an exponential decay function:"
   ]
  },
  {
   "cell_type": "code",
   "execution_count": 2,
   "id": "fd7572cb-9e25-4d4a-88a9-b951ee1ee549",
   "metadata": {},
   "outputs": [
    {
     "name": "stdout",
     "output_type": "stream",
     "text": [
      "(1000,)\n"
     ]
    }
   ],
   "source": [
    "def exponential_decay(X, c, t):\n",
    "    return X * np.exp(-c * t)\n",
    "\n",
    "# Declare a time range for X to decay over:\n",
    "time_range = np.linspace(0, 10, 1000)\n",
    "print(time_range.shape)"
   ]
  },
  {
   "cell_type": "code",
   "execution_count": 3,
   "id": "e4b21efc-0152-459a-9b23-42829d01b277",
   "metadata": {},
   "outputs": [],
   "source": [
    "# time_range"
   ]
  },
  {
   "cell_type": "markdown",
   "id": "90e19e02-d275-4201-b031-b5c96fb14a86",
   "metadata": {},
   "source": [
    "Now calculate the expected value of X at each time point:"
   ]
  },
  {
   "cell_type": "code",
   "execution_count": 4,
   "id": "31c85c9c-ed7c-4e70-baa9-89ea9a76f20b",
   "metadata": {},
   "outputs": [
    {
     "name": "stdout",
     "output_type": "stream",
     "text": [
      "(1000,)\n"
     ]
    }
   ],
   "source": [
    "x_decay = exponential_decay(1000, 0.5, time_range)\n",
    "print(x_decay.shape)"
   ]
  },
  {
   "cell_type": "markdown",
   "id": "e2b1ecbc-8649-4c88-b81b-4c2e11f8e368",
   "metadata": {},
   "source": [
    "We can plot the results of our new function:"
   ]
  },
  {
   "cell_type": "code",
   "execution_count": 5,
   "id": "c2bf65f7-82fc-49ba-9a1e-6c83548cd26b",
   "metadata": {},
   "outputs": [
    {
     "data": {
      "image/png": "[encoded data removed]",
      "text/plain": [
       "<Figure size 504x504 with 1 Axes>"
      ]
     },
     "metadata": {
      "needs_background": "light"
     },
     "output_type": "display_data"
    }
   ],
   "source": [
    "fig, ax = plt.subplots(figsize=(7, 7))\n",
    "ax.set(ylim=(0, 1100), xlim=(0, time_range[-1]), \n",
    "       title='Exponential decay')\n",
    "ax.plot(time_range, x_decay, 'k', alpha=0.5, linewidth=1.5);  # Semi-colon prevents some misc text output."
   ]
  },
  {
   "cell_type": "markdown",
   "id": "1a64fefc-2e07-49b2-b993-54cf416800e3",
   "metadata": {},
   "source": [
    "As hinted, there are some other features we can calculate for exponential decay.\n",
    "Here is the root mean square of the deviation:\n",
    "\n",
    "$$\n",
    "\\Delta(t) = [X_0 e^{-ct}(1 - e^{-ct})]^{\\frac{1}{2}}\n",
    "$$"
   ]
  },
  {
   "cell_type": "code",
   "execution_count": 6,
   "id": "6f8fd9f2-a95f-4d83-b02d-570b94677dbe",
   "metadata": {},
   "outputs": [],
   "source": [
    "# with the same variable descriptions as in the exp function.\n",
    "# use more () instead of [], python treats those differently.\n",
    "def rms_exp(X, c, t):\n",
    "    return (X * np.exp(-c*t)*(1 - np.exp(-c*t)))**(0.5)"
   ]
  },
  {
   "cell_type": "code",
   "execution_count": 7,
   "id": "e0ac2960-1323-4aae-8c86-105e746a033d",
   "metadata": {},
   "outputs": [
    {
     "ename": "NameError",
     "evalue": "name 'exp' is not defined",
     "output_type": "error",
     "traceback": [
      "\u001b[0;31m---------------------------------------------------------------------------\u001b[0m",
      "\u001b[0;31mNameError\u001b[0m                                 Traceback (most recent call last)",
      "\u001b[0;32m/var/folders/pv/75tqx38s3zxcjr22whprl6pc0000gn/T/ipykernel_4539/2931701607.py\u001b[0m in \u001b[0;36m<module>\u001b[0;34m\u001b[0m\n\u001b[1;32m      3\u001b[0m \u001b[0;34m\u001b[0m\u001b[0m\n\u001b[1;32m      4\u001b[0m \u001b[0;31m# make the lower and upper bounds\u001b[0m\u001b[0;34m\u001b[0m\u001b[0;34m\u001b[0m\u001b[0m\n\u001b[0;32m----> 5\u001b[0;31m \u001b[0mupper\u001b[0m \u001b[0;34m=\u001b[0m \u001b[0mexp\u001b[0m \u001b[0;34m+\u001b[0m \u001b[0mrms\u001b[0m\u001b[0;34m\u001b[0m\u001b[0;34m\u001b[0m\u001b[0m\n\u001b[0m\u001b[1;32m      6\u001b[0m \u001b[0mlower\u001b[0m \u001b[0;34m=\u001b[0m \u001b[0mexp\u001b[0m \u001b[0;34m-\u001b[0m \u001b[0mrms\u001b[0m\u001b[0;34m\u001b[0m\u001b[0;34m\u001b[0m\u001b[0m\n\u001b[1;32m      7\u001b[0m \u001b[0;34m\u001b[0m\u001b[0m\n",
      "\u001b[0;31mNameError\u001b[0m: name 'exp' is not defined"
     ]
    }
   ],
   "source": [
    "# make an instance of the rms_exp function we can call.\n",
    "rms = rms_exp(1000, 0.5, time_range)\n",
    "\n",
    "# make the lower and upper bounds\n",
    "upper = exp + rms\n",
    "lower = exp - rms\n",
    "\n",
    "fig, ax = plt.subplots(figsize=(7, 7))\n",
    "ax.set(ylim=(0, 1100), xlim=(0, time_range[-1]), \n",
    "       title='Exponential Decay with RMS')\n",
    "\n",
    "ax.plot(time_range, exp, 'b', linewidth=1.0)\n",
    "ax.fill_between(time_range, upper, lower, facecolor='grey', alpha=0.5);"
   ]
  },
  {
   "cell_type": "markdown",
   "id": "d4d96c5c-b4b7-4f84-80ff-b2bb27aaac1c",
   "metadata": {},
   "source": [
    "## Gillespie Algorithm\n",
    "\n",
    "Here I implement a version of Gillespie's algorithm."
   ]
  },
  {
   "cell_type": "code",
   "execution_count": null,
   "id": "08def1e2-4391-49b0-8f7c-15c71bf418bc",
   "metadata": {
    "tags": []
   },
   "outputs": [],
   "source": [
    "class Gillespie:\n",
    "    \n",
    "    def __init__(self, X, C, delta_X, H):\n",
    "        self.X = np.asarray(X, dtype=int)\n",
    "        self.C = np.asarray(C)\n",
    "        self.delta_X = np.asarray(delta_X, dtype=int)\n",
    "        self.H = H\n",
    "\n",
    "    @staticmethod\n",
    "    def calc_av(X, H, C):\n",
    "        \"\"\"Calculate the Av value.\n",
    "        The number of available permutations multiplied be the rates.\"\"\"\n",
    "        collisions = np.array([h(X) for h in H])\n",
    "        return collisions * C\n",
    "    \n",
    "    @staticmethod\n",
    "    def calc_tau(a0, rv):\n",
    "        \"\"\"Calculate the Tau value, which is the probable length of time\n",
    "        before any given simulated reaction occurs.\"\"\"\n",
    "        return (1 / a0) * np.log(1 / rv)\n",
    "    \n",
    "    @staticmethod\n",
    "    def calc_mu(av, a0, rv):\n",
    "        \"\"\"Calculate the mu value.\n",
    "        \n",
    "        :param Av_vals:\n",
    "            The possible reaction permutations * their rates. Given\n",
    "            as a numpy array.\n",
    "        :param Av_sum:\n",
    "            The sum of the `Av_vals` array. This sum is used in\n",
    "            multiple places, so it is not calculated within this\n",
    "            function.\n",
    "        :param random_value:\n",
    "            A randomly generated value between zero and one.\n",
    "        :returns mu:\n",
    "            The index corresponding to the reaction that should be\n",
    "            simulated.\n",
    "            \n",
    "        Essentially we generate blocks of value on a number line\n",
    "        from zero to one. A random number determines where on this\n",
    "        line a reaction \"occurs\".\n",
    "            [================================================]\n",
    "            0.0                  *                          1.0\n",
    "                                  A random point.\n",
    "                                  \n",
    "        We cast the possible reactions to this scale by multiplying\n",
    "        the random value by the sum of Av values. Such casting is\n",
    "        done by chunks.\n",
    "            [================================================]\n",
    "            [=Chunk 1=][======Chunk 2======][=====Chunk 3====]\n",
    "            \n",
    "        The sums of these chunks are examined, and when the sum is \n",
    "        found to be greater than the randomly cast point defined above, \n",
    "        the corresponding reaction is simulated.\n",
    "        \n",
    "        ..warning::\n",
    "            A different random value should be used for `calc_mu()` and\n",
    "            `calc_tau()`.\n",
    "        \"\"\"\n",
    "        return np.argwhere(np.cumsum(av) > (rv * a0)).flatten()[0]\n",
    "    \n",
    "    def simulate(self, max_iter=1000, max_time=1000):\n",
    "        \"\"\"Runs a stochastic simulation based on the input provided.\"\"\"\n",
    "        curr_time = 0\n",
    "        curr_iter = 0\n",
    "        \n",
    "        t_out = np.empty((max_iter))\n",
    "        x_out = np.empty((max_iter, self.X.shape[0]))\n",
    "        \n",
    "        t_out[0] = curr_time\n",
    "        x_out[0] = self.X.copy()\n",
    "        \n",
    "        while (curr_iter < max_iter) and (curr_time < max_time):\n",
    "            av = self.calc_av(self.X, self.H, self.C)\n",
    "            # print(av)\n",
    "            a0 = np.sum(av)\n",
    "            # print(a0)\n",
    "            rv1, rv2 = rng.random(2)\n",
    "            tau = self.calc_tau(a0, rv1)\n",
    "            # print(tau)\n",
    "            mu = self.calc_mu(av, a0, rv2)\n",
    "            self.X += self.delta_X[mu]\n",
    "            curr_time += tau\n",
    "            t_out[curr_iter] = curr_time\n",
    "            x_out[curr_iter] = self.X\n",
    "            curr_iter += 1\n",
    "                        \n",
    "        return t_out, x_out"
   ]
  },
  {
   "cell_type": "markdown",
   "id": "5fe6f46c-0430-4c4e-8960-aa0e98839029",
   "metadata": {},
   "source": [
    "Now for the test, can we simulate an exponential decay process?"
   ]
  },
  {
   "cell_type": "code",
   "execution_count": null,
   "id": "420792b7-4bd5-473c-845a-a096d0b08495",
   "metadata": {},
   "outputs": [],
   "source": [
    "%%time\n",
    "# Measure the execution time of this cell.\n",
    "\n",
    "# A dictionary of parameters for ease of use.\n",
    "exp_decay_params = dict(\n",
    "    X=[1000],\n",
    "    C=[0.5],\n",
    "    delta_X=[[-1]],\n",
    "    H=[lambda x: x]\n",
    ")\n",
    "\n",
    "gill = Gillespie(**exp_decay_params)\n",
    "times, x_vals = gill.simulate()"
   ]
  },
  {
   "cell_type": "markdown",
   "id": "6b283b8d-3201-4e57-b8e0-cc810cac2ac7",
   "metadata": {},
   "source": [
    "Now to plot the output, and compare it to the analytical result."
   ]
  },
  {
   "cell_type": "code",
   "execution_count": null,
   "id": "351078db-19ce-49c7-ab0d-d0da82d5d996",
   "metadata": {},
   "outputs": [],
   "source": [
    "fig, ax = plt.subplots(figsize=(7, 7))\n",
    "ax.set(\n",
    "    ylim=(0, 1100), \n",
    "    xlim=(0, time_range[-1]), \n",
    "    title='Simulation run compared to exponential decay')\n",
    "\n",
    "ax.plot(time_range, exp, 'b', linewidth=1.5)\n",
    "ax.scatter(times, x_vals, marker=\".\", s=2., alpha=0.8, color = 'r');"
   ]
  },
  {
   "cell_type": "markdown",
   "id": "dedd8125-cee4-4f5e-ba01-77d56328eda6",
   "metadata": {},
   "source": [
    "We can run and plot hundreds of runs:"
   ]
  },
  {
   "cell_type": "code",
   "execution_count": null,
   "id": "cb7c62d0-d039-4e4b-89c7-0c49bda47aa2",
   "metadata": {},
   "outputs": [],
   "source": [
    "%%time\n",
    "exp_runs = [Gillespie(**exp_decay_params).simulate() for i in range(200)]"
   ]
  },
  {
   "cell_type": "code",
   "execution_count": null,
   "id": "ee9faeea-e839-4ebc-81a2-84bcd3f26bce",
   "metadata": {},
   "outputs": [],
   "source": [
    "fig, ax = plt.subplots(figsize=(7, 7))\n",
    "ax.set(ylim=(0, 1100), xlim=(0, 10), title='Gillespe Algorithm and Exponential Decay')\n",
    "ax.plot(time_range, exp, 'b', linewidth=1.5)\n",
    "for run in exp_runs:\n",
    "    t, x = run\n",
    "    ax.scatter(t, x, marker=\".\", s=.1, alpha=0.1, color='k')"
   ]
  },
  {
   "cell_type": "markdown",
   "id": "661b1182-e776-4a73-9adb-c74e2d6a423d",
   "metadata": {},
   "source": [
    "## Self-equilibrating Reactions"
   ]
  },
  {
   "cell_type": "code",
   "execution_count": null,
   "id": "843076d3-b8e4-4a80-87cf-11cd33b2e1f5",
   "metadata": {},
   "outputs": [],
   "source": [
    "self_eq_params = dict(\n",
    "    X=[3000],\n",
    "    C=[5, 0.005],\n",
    "    delta_X=[[1], [-2]],\n",
    "    H=[\n",
    "        lambda x: x[0], \n",
    "        lambda x: x[0] * (x[0] - 1) / 2,\n",
    "      ]\n",
    ")"
   ]
  },
  {
   "cell_type": "code",
   "execution_count": null,
   "id": "fed61645-1e24-47fb-979a-e165daaf02c7",
   "metadata": {},
   "outputs": [],
   "source": [
    "%%time\n",
    "\n",
    "gill = Gillespie(**self_eq_params)\n",
    "times, x_vals = gill.simulate(100000)"
   ]
  },
  {
   "cell_type": "code",
   "execution_count": null,
   "id": "a59efed4-438f-43ad-87cb-1a502899811f",
   "metadata": {},
   "outputs": [],
   "source": [
    "fig, ax = plt.subplots(figsize=(14, 7))\n",
    "for x in x_vals.T:\n",
    "    ax.scatter(times, x, marker=\".\", s=.1, alpha=0.1)\n",
    "plt.axhline(y=1000)"
   ]
  },
  {
   "cell_type": "markdown",
   "id": "e27ca157-6e23-48af-b226-0e5fbf06f343",
   "metadata": {},
   "source": [
    "## Lotka Reaction\n",
    "\n",
    "Originally developed to model predator-prey interactions."
   ]
  },
  {
   "cell_type": "code",
   "execution_count": null,
   "id": "8faa0b35-5c32-4dae-96d4-7c472ce979eb",
   "metadata": {},
   "outputs": [],
   "source": [
    "lotka_params = dict(\n",
    "    X=[1000, 1000],\n",
    "    C=[10, 0.01, 10],\n",
    "    delta_X=[[1, 0], [-1, 1], [0, -1]],\n",
    "    H=[\n",
    "        lambda x: x[0], \n",
    "        lambda x: x[0] * x[1],\n",
    "        lambda x: x[1]\n",
    "      ]\n",
    ")"
   ]
  },
  {
   "cell_type": "code",
   "execution_count": null,
   "id": "9cc6c558-597e-4f0b-95dc-a98be58fd9bb",
   "metadata": {},
   "outputs": [],
   "source": [
    "gill = Gillespie(**lotka_params)\n",
    "times, x_vals = gill.simulate(90000)\n",
    "\n",
    "fig, ax = plt.subplots(figsize=(14, 7))\n",
    "for x in x_vals.T:\n",
    "    ax.scatter(times, x, marker=\".\", s=.1, alpha=0.1)"
   ]
  },
  {
   "cell_type": "code",
   "execution_count": null,
   "id": "728bd330-73c1-49d5-947d-1a464566d174",
   "metadata": {},
   "outputs": [],
   "source": []
  }
 ],
 "metadata": {
  "kernelspec": {
   "display_name": "Python 3 (ipykernel)",
   "language": "python",
   "name": "python3"
  },
  "language_info": {
   "codemirror_mode": {
    "name": "ipython",
    "version": 3
   },
   "file_extension": ".py",
   "mimetype": "text/x-python",
   "name": "python",
   "nbconvert_exporter": "python",
   "pygments_lexer": "ipython3",
   "version": "3.9.7"
  }
 },
 "nbformat": 4,
 "nbformat_minor": 5
}
