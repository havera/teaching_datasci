{
 "cells": [
  {
   "cell_type": "markdown",
   "id": "4c8309f6-b563-4f88-9cd2-08353b197d40",
   "metadata": {},
   "source": [
    "Other visulization tools:\n",
    "Look at the gallery of each, choose the more suitable and easier one\n",
    "Plotly dash: a lot of versions, don't update, highly recommended (company)\n",
    "Altair: open source, better for geography\n",
    "Bokeh: within holoviews, not directly used, use with holoviews, only use if need more sophisticated situation\n",
    "Holoviews: gallery of galleries\n",
    "Datashader: a lot of data points, very fast, but no axes, use with holoviews\n",
    "PlotOptiX: fancy, take a lot of time, not recommended except for nature and after the article is accepted\n",
    "\n",
    "R package: rayshader"
   ]
  }
 ],
 "metadata": {
  "kernelspec": {
   "display_name": "Python 3 (ipykernel)",
   "language": "python",
   "name": "python3"
  },
  "language_info": {
   "codemirror_mode": {
    "name": "ipython",
    "version": 3
   },
   "file_extension": ".py",
   "mimetype": "text/x-python",
   "name": "python",
   "nbconvert_exporter": "python",
   "pygments_lexer": "ipython3",
   "version": "3.9.7"
  }
 },
 "nbformat": 4,
 "nbformat_minor": 5
}
