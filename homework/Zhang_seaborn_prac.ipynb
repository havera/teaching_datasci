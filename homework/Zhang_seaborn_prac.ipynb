{
 "cells": [
  {
   "cell_type": "markdown",
   "id": "2c916e8e-c709-413a-84ea-32b61b44cb7e",
   "metadata": {},
   "source": [
    "Data structures accepted by seaborn homework"
   ]
  },
  {
   "cell_type": "code",
   "execution_count": null,
   "id": "6953b8c5-1545-4b73-983d-9d947ce79ffd",
   "metadata": {},
   "outputs": [],
   "source": []
  }
 ],
 "metadata": {
  "kernelspec": {
   "display_name": "Python 3 (ipykernel)",
   "language": "python",
   "name": "python3"
  },
  "language_info": {
   "codemirror_mode": {
    "name": "ipython",
    "version": 3
   },
   "file_extension": ".py",
   "mimetype": "text/x-python",
   "name": "python",
   "nbconvert_exporter": "python",
   "pygments_lexer": "ipython3",
   "version": "3.9.7"
  }
 },
 "nbformat": 4,
 "nbformat_minor": 5
}
