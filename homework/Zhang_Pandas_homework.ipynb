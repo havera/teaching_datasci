{
 "cells": [
  {
   "cell_type": "code",
   "execution_count": 1,
   "id": "dbac21d0-56bc-4155-8aaf-c187f092e76b",
   "metadata": {},
   "outputs": [],
   "source": [
    "import numpy as np"
   ]
  },
  {
   "cell_type": "code",
   "execution_count": 2,
   "id": "7ffba7ce-ede2-4c6b-80ba-9ef7ae7be080",
   "metadata": {},
   "outputs": [],
   "source": [
    "import pandas as pd"
   ]
  },
  {
   "cell_type": "code",
   "execution_count": 3,
   "id": "44577b51-3a86-4589-9495-e4213cb00fa1",
   "metadata": {},
   "outputs": [
    {
     "data": {
      "text/plain": [
       "0    1.0\n",
       "1    3.0\n",
       "2    5.0\n",
       "3    NaN\n",
       "4    7.0\n",
       "5    9.0\n",
       "dtype: float64"
      ]
     },
     "execution_count": 3,
     "metadata": {},
     "output_type": "execute_result"
    }
   ],
   "source": [
    "s = pd.Series([1, 3, 5, np.nan, 7, 9])\n",
    "s"
   ]
  },
  {
   "cell_type": "code",
   "execution_count": 6,
   "id": "1024b6ca-fb0b-494b-98be-526a0224b152",
   "metadata": {},
   "outputs": [
    {
     "data": {
      "text/plain": [
       "DatetimeIndex(['2022-02-23', '2022-02-24', '2022-02-25', '2022-02-26',\n",
       "               '2022-02-27', '2022-02-28'],\n",
       "              dtype='datetime64[ns]', freq='D')"
      ]
     },
     "execution_count": 6,
     "metadata": {},
     "output_type": "execute_result"
    }
   ],
   "source": [
    "dates = pd.date_range(\"20220223\", periods=6)\n",
    "dates"
   ]
  },
  {
   "cell_type": "code",
   "execution_count": 7,
   "id": "2b82fc5a-79ba-4f6d-a291-e557ddf711fe",
   "metadata": {},
   "outputs": [
    {
     "data": {
      "text/html": [
       "<div>\n",
       "<style scoped>\n",
       "    .dataframe tbody tr th:only-of-type {\n",
       "        vertical-align: middle;\n",
       "    }\n",
       "\n",
       "    .dataframe tbody tr th {\n",
       "        vertical-align: top;\n",
       "    }\n",
       "\n",
       "    .dataframe thead th {\n",
       "        text-align: right;\n",
       "    }\n",
       "</style>\n",
       "<table border=\"1\" class=\"dataframe\">\n",
       "  <thead>\n",
       "    <tr style=\"text-align: right;\">\n",
       "      <th></th>\n",
       "      <th>A</th>\n",
       "      <th>B</th>\n",
       "      <th>C</th>\n",
       "      <th>D</th>\n",
       "    </tr>\n",
       "  </thead>\n",
       "  <tbody>\n",
       "    <tr>\n",
       "      <th>2022-02-23</th>\n",
       "      <td>1.216410</td>\n",
       "      <td>-0.584314</td>\n",
       "      <td>1.423233</td>\n",
       "      <td>1.737388</td>\n",
       "    </tr>\n",
       "    <tr>\n",
       "      <th>2022-02-24</th>\n",
       "      <td>-0.750925</td>\n",
       "      <td>0.013535</td>\n",
       "      <td>-0.894995</td>\n",
       "      <td>0.565960</td>\n",
       "    </tr>\n",
       "    <tr>\n",
       "      <th>2022-02-25</th>\n",
       "      <td>1.474223</td>\n",
       "      <td>-0.848770</td>\n",
       "      <td>-0.367688</td>\n",
       "      <td>0.357055</td>\n",
       "    </tr>\n",
       "    <tr>\n",
       "      <th>2022-02-26</th>\n",
       "      <td>-1.125284</td>\n",
       "      <td>-1.851011</td>\n",
       "      <td>0.611127</td>\n",
       "      <td>-1.026441</td>\n",
       "    </tr>\n",
       "    <tr>\n",
       "      <th>2022-02-27</th>\n",
       "      <td>-0.313378</td>\n",
       "      <td>-0.647989</td>\n",
       "      <td>-1.353883</td>\n",
       "      <td>0.939492</td>\n",
       "    </tr>\n",
       "    <tr>\n",
       "      <th>2022-02-28</th>\n",
       "      <td>0.224564</td>\n",
       "      <td>-0.802723</td>\n",
       "      <td>-2.523010</td>\n",
       "      <td>-0.390186</td>\n",
       "    </tr>\n",
       "  </tbody>\n",
       "</table>\n",
       "</div>"
      ],
      "text/plain": [
       "                   A         B         C         D\n",
       "2022-02-23  1.216410 -0.584314  1.423233  1.737388\n",
       "2022-02-24 -0.750925  0.013535 -0.894995  0.565960\n",
       "2022-02-25  1.474223 -0.848770 -0.367688  0.357055\n",
       "2022-02-26 -1.125284 -1.851011  0.611127 -1.026441\n",
       "2022-02-27 -0.313378 -0.647989 -1.353883  0.939492\n",
       "2022-02-28  0.224564 -0.802723 -2.523010 -0.390186"
      ]
     },
     "execution_count": 7,
     "metadata": {},
     "output_type": "execute_result"
    }
   ],
   "source": [
    "df = pd.DataFrame(np.random.randn(6, 4), index=dates, columns=list(\"ABCD\"))\n",
    "df"
   ]
  },
  {
   "cell_type": "code",
   "execution_count": 69,
   "id": "76a3a66e-484a-4782-9b24-6d4da8f47701",
   "metadata": {},
   "outputs": [
    {
     "data": {
      "text/html": [
       "<div>\n",
       "<style scoped>\n",
       "    .dataframe tbody tr th:only-of-type {\n",
       "        vertical-align: middle;\n",
       "    }\n",
       "\n",
       "    .dataframe tbody tr th {\n",
       "        vertical-align: top;\n",
       "    }\n",
       "\n",
       "    .dataframe thead th {\n",
       "        text-align: right;\n",
       "    }\n",
       "</style>\n",
       "<table border=\"1\" class=\"dataframe\">\n",
       "  <thead>\n",
       "    <tr style=\"text-align: right;\">\n",
       "      <th></th>\n",
       "      <th>A</th>\n",
       "      <th>B</th>\n",
       "      <th>C</th>\n",
       "      <th>D</th>\n",
       "      <th>E</th>\n",
       "      <th>F</th>\n",
       "    </tr>\n",
       "  </thead>\n",
       "  <tbody>\n",
       "    <tr>\n",
       "      <th>0</th>\n",
       "      <td>1.0</td>\n",
       "      <td>2022-01-01</td>\n",
       "      <td>1.0</td>\n",
       "      <td>3</td>\n",
       "      <td>test</td>\n",
       "      <td>foo</td>\n",
       "    </tr>\n",
       "    <tr>\n",
       "      <th>1</th>\n",
       "      <td>1.0</td>\n",
       "      <td>2022-01-01</td>\n",
       "      <td>1.0</td>\n",
       "      <td>3</td>\n",
       "      <td>train</td>\n",
       "      <td>foo</td>\n",
       "    </tr>\n",
       "    <tr>\n",
       "      <th>2</th>\n",
       "      <td>1.0</td>\n",
       "      <td>2022-01-01</td>\n",
       "      <td>1.0</td>\n",
       "      <td>3</td>\n",
       "      <td>test</td>\n",
       "      <td>foo</td>\n",
       "    </tr>\n",
       "    <tr>\n",
       "      <th>3</th>\n",
       "      <td>1.0</td>\n",
       "      <td>2022-01-01</td>\n",
       "      <td>1.0</td>\n",
       "      <td>3</td>\n",
       "      <td>train</td>\n",
       "      <td>foo</td>\n",
       "    </tr>\n",
       "  </tbody>\n",
       "</table>\n",
       "</div>"
      ],
      "text/plain": [
       "     A          B    C  D      E    F\n",
       "0  1.0 2022-01-01  1.0  3   test  foo\n",
       "1  1.0 2022-01-01  1.0  3  train  foo\n",
       "2  1.0 2022-01-01  1.0  3   test  foo\n",
       "3  1.0 2022-01-01  1.0  3  train  foo"
      ]
     },
     "execution_count": 69,
     "metadata": {},
     "output_type": "execute_result"
    }
   ],
   "source": [
    "df2 = pd.DataFrame(\n",
    "    {\n",
    "        \"A\": 1.0,\n",
    "        \"B\": pd.Timestamp(\"20220101\"),\n",
    "        \"C\": pd.Series(1, index=list(range(4)), dtype=\"float32\"),\n",
    "        \"D\": np.array([3] * 4, dtype=\"int32\"),\n",
    "        \"E\": pd.Categorical([\"test\", \"train\", \"test\", \"train\"]),\n",
    "        \"F\": \"foo\",\n",
    "    }\n",
    ")\n",
    "df2"
   ]
  },
  {
   "cell_type": "code",
   "execution_count": 25,
   "id": "174e8776-4add-4090-bc59-c90b77208ce7",
   "metadata": {},
   "outputs": [
    {
     "data": {
      "text/plain": [
       "A           float64\n",
       "B    datetime64[ns]\n",
       "C           float32\n",
       "D             int32\n",
       "E          category\n",
       "F            object\n",
       "dtype: object"
      ]
     },
     "execution_count": 25,
     "metadata": {},
     "output_type": "execute_result"
    }
   ],
   "source": [
    "df2.dtypes"
   ]
  },
  {
   "cell_type": "code",
   "execution_count": 27,
   "id": "8e4f41ec-568a-4a54-9c6b-b1fc76c86751",
   "metadata": {},
   "outputs": [
    {
     "data": {
      "text/html": [
       "<div>\n",
       "<style scoped>\n",
       "    .dataframe tbody tr th:only-of-type {\n",
       "        vertical-align: middle;\n",
       "    }\n",
       "\n",
       "    .dataframe tbody tr th {\n",
       "        vertical-align: top;\n",
       "    }\n",
       "\n",
       "    .dataframe thead th {\n",
       "        text-align: right;\n",
       "    }\n",
       "</style>\n",
       "<table border=\"1\" class=\"dataframe\">\n",
       "  <thead>\n",
       "    <tr style=\"text-align: right;\">\n",
       "      <th></th>\n",
       "      <th>A</th>\n",
       "      <th>B</th>\n",
       "      <th>C</th>\n",
       "      <th>D</th>\n",
       "    </tr>\n",
       "  </thead>\n",
       "  <tbody>\n",
       "    <tr>\n",
       "      <th>2022-02-23</th>\n",
       "      <td>1.216410</td>\n",
       "      <td>-0.584314</td>\n",
       "      <td>1.423233</td>\n",
       "      <td>1.737388</td>\n",
       "    </tr>\n",
       "    <tr>\n",
       "      <th>2022-02-24</th>\n",
       "      <td>-0.750925</td>\n",
       "      <td>0.013535</td>\n",
       "      <td>-0.894995</td>\n",
       "      <td>0.565960</td>\n",
       "    </tr>\n",
       "    <tr>\n",
       "      <th>2022-02-25</th>\n",
       "      <td>1.474223</td>\n",
       "      <td>-0.848770</td>\n",
       "      <td>-0.367688</td>\n",
       "      <td>0.357055</td>\n",
       "    </tr>\n",
       "    <tr>\n",
       "      <th>2022-02-26</th>\n",
       "      <td>-1.125284</td>\n",
       "      <td>-1.851011</td>\n",
       "      <td>0.611127</td>\n",
       "      <td>-1.026441</td>\n",
       "    </tr>\n",
       "    <tr>\n",
       "      <th>2022-02-27</th>\n",
       "      <td>-0.313378</td>\n",
       "      <td>-0.647989</td>\n",
       "      <td>-1.353883</td>\n",
       "      <td>0.939492</td>\n",
       "    </tr>\n",
       "  </tbody>\n",
       "</table>\n",
       "</div>"
      ],
      "text/plain": [
       "                   A         B         C         D\n",
       "2022-02-23  1.216410 -0.584314  1.423233  1.737388\n",
       "2022-02-24 -0.750925  0.013535 -0.894995  0.565960\n",
       "2022-02-25  1.474223 -0.848770 -0.367688  0.357055\n",
       "2022-02-26 -1.125284 -1.851011  0.611127 -1.026441\n",
       "2022-02-27 -0.313378 -0.647989 -1.353883  0.939492"
      ]
     },
     "execution_count": 27,
     "metadata": {},
     "output_type": "execute_result"
    }
   ],
   "source": [
    "df.head()"
   ]
  },
  {
   "cell_type": "code",
   "execution_count": 28,
   "id": "d3339b4c-4954-429c-89a8-b5ad0925b03c",
   "metadata": {},
   "outputs": [
    {
     "data": {
      "text/html": [
       "<div>\n",
       "<style scoped>\n",
       "    .dataframe tbody tr th:only-of-type {\n",
       "        vertical-align: middle;\n",
       "    }\n",
       "\n",
       "    .dataframe tbody tr th {\n",
       "        vertical-align: top;\n",
       "    }\n",
       "\n",
       "    .dataframe thead th {\n",
       "        text-align: right;\n",
       "    }\n",
       "</style>\n",
       "<table border=\"1\" class=\"dataframe\">\n",
       "  <thead>\n",
       "    <tr style=\"text-align: right;\">\n",
       "      <th></th>\n",
       "      <th>A</th>\n",
       "      <th>B</th>\n",
       "      <th>C</th>\n",
       "      <th>D</th>\n",
       "    </tr>\n",
       "  </thead>\n",
       "  <tbody>\n",
       "    <tr>\n",
       "      <th>2022-02-26</th>\n",
       "      <td>-1.125284</td>\n",
       "      <td>-1.851011</td>\n",
       "      <td>0.611127</td>\n",
       "      <td>-1.026441</td>\n",
       "    </tr>\n",
       "    <tr>\n",
       "      <th>2022-02-27</th>\n",
       "      <td>-0.313378</td>\n",
       "      <td>-0.647989</td>\n",
       "      <td>-1.353883</td>\n",
       "      <td>0.939492</td>\n",
       "    </tr>\n",
       "    <tr>\n",
       "      <th>2022-02-28</th>\n",
       "      <td>0.224564</td>\n",
       "      <td>-0.802723</td>\n",
       "      <td>-2.523010</td>\n",
       "      <td>-0.390186</td>\n",
       "    </tr>\n",
       "  </tbody>\n",
       "</table>\n",
       "</div>"
      ],
      "text/plain": [
       "                   A         B         C         D\n",
       "2022-02-26 -1.125284 -1.851011  0.611127 -1.026441\n",
       "2022-02-27 -0.313378 -0.647989 -1.353883  0.939492\n",
       "2022-02-28  0.224564 -0.802723 -2.523010 -0.390186"
      ]
     },
     "execution_count": 28,
     "metadata": {},
     "output_type": "execute_result"
    }
   ],
   "source": [
    "df.tail(3)"
   ]
  },
  {
   "cell_type": "code",
   "execution_count": 29,
   "id": "1a142ed8-3be8-45c8-86a4-93dc58ade0a3",
   "metadata": {},
   "outputs": [
    {
     "data": {
      "text/plain": [
       "DatetimeIndex(['2022-02-23', '2022-02-24', '2022-02-25', '2022-02-26',\n",
       "               '2022-02-27', '2022-02-28'],\n",
       "              dtype='datetime64[ns]', freq='D')"
      ]
     },
     "execution_count": 29,
     "metadata": {},
     "output_type": "execute_result"
    }
   ],
   "source": [
    "df.index"
   ]
  },
  {
   "cell_type": "code",
   "execution_count": 30,
   "id": "8910ccb0-b5a8-408e-b132-9e7c3ca26b4a",
   "metadata": {},
   "outputs": [
    {
     "data": {
      "text/plain": [
       "Index(['A', 'B', 'C', 'D'], dtype='object')"
      ]
     },
     "execution_count": 30,
     "metadata": {},
     "output_type": "execute_result"
    }
   ],
   "source": [
    "df.columns"
   ]
  },
  {
   "cell_type": "code",
   "execution_count": 31,
   "id": "cca889bf-b2a9-4511-8fe7-2fe9c516eb0d",
   "metadata": {},
   "outputs": [
    {
     "data": {
      "text/plain": [
       "array([[ 1.21640959, -0.58431356,  1.42323274,  1.73738825],\n",
       "       [-0.75092467,  0.01353459, -0.89499484,  0.56595967],\n",
       "       [ 1.47422334, -0.84877   , -0.36768789,  0.35705475],\n",
       "       [-1.12528441, -1.85101079,  0.61112687, -1.02644113],\n",
       "       [-0.31337775, -0.6479892 , -1.35388287,  0.93949166],\n",
       "       [ 0.22456369, -0.80272267, -2.52301042, -0.39018592]])"
      ]
     },
     "execution_count": 31,
     "metadata": {},
     "output_type": "execute_result"
    }
   ],
   "source": [
    "df.to_numpy()"
   ]
  },
  {
   "cell_type": "code",
   "execution_count": 32,
   "id": "03554580-fe87-43f7-a573-de0b1818482e",
   "metadata": {},
   "outputs": [
    {
     "data": {
      "text/plain": [
       "array([[1.0, Timestamp('2022-01-01 00:00:00'), 1.0, 3, 'test', 'foo'],\n",
       "       [1.0, Timestamp('2022-01-01 00:00:00'), 1.0, 3, 'train', 'foo'],\n",
       "       [1.0, Timestamp('2022-01-01 00:00:00'), 1.0, 3, 'test', 'foo'],\n",
       "       [1.0, Timestamp('2022-01-01 00:00:00'), 1.0, 3, 'train', 'foo']],\n",
       "      dtype=object)"
      ]
     },
     "execution_count": 32,
     "metadata": {},
     "output_type": "execute_result"
    }
   ],
   "source": [
    "df2.to_numpy()"
   ]
  },
  {
   "cell_type": "code",
   "execution_count": 33,
   "id": "2428fceb-5f8c-4eab-b201-af324f7b8f0a",
   "metadata": {},
   "outputs": [
    {
     "data": {
      "text/html": [
       "<div>\n",
       "<style scoped>\n",
       "    .dataframe tbody tr th:only-of-type {\n",
       "        vertical-align: middle;\n",
       "    }\n",
       "\n",
       "    .dataframe tbody tr th {\n",
       "        vertical-align: top;\n",
       "    }\n",
       "\n",
       "    .dataframe thead th {\n",
       "        text-align: right;\n",
       "    }\n",
       "</style>\n",
       "<table border=\"1\" class=\"dataframe\">\n",
       "  <thead>\n",
       "    <tr style=\"text-align: right;\">\n",
       "      <th></th>\n",
       "      <th>A</th>\n",
       "      <th>B</th>\n",
       "      <th>C</th>\n",
       "      <th>D</th>\n",
       "    </tr>\n",
       "  </thead>\n",
       "  <tbody>\n",
       "    <tr>\n",
       "      <th>count</th>\n",
       "      <td>6.000000</td>\n",
       "      <td>6.000000</td>\n",
       "      <td>6.000000</td>\n",
       "      <td>6.000000</td>\n",
       "    </tr>\n",
       "    <tr>\n",
       "      <th>mean</th>\n",
       "      <td>0.120935</td>\n",
       "      <td>-0.786879</td>\n",
       "      <td>-0.517536</td>\n",
       "      <td>0.363878</td>\n",
       "    </tr>\n",
       "    <tr>\n",
       "      <th>std</th>\n",
       "      <td>1.052998</td>\n",
       "      <td>0.606208</td>\n",
       "      <td>1.409028</td>\n",
       "      <td>0.975740</td>\n",
       "    </tr>\n",
       "    <tr>\n",
       "      <th>min</th>\n",
       "      <td>-1.125284</td>\n",
       "      <td>-1.851011</td>\n",
       "      <td>-2.523010</td>\n",
       "      <td>-1.026441</td>\n",
       "    </tr>\n",
       "    <tr>\n",
       "      <th>25%</th>\n",
       "      <td>-0.641538</td>\n",
       "      <td>-0.837258</td>\n",
       "      <td>-1.239161</td>\n",
       "      <td>-0.203376</td>\n",
       "    </tr>\n",
       "    <tr>\n",
       "      <th>50%</th>\n",
       "      <td>-0.044407</td>\n",
       "      <td>-0.725356</td>\n",
       "      <td>-0.631341</td>\n",
       "      <td>0.461507</td>\n",
       "    </tr>\n",
       "    <tr>\n",
       "      <th>75%</th>\n",
       "      <td>0.968448</td>\n",
       "      <td>-0.600232</td>\n",
       "      <td>0.366423</td>\n",
       "      <td>0.846109</td>\n",
       "    </tr>\n",
       "    <tr>\n",
       "      <th>max</th>\n",
       "      <td>1.474223</td>\n",
       "      <td>0.013535</td>\n",
       "      <td>1.423233</td>\n",
       "      <td>1.737388</td>\n",
       "    </tr>\n",
       "  </tbody>\n",
       "</table>\n",
       "</div>"
      ],
      "text/plain": [
       "              A         B         C         D\n",
       "count  6.000000  6.000000  6.000000  6.000000\n",
       "mean   0.120935 -0.786879 -0.517536  0.363878\n",
       "std    1.052998  0.606208  1.409028  0.975740\n",
       "min   -1.125284 -1.851011 -2.523010 -1.026441\n",
       "25%   -0.641538 -0.837258 -1.239161 -0.203376\n",
       "50%   -0.044407 -0.725356 -0.631341  0.461507\n",
       "75%    0.968448 -0.600232  0.366423  0.846109\n",
       "max    1.474223  0.013535  1.423233  1.737388"
      ]
     },
     "execution_count": 33,
     "metadata": {},
     "output_type": "execute_result"
    }
   ],
   "source": [
    "df.describe()"
   ]
  },
  {
   "cell_type": "code",
   "execution_count": 34,
   "id": "b59de1fc-d603-428f-93d6-bdec9f8c7f1f",
   "metadata": {},
   "outputs": [
    {
     "data": {
      "text/html": [
       "<div>\n",
       "<style scoped>\n",
       "    .dataframe tbody tr th:only-of-type {\n",
       "        vertical-align: middle;\n",
       "    }\n",
       "\n",
       "    .dataframe tbody tr th {\n",
       "        vertical-align: top;\n",
       "    }\n",
       "\n",
       "    .dataframe thead th {\n",
       "        text-align: right;\n",
       "    }\n",
       "</style>\n",
       "<table border=\"1\" class=\"dataframe\">\n",
       "  <thead>\n",
       "    <tr style=\"text-align: right;\">\n",
       "      <th></th>\n",
       "      <th>2022-02-23</th>\n",
       "      <th>2022-02-24</th>\n",
       "      <th>2022-02-25</th>\n",
       "      <th>2022-02-26</th>\n",
       "      <th>2022-02-27</th>\n",
       "      <th>2022-02-28</th>\n",
       "    </tr>\n",
       "  </thead>\n",
       "  <tbody>\n",
       "    <tr>\n",
       "      <th>A</th>\n",
       "      <td>1.216410</td>\n",
       "      <td>-0.750925</td>\n",
       "      <td>1.474223</td>\n",
       "      <td>-1.125284</td>\n",
       "      <td>-0.313378</td>\n",
       "      <td>0.224564</td>\n",
       "    </tr>\n",
       "    <tr>\n",
       "      <th>B</th>\n",
       "      <td>-0.584314</td>\n",
       "      <td>0.013535</td>\n",
       "      <td>-0.848770</td>\n",
       "      <td>-1.851011</td>\n",
       "      <td>-0.647989</td>\n",
       "      <td>-0.802723</td>\n",
       "    </tr>\n",
       "    <tr>\n",
       "      <th>C</th>\n",
       "      <td>1.423233</td>\n",
       "      <td>-0.894995</td>\n",
       "      <td>-0.367688</td>\n",
       "      <td>0.611127</td>\n",
       "      <td>-1.353883</td>\n",
       "      <td>-2.523010</td>\n",
       "    </tr>\n",
       "    <tr>\n",
       "      <th>D</th>\n",
       "      <td>1.737388</td>\n",
       "      <td>0.565960</td>\n",
       "      <td>0.357055</td>\n",
       "      <td>-1.026441</td>\n",
       "      <td>0.939492</td>\n",
       "      <td>-0.390186</td>\n",
       "    </tr>\n",
       "  </tbody>\n",
       "</table>\n",
       "</div>"
      ],
      "text/plain": [
       "   2022-02-23  2022-02-24  2022-02-25  2022-02-26  2022-02-27  2022-02-28\n",
       "A    1.216410   -0.750925    1.474223   -1.125284   -0.313378    0.224564\n",
       "B   -0.584314    0.013535   -0.848770   -1.851011   -0.647989   -0.802723\n",
       "C    1.423233   -0.894995   -0.367688    0.611127   -1.353883   -2.523010\n",
       "D    1.737388    0.565960    0.357055   -1.026441    0.939492   -0.390186"
      ]
     },
     "execution_count": 34,
     "metadata": {},
     "output_type": "execute_result"
    }
   ],
   "source": [
    "df.T"
   ]
  },
  {
   "cell_type": "code",
   "execution_count": 35,
   "id": "9b5cb775-7b4b-4cc2-a4e7-a41312bb25be",
   "metadata": {},
   "outputs": [
    {
     "data": {
      "text/html": [
       "<div>\n",
       "<style scoped>\n",
       "    .dataframe tbody tr th:only-of-type {\n",
       "        vertical-align: middle;\n",
       "    }\n",
       "\n",
       "    .dataframe tbody tr th {\n",
       "        vertical-align: top;\n",
       "    }\n",
       "\n",
       "    .dataframe thead th {\n",
       "        text-align: right;\n",
       "    }\n",
       "</style>\n",
       "<table border=\"1\" class=\"dataframe\">\n",
       "  <thead>\n",
       "    <tr style=\"text-align: right;\">\n",
       "      <th></th>\n",
       "      <th>D</th>\n",
       "      <th>C</th>\n",
       "      <th>B</th>\n",
       "      <th>A</th>\n",
       "    </tr>\n",
       "  </thead>\n",
       "  <tbody>\n",
       "    <tr>\n",
       "      <th>2022-02-23</th>\n",
       "      <td>1.737388</td>\n",
       "      <td>1.423233</td>\n",
       "      <td>-0.584314</td>\n",
       "      <td>1.216410</td>\n",
       "    </tr>\n",
       "    <tr>\n",
       "      <th>2022-02-24</th>\n",
       "      <td>0.565960</td>\n",
       "      <td>-0.894995</td>\n",
       "      <td>0.013535</td>\n",
       "      <td>-0.750925</td>\n",
       "    </tr>\n",
       "    <tr>\n",
       "      <th>2022-02-25</th>\n",
       "      <td>0.357055</td>\n",
       "      <td>-0.367688</td>\n",
       "      <td>-0.848770</td>\n",
       "      <td>1.474223</td>\n",
       "    </tr>\n",
       "    <tr>\n",
       "      <th>2022-02-26</th>\n",
       "      <td>-1.026441</td>\n",
       "      <td>0.611127</td>\n",
       "      <td>-1.851011</td>\n",
       "      <td>-1.125284</td>\n",
       "    </tr>\n",
       "    <tr>\n",
       "      <th>2022-02-27</th>\n",
       "      <td>0.939492</td>\n",
       "      <td>-1.353883</td>\n",
       "      <td>-0.647989</td>\n",
       "      <td>-0.313378</td>\n",
       "    </tr>\n",
       "    <tr>\n",
       "      <th>2022-02-28</th>\n",
       "      <td>-0.390186</td>\n",
       "      <td>-2.523010</td>\n",
       "      <td>-0.802723</td>\n",
       "      <td>0.224564</td>\n",
       "    </tr>\n",
       "  </tbody>\n",
       "</table>\n",
       "</div>"
      ],
      "text/plain": [
       "                   D         C         B         A\n",
       "2022-02-23  1.737388  1.423233 -0.584314  1.216410\n",
       "2022-02-24  0.565960 -0.894995  0.013535 -0.750925\n",
       "2022-02-25  0.357055 -0.367688 -0.848770  1.474223\n",
       "2022-02-26 -1.026441  0.611127 -1.851011 -1.125284\n",
       "2022-02-27  0.939492 -1.353883 -0.647989 -0.313378\n",
       "2022-02-28 -0.390186 -2.523010 -0.802723  0.224564"
      ]
     },
     "execution_count": 35,
     "metadata": {},
     "output_type": "execute_result"
    }
   ],
   "source": [
    "df.sort_index(axis=1, ascending=False)"
   ]
  },
  {
   "cell_type": "code",
   "execution_count": 36,
   "id": "fc4cfd1d-fd34-43db-98de-15336d3a17b0",
   "metadata": {},
   "outputs": [
    {
     "data": {
      "text/html": [
       "<div>\n",
       "<style scoped>\n",
       "    .dataframe tbody tr th:only-of-type {\n",
       "        vertical-align: middle;\n",
       "    }\n",
       "\n",
       "    .dataframe tbody tr th {\n",
       "        vertical-align: top;\n",
       "    }\n",
       "\n",
       "    .dataframe thead th {\n",
       "        text-align: right;\n",
       "    }\n",
       "</style>\n",
       "<table border=\"1\" class=\"dataframe\">\n",
       "  <thead>\n",
       "    <tr style=\"text-align: right;\">\n",
       "      <th></th>\n",
       "      <th>A</th>\n",
       "      <th>B</th>\n",
       "      <th>C</th>\n",
       "      <th>D</th>\n",
       "    </tr>\n",
       "  </thead>\n",
       "  <tbody>\n",
       "    <tr>\n",
       "      <th>2022-02-26</th>\n",
       "      <td>-1.125284</td>\n",
       "      <td>-1.851011</td>\n",
       "      <td>0.611127</td>\n",
       "      <td>-1.026441</td>\n",
       "    </tr>\n",
       "    <tr>\n",
       "      <th>2022-02-25</th>\n",
       "      <td>1.474223</td>\n",
       "      <td>-0.848770</td>\n",
       "      <td>-0.367688</td>\n",
       "      <td>0.357055</td>\n",
       "    </tr>\n",
       "    <tr>\n",
       "      <th>2022-02-28</th>\n",
       "      <td>0.224564</td>\n",
       "      <td>-0.802723</td>\n",
       "      <td>-2.523010</td>\n",
       "      <td>-0.390186</td>\n",
       "    </tr>\n",
       "    <tr>\n",
       "      <th>2022-02-27</th>\n",
       "      <td>-0.313378</td>\n",
       "      <td>-0.647989</td>\n",
       "      <td>-1.353883</td>\n",
       "      <td>0.939492</td>\n",
       "    </tr>\n",
       "    <tr>\n",
       "      <th>2022-02-23</th>\n",
       "      <td>1.216410</td>\n",
       "      <td>-0.584314</td>\n",
       "      <td>1.423233</td>\n",
       "      <td>1.737388</td>\n",
       "    </tr>\n",
       "    <tr>\n",
       "      <th>2022-02-24</th>\n",
       "      <td>-0.750925</td>\n",
       "      <td>0.013535</td>\n",
       "      <td>-0.894995</td>\n",
       "      <td>0.565960</td>\n",
       "    </tr>\n",
       "  </tbody>\n",
       "</table>\n",
       "</div>"
      ],
      "text/plain": [
       "                   A         B         C         D\n",
       "2022-02-26 -1.125284 -1.851011  0.611127 -1.026441\n",
       "2022-02-25  1.474223 -0.848770 -0.367688  0.357055\n",
       "2022-02-28  0.224564 -0.802723 -2.523010 -0.390186\n",
       "2022-02-27 -0.313378 -0.647989 -1.353883  0.939492\n",
       "2022-02-23  1.216410 -0.584314  1.423233  1.737388\n",
       "2022-02-24 -0.750925  0.013535 -0.894995  0.565960"
      ]
     },
     "execution_count": 36,
     "metadata": {},
     "output_type": "execute_result"
    }
   ],
   "source": [
    "df.sort_values(by=\"B\")"
   ]
  },
  {
   "cell_type": "code",
   "execution_count": 37,
   "id": "c53fca63-6a57-4b24-8eaf-e8dcb3578a3b",
   "metadata": {},
   "outputs": [
    {
     "data": {
      "text/plain": [
       "2022-02-23    1.216410\n",
       "2022-02-24   -0.750925\n",
       "2022-02-25    1.474223\n",
       "2022-02-26   -1.125284\n",
       "2022-02-27   -0.313378\n",
       "2022-02-28    0.224564\n",
       "Freq: D, Name: A, dtype: float64"
      ]
     },
     "execution_count": 37,
     "metadata": {},
     "output_type": "execute_result"
    }
   ],
   "source": [
    "df[\"A\"]"
   ]
  },
  {
   "cell_type": "code",
   "execution_count": 38,
   "id": "0bdbad0b-7a9c-47b4-bc0a-a2cb16e1c034",
   "metadata": {},
   "outputs": [
    {
     "data": {
      "text/html": [
       "<div>\n",
       "<style scoped>\n",
       "    .dataframe tbody tr th:only-of-type {\n",
       "        vertical-align: middle;\n",
       "    }\n",
       "\n",
       "    .dataframe tbody tr th {\n",
       "        vertical-align: top;\n",
       "    }\n",
       "\n",
       "    .dataframe thead th {\n",
       "        text-align: right;\n",
       "    }\n",
       "</style>\n",
       "<table border=\"1\" class=\"dataframe\">\n",
       "  <thead>\n",
       "    <tr style=\"text-align: right;\">\n",
       "      <th></th>\n",
       "      <th>A</th>\n",
       "      <th>B</th>\n",
       "      <th>C</th>\n",
       "      <th>D</th>\n",
       "    </tr>\n",
       "  </thead>\n",
       "  <tbody>\n",
       "    <tr>\n",
       "      <th>2022-02-23</th>\n",
       "      <td>1.216410</td>\n",
       "      <td>-0.584314</td>\n",
       "      <td>1.423233</td>\n",
       "      <td>1.737388</td>\n",
       "    </tr>\n",
       "    <tr>\n",
       "      <th>2022-02-24</th>\n",
       "      <td>-0.750925</td>\n",
       "      <td>0.013535</td>\n",
       "      <td>-0.894995</td>\n",
       "      <td>0.565960</td>\n",
       "    </tr>\n",
       "    <tr>\n",
       "      <th>2022-02-25</th>\n",
       "      <td>1.474223</td>\n",
       "      <td>-0.848770</td>\n",
       "      <td>-0.367688</td>\n",
       "      <td>0.357055</td>\n",
       "    </tr>\n",
       "  </tbody>\n",
       "</table>\n",
       "</div>"
      ],
      "text/plain": [
       "                   A         B         C         D\n",
       "2022-02-23  1.216410 -0.584314  1.423233  1.737388\n",
       "2022-02-24 -0.750925  0.013535 -0.894995  0.565960\n",
       "2022-02-25  1.474223 -0.848770 -0.367688  0.357055"
      ]
     },
     "execution_count": 38,
     "metadata": {},
     "output_type": "execute_result"
    }
   ],
   "source": [
    "df[0:3]"
   ]
  },
  {
   "cell_type": "code",
   "execution_count": 39,
   "id": "362eeab5-7596-4843-99aa-459eb9cec5c2",
   "metadata": {},
   "outputs": [
    {
     "data": {
      "text/html": [
       "<div>\n",
       "<style scoped>\n",
       "    .dataframe tbody tr th:only-of-type {\n",
       "        vertical-align: middle;\n",
       "    }\n",
       "\n",
       "    .dataframe tbody tr th {\n",
       "        vertical-align: top;\n",
       "    }\n",
       "\n",
       "    .dataframe thead th {\n",
       "        text-align: right;\n",
       "    }\n",
       "</style>\n",
       "<table border=\"1\" class=\"dataframe\">\n",
       "  <thead>\n",
       "    <tr style=\"text-align: right;\">\n",
       "      <th></th>\n",
       "      <th>A</th>\n",
       "      <th>B</th>\n",
       "      <th>C</th>\n",
       "      <th>D</th>\n",
       "    </tr>\n",
       "  </thead>\n",
       "  <tbody>\n",
       "    <tr>\n",
       "      <th>2022-02-24</th>\n",
       "      <td>-0.750925</td>\n",
       "      <td>0.013535</td>\n",
       "      <td>-0.894995</td>\n",
       "      <td>0.565960</td>\n",
       "    </tr>\n",
       "    <tr>\n",
       "      <th>2022-02-25</th>\n",
       "      <td>1.474223</td>\n",
       "      <td>-0.848770</td>\n",
       "      <td>-0.367688</td>\n",
       "      <td>0.357055</td>\n",
       "    </tr>\n",
       "    <tr>\n",
       "      <th>2022-02-26</th>\n",
       "      <td>-1.125284</td>\n",
       "      <td>-1.851011</td>\n",
       "      <td>0.611127</td>\n",
       "      <td>-1.026441</td>\n",
       "    </tr>\n",
       "    <tr>\n",
       "      <th>2022-02-27</th>\n",
       "      <td>-0.313378</td>\n",
       "      <td>-0.647989</td>\n",
       "      <td>-1.353883</td>\n",
       "      <td>0.939492</td>\n",
       "    </tr>\n",
       "    <tr>\n",
       "      <th>2022-02-28</th>\n",
       "      <td>0.224564</td>\n",
       "      <td>-0.802723</td>\n",
       "      <td>-2.523010</td>\n",
       "      <td>-0.390186</td>\n",
       "    </tr>\n",
       "  </tbody>\n",
       "</table>\n",
       "</div>"
      ],
      "text/plain": [
       "                   A         B         C         D\n",
       "2022-02-24 -0.750925  0.013535 -0.894995  0.565960\n",
       "2022-02-25  1.474223 -0.848770 -0.367688  0.357055\n",
       "2022-02-26 -1.125284 -1.851011  0.611127 -1.026441\n",
       "2022-02-27 -0.313378 -0.647989 -1.353883  0.939492\n",
       "2022-02-28  0.224564 -0.802723 -2.523010 -0.390186"
      ]
     },
     "execution_count": 39,
     "metadata": {},
     "output_type": "execute_result"
    }
   ],
   "source": [
    "df[\"20220224\":\"20220228\"]"
   ]
  },
  {
   "cell_type": "code",
   "execution_count": 40,
   "id": "cc5e6343-f974-4f20-9944-3951b443ceed",
   "metadata": {},
   "outputs": [
    {
     "data": {
      "text/plain": [
       "A    1.216410\n",
       "B   -0.584314\n",
       "C    1.423233\n",
       "D    1.737388\n",
       "Name: 2022-02-23 00:00:00, dtype: float64"
      ]
     },
     "execution_count": 40,
     "metadata": {},
     "output_type": "execute_result"
    }
   ],
   "source": [
    "df.loc[dates[0]]"
   ]
  },
  {
   "cell_type": "code",
   "execution_count": 42,
   "id": "a2cd94a9-5691-4851-9e92-2f40c61c7c2c",
   "metadata": {},
   "outputs": [
    {
     "data": {
      "text/html": [
       "<div>\n",
       "<style scoped>\n",
       "    .dataframe tbody tr th:only-of-type {\n",
       "        vertical-align: middle;\n",
       "    }\n",
       "\n",
       "    .dataframe tbody tr th {\n",
       "        vertical-align: top;\n",
       "    }\n",
       "\n",
       "    .dataframe thead th {\n",
       "        text-align: right;\n",
       "    }\n",
       "</style>\n",
       "<table border=\"1\" class=\"dataframe\">\n",
       "  <thead>\n",
       "    <tr style=\"text-align: right;\">\n",
       "      <th></th>\n",
       "      <th>A</th>\n",
       "      <th>B</th>\n",
       "    </tr>\n",
       "  </thead>\n",
       "  <tbody>\n",
       "    <tr>\n",
       "      <th>2022-02-23</th>\n",
       "      <td>1.216410</td>\n",
       "      <td>-0.584314</td>\n",
       "    </tr>\n",
       "    <tr>\n",
       "      <th>2022-02-24</th>\n",
       "      <td>-0.750925</td>\n",
       "      <td>0.013535</td>\n",
       "    </tr>\n",
       "    <tr>\n",
       "      <th>2022-02-25</th>\n",
       "      <td>1.474223</td>\n",
       "      <td>-0.848770</td>\n",
       "    </tr>\n",
       "    <tr>\n",
       "      <th>2022-02-26</th>\n",
       "      <td>-1.125284</td>\n",
       "      <td>-1.851011</td>\n",
       "    </tr>\n",
       "    <tr>\n",
       "      <th>2022-02-27</th>\n",
       "      <td>-0.313378</td>\n",
       "      <td>-0.647989</td>\n",
       "    </tr>\n",
       "    <tr>\n",
       "      <th>2022-02-28</th>\n",
       "      <td>0.224564</td>\n",
       "      <td>-0.802723</td>\n",
       "    </tr>\n",
       "  </tbody>\n",
       "</table>\n",
       "</div>"
      ],
      "text/plain": [
       "                   A         B\n",
       "2022-02-23  1.216410 -0.584314\n",
       "2022-02-24 -0.750925  0.013535\n",
       "2022-02-25  1.474223 -0.848770\n",
       "2022-02-26 -1.125284 -1.851011\n",
       "2022-02-27 -0.313378 -0.647989\n",
       "2022-02-28  0.224564 -0.802723"
      ]
     },
     "execution_count": 42,
     "metadata": {},
     "output_type": "execute_result"
    }
   ],
   "source": [
    "df.loc[:, [\"A\", \"B\"]]"
   ]
  },
  {
   "cell_type": "code",
   "execution_count": 44,
   "id": "1bd964da-aeb6-4730-b1d6-becfa0d3b579",
   "metadata": {},
   "outputs": [
    {
     "data": {
      "text/html": [
       "<div>\n",
       "<style scoped>\n",
       "    .dataframe tbody tr th:only-of-type {\n",
       "        vertical-align: middle;\n",
       "    }\n",
       "\n",
       "    .dataframe tbody tr th {\n",
       "        vertical-align: top;\n",
       "    }\n",
       "\n",
       "    .dataframe thead th {\n",
       "        text-align: right;\n",
       "    }\n",
       "</style>\n",
       "<table border=\"1\" class=\"dataframe\">\n",
       "  <thead>\n",
       "    <tr style=\"text-align: right;\">\n",
       "      <th></th>\n",
       "      <th>A</th>\n",
       "      <th>B</th>\n",
       "    </tr>\n",
       "  </thead>\n",
       "  <tbody>\n",
       "    <tr>\n",
       "      <th>2022-02-25</th>\n",
       "      <td>1.474223</td>\n",
       "      <td>-0.848770</td>\n",
       "    </tr>\n",
       "    <tr>\n",
       "      <th>2022-02-26</th>\n",
       "      <td>-1.125284</td>\n",
       "      <td>-1.851011</td>\n",
       "    </tr>\n",
       "    <tr>\n",
       "      <th>2022-02-27</th>\n",
       "      <td>-0.313378</td>\n",
       "      <td>-0.647989</td>\n",
       "    </tr>\n",
       "    <tr>\n",
       "      <th>2022-02-28</th>\n",
       "      <td>0.224564</td>\n",
       "      <td>-0.802723</td>\n",
       "    </tr>\n",
       "  </tbody>\n",
       "</table>\n",
       "</div>"
      ],
      "text/plain": [
       "                   A         B\n",
       "2022-02-25  1.474223 -0.848770\n",
       "2022-02-26 -1.125284 -1.851011\n",
       "2022-02-27 -0.313378 -0.647989\n",
       "2022-02-28  0.224564 -0.802723"
      ]
     },
     "execution_count": 44,
     "metadata": {},
     "output_type": "execute_result"
    }
   ],
   "source": [
    "df.loc[\"20220225\":\"20220228\", [\"A\", \"B\"]]"
   ]
  },
  {
   "cell_type": "code",
   "execution_count": 45,
   "id": "4b848620-1eb9-4672-a428-214d9890225e",
   "metadata": {},
   "outputs": [
    {
     "data": {
      "text/plain": [
       "A    0.224564\n",
       "B   -0.802723\n",
       "Name: 2022-02-28 00:00:00, dtype: float64"
      ]
     },
     "execution_count": 45,
     "metadata": {},
     "output_type": "execute_result"
    }
   ],
   "source": [
    "df.loc[\"20220228\", [\"A\", \"B\"]]"
   ]
  },
  {
   "cell_type": "code",
   "execution_count": 46,
   "id": "1f11f472-347a-4670-9a98-fca14c03b2b7",
   "metadata": {},
   "outputs": [
    {
     "data": {
      "text/plain": [
       "1.2164095916595234"
      ]
     },
     "execution_count": 46,
     "metadata": {},
     "output_type": "execute_result"
    }
   ],
   "source": [
    "df.loc[dates[0], \"A\"]"
   ]
  },
  {
   "cell_type": "code",
   "execution_count": 47,
   "id": "238b6379-66a2-4df9-b11f-f99382be8914",
   "metadata": {},
   "outputs": [
    {
     "data": {
      "text/plain": [
       "1.2164095916595234"
      ]
     },
     "execution_count": 47,
     "metadata": {},
     "output_type": "execute_result"
    }
   ],
   "source": [
    "df.at[dates[0], \"A\"]"
   ]
  },
  {
   "cell_type": "code",
   "execution_count": 48,
   "id": "2949e07e-19c7-4e9c-88a2-0888d88b7784",
   "metadata": {},
   "outputs": [
    {
     "data": {
      "text/plain": [
       "A   -1.125284\n",
       "B   -1.851011\n",
       "C    0.611127\n",
       "D   -1.026441\n",
       "Name: 2022-02-26 00:00:00, dtype: float64"
      ]
     },
     "execution_count": 48,
     "metadata": {},
     "output_type": "execute_result"
    }
   ],
   "source": [
    "df.iloc[3]"
   ]
  },
  {
   "cell_type": "code",
   "execution_count": 49,
   "id": "ab2389cd-432f-4cf7-8ac5-20eb0139480c",
   "metadata": {},
   "outputs": [
    {
     "data": {
      "text/html": [
       "<div>\n",
       "<style scoped>\n",
       "    .dataframe tbody tr th:only-of-type {\n",
       "        vertical-align: middle;\n",
       "    }\n",
       "\n",
       "    .dataframe tbody tr th {\n",
       "        vertical-align: top;\n",
       "    }\n",
       "\n",
       "    .dataframe thead th {\n",
       "        text-align: right;\n",
       "    }\n",
       "</style>\n",
       "<table border=\"1\" class=\"dataframe\">\n",
       "  <thead>\n",
       "    <tr style=\"text-align: right;\">\n",
       "      <th></th>\n",
       "      <th>A</th>\n",
       "      <th>B</th>\n",
       "    </tr>\n",
       "  </thead>\n",
       "  <tbody>\n",
       "    <tr>\n",
       "      <th>2022-02-26</th>\n",
       "      <td>-1.125284</td>\n",
       "      <td>-1.851011</td>\n",
       "    </tr>\n",
       "    <tr>\n",
       "      <th>2022-02-27</th>\n",
       "      <td>-0.313378</td>\n",
       "      <td>-0.647989</td>\n",
       "    </tr>\n",
       "  </tbody>\n",
       "</table>\n",
       "</div>"
      ],
      "text/plain": [
       "                   A         B\n",
       "2022-02-26 -1.125284 -1.851011\n",
       "2022-02-27 -0.313378 -0.647989"
      ]
     },
     "execution_count": 49,
     "metadata": {},
     "output_type": "execute_result"
    }
   ],
   "source": [
    "df.iloc[3:5, 0:2]"
   ]
  },
  {
   "cell_type": "code",
   "execution_count": 50,
   "id": "af6fdb42-918b-4960-96ad-a0c9fb54b44a",
   "metadata": {},
   "outputs": [
    {
     "data": {
      "text/html": [
       "<div>\n",
       "<style scoped>\n",
       "    .dataframe tbody tr th:only-of-type {\n",
       "        vertical-align: middle;\n",
       "    }\n",
       "\n",
       "    .dataframe tbody tr th {\n",
       "        vertical-align: top;\n",
       "    }\n",
       "\n",
       "    .dataframe thead th {\n",
       "        text-align: right;\n",
       "    }\n",
       "</style>\n",
       "<table border=\"1\" class=\"dataframe\">\n",
       "  <thead>\n",
       "    <tr style=\"text-align: right;\">\n",
       "      <th></th>\n",
       "      <th>A</th>\n",
       "      <th>B</th>\n",
       "      <th>C</th>\n",
       "      <th>D</th>\n",
       "    </tr>\n",
       "  </thead>\n",
       "  <tbody>\n",
       "    <tr>\n",
       "      <th>2022-02-23</th>\n",
       "      <td>1.216410</td>\n",
       "      <td>-0.584314</td>\n",
       "      <td>1.423233</td>\n",
       "      <td>1.737388</td>\n",
       "    </tr>\n",
       "    <tr>\n",
       "      <th>2022-02-24</th>\n",
       "      <td>-0.750925</td>\n",
       "      <td>0.013535</td>\n",
       "      <td>-0.894995</td>\n",
       "      <td>0.565960</td>\n",
       "    </tr>\n",
       "    <tr>\n",
       "      <th>2022-02-25</th>\n",
       "      <td>1.474223</td>\n",
       "      <td>-0.848770</td>\n",
       "      <td>-0.367688</td>\n",
       "      <td>0.357055</td>\n",
       "    </tr>\n",
       "    <tr>\n",
       "      <th>2022-02-26</th>\n",
       "      <td>-1.125284</td>\n",
       "      <td>-1.851011</td>\n",
       "      <td>0.611127</td>\n",
       "      <td>-1.026441</td>\n",
       "    </tr>\n",
       "    <tr>\n",
       "      <th>2022-02-27</th>\n",
       "      <td>-0.313378</td>\n",
       "      <td>-0.647989</td>\n",
       "      <td>-1.353883</td>\n",
       "      <td>0.939492</td>\n",
       "    </tr>\n",
       "    <tr>\n",
       "      <th>2022-02-28</th>\n",
       "      <td>0.224564</td>\n",
       "      <td>-0.802723</td>\n",
       "      <td>-2.523010</td>\n",
       "      <td>-0.390186</td>\n",
       "    </tr>\n",
       "  </tbody>\n",
       "</table>\n",
       "</div>"
      ],
      "text/plain": [
       "                   A         B         C         D\n",
       "2022-02-23  1.216410 -0.584314  1.423233  1.737388\n",
       "2022-02-24 -0.750925  0.013535 -0.894995  0.565960\n",
       "2022-02-25  1.474223 -0.848770 -0.367688  0.357055\n",
       "2022-02-26 -1.125284 -1.851011  0.611127 -1.026441\n",
       "2022-02-27 -0.313378 -0.647989 -1.353883  0.939492\n",
       "2022-02-28  0.224564 -0.802723 -2.523010 -0.390186"
      ]
     },
     "execution_count": 50,
     "metadata": {},
     "output_type": "execute_result"
    }
   ],
   "source": [
    "df"
   ]
  },
  {
   "cell_type": "code",
   "execution_count": 51,
   "id": "e413bd73-d4a2-47e3-807b-5ee4adc78e89",
   "metadata": {},
   "outputs": [
    {
     "data": {
      "text/html": [
       "<div>\n",
       "<style scoped>\n",
       "    .dataframe tbody tr th:only-of-type {\n",
       "        vertical-align: middle;\n",
       "    }\n",
       "\n",
       "    .dataframe tbody tr th {\n",
       "        vertical-align: top;\n",
       "    }\n",
       "\n",
       "    .dataframe thead th {\n",
       "        text-align: right;\n",
       "    }\n",
       "</style>\n",
       "<table border=\"1\" class=\"dataframe\">\n",
       "  <thead>\n",
       "    <tr style=\"text-align: right;\">\n",
       "      <th></th>\n",
       "      <th>A</th>\n",
       "      <th>C</th>\n",
       "    </tr>\n",
       "  </thead>\n",
       "  <tbody>\n",
       "    <tr>\n",
       "      <th>2022-02-24</th>\n",
       "      <td>-0.750925</td>\n",
       "      <td>-0.894995</td>\n",
       "    </tr>\n",
       "    <tr>\n",
       "      <th>2022-02-25</th>\n",
       "      <td>1.474223</td>\n",
       "      <td>-0.367688</td>\n",
       "    </tr>\n",
       "    <tr>\n",
       "      <th>2022-02-27</th>\n",
       "      <td>-0.313378</td>\n",
       "      <td>-1.353883</td>\n",
       "    </tr>\n",
       "  </tbody>\n",
       "</table>\n",
       "</div>"
      ],
      "text/plain": [
       "                   A         C\n",
       "2022-02-24 -0.750925 -0.894995\n",
       "2022-02-25  1.474223 -0.367688\n",
       "2022-02-27 -0.313378 -1.353883"
      ]
     },
     "execution_count": 51,
     "metadata": {},
     "output_type": "execute_result"
    }
   ],
   "source": [
    "df.iloc[[1, 2, 4], [0, 2]]"
   ]
  },
  {
   "cell_type": "code",
   "execution_count": 52,
   "id": "c605f588-f9a2-4553-a7ca-9958907cbfc2",
   "metadata": {},
   "outputs": [
    {
     "data": {
      "text/html": [
       "<div>\n",
       "<style scoped>\n",
       "    .dataframe tbody tr th:only-of-type {\n",
       "        vertical-align: middle;\n",
       "    }\n",
       "\n",
       "    .dataframe tbody tr th {\n",
       "        vertical-align: top;\n",
       "    }\n",
       "\n",
       "    .dataframe thead th {\n",
       "        text-align: right;\n",
       "    }\n",
       "</style>\n",
       "<table border=\"1\" class=\"dataframe\">\n",
       "  <thead>\n",
       "    <tr style=\"text-align: right;\">\n",
       "      <th></th>\n",
       "      <th>A</th>\n",
       "      <th>B</th>\n",
       "      <th>C</th>\n",
       "      <th>D</th>\n",
       "    </tr>\n",
       "  </thead>\n",
       "  <tbody>\n",
       "    <tr>\n",
       "      <th>2022-02-24</th>\n",
       "      <td>-0.750925</td>\n",
       "      <td>0.013535</td>\n",
       "      <td>-0.894995</td>\n",
       "      <td>0.565960</td>\n",
       "    </tr>\n",
       "    <tr>\n",
       "      <th>2022-02-25</th>\n",
       "      <td>1.474223</td>\n",
       "      <td>-0.848770</td>\n",
       "      <td>-0.367688</td>\n",
       "      <td>0.357055</td>\n",
       "    </tr>\n",
       "  </tbody>\n",
       "</table>\n",
       "</div>"
      ],
      "text/plain": [
       "                   A         B         C         D\n",
       "2022-02-24 -0.750925  0.013535 -0.894995  0.565960\n",
       "2022-02-25  1.474223 -0.848770 -0.367688  0.357055"
      ]
     },
     "execution_count": 52,
     "metadata": {},
     "output_type": "execute_result"
    }
   ],
   "source": [
    "df.iloc[1:3, :]"
   ]
  },
  {
   "cell_type": "code",
   "execution_count": 53,
   "id": "6ad7b712-d4fa-4240-bba4-29bba32da515",
   "metadata": {},
   "outputs": [
    {
     "data": {
      "text/html": [
       "<div>\n",
       "<style scoped>\n",
       "    .dataframe tbody tr th:only-of-type {\n",
       "        vertical-align: middle;\n",
       "    }\n",
       "\n",
       "    .dataframe tbody tr th {\n",
       "        vertical-align: top;\n",
       "    }\n",
       "\n",
       "    .dataframe thead th {\n",
       "        text-align: right;\n",
       "    }\n",
       "</style>\n",
       "<table border=\"1\" class=\"dataframe\">\n",
       "  <thead>\n",
       "    <tr style=\"text-align: right;\">\n",
       "      <th></th>\n",
       "      <th>B</th>\n",
       "      <th>C</th>\n",
       "    </tr>\n",
       "  </thead>\n",
       "  <tbody>\n",
       "    <tr>\n",
       "      <th>2022-02-23</th>\n",
       "      <td>-0.584314</td>\n",
       "      <td>1.423233</td>\n",
       "    </tr>\n",
       "    <tr>\n",
       "      <th>2022-02-24</th>\n",
       "      <td>0.013535</td>\n",
       "      <td>-0.894995</td>\n",
       "    </tr>\n",
       "    <tr>\n",
       "      <th>2022-02-25</th>\n",
       "      <td>-0.848770</td>\n",
       "      <td>-0.367688</td>\n",
       "    </tr>\n",
       "    <tr>\n",
       "      <th>2022-02-26</th>\n",
       "      <td>-1.851011</td>\n",
       "      <td>0.611127</td>\n",
       "    </tr>\n",
       "    <tr>\n",
       "      <th>2022-02-27</th>\n",
       "      <td>-0.647989</td>\n",
       "      <td>-1.353883</td>\n",
       "    </tr>\n",
       "    <tr>\n",
       "      <th>2022-02-28</th>\n",
       "      <td>-0.802723</td>\n",
       "      <td>-2.523010</td>\n",
       "    </tr>\n",
       "  </tbody>\n",
       "</table>\n",
       "</div>"
      ],
      "text/plain": [
       "                   B         C\n",
       "2022-02-23 -0.584314  1.423233\n",
       "2022-02-24  0.013535 -0.894995\n",
       "2022-02-25 -0.848770 -0.367688\n",
       "2022-02-26 -1.851011  0.611127\n",
       "2022-02-27 -0.647989 -1.353883\n",
       "2022-02-28 -0.802723 -2.523010"
      ]
     },
     "execution_count": 53,
     "metadata": {},
     "output_type": "execute_result"
    }
   ],
   "source": [
    "df.iloc[:, 1:3]"
   ]
  },
  {
   "cell_type": "code",
   "execution_count": 54,
   "id": "8a644fae-a556-47e5-ba39-ed3719541734",
   "metadata": {},
   "outputs": [
    {
     "data": {
      "text/plain": [
       "0.013534589744097242"
      ]
     },
     "execution_count": 54,
     "metadata": {},
     "output_type": "execute_result"
    }
   ],
   "source": [
    "df.iloc[1, 1]"
   ]
  },
  {
   "cell_type": "code",
   "execution_count": 55,
   "id": "55408c41-e455-45c8-85a1-f84a03f1a18d",
   "metadata": {},
   "outputs": [
    {
     "data": {
      "text/plain": [
       "0.013534589744097242"
      ]
     },
     "execution_count": 55,
     "metadata": {},
     "output_type": "execute_result"
    }
   ],
   "source": [
    "df.iat[1, 1]"
   ]
  },
  {
   "cell_type": "code",
   "execution_count": 56,
   "id": "4d2dd0c8-a78a-471f-92cb-d427bb721c52",
   "metadata": {},
   "outputs": [
    {
     "data": {
      "text/html": [
       "<div>\n",
       "<style scoped>\n",
       "    .dataframe tbody tr th:only-of-type {\n",
       "        vertical-align: middle;\n",
       "    }\n",
       "\n",
       "    .dataframe tbody tr th {\n",
       "        vertical-align: top;\n",
       "    }\n",
       "\n",
       "    .dataframe thead th {\n",
       "        text-align: right;\n",
       "    }\n",
       "</style>\n",
       "<table border=\"1\" class=\"dataframe\">\n",
       "  <thead>\n",
       "    <tr style=\"text-align: right;\">\n",
       "      <th></th>\n",
       "      <th>A</th>\n",
       "      <th>B</th>\n",
       "      <th>C</th>\n",
       "      <th>D</th>\n",
       "    </tr>\n",
       "  </thead>\n",
       "  <tbody>\n",
       "    <tr>\n",
       "      <th>2022-02-23</th>\n",
       "      <td>1.216410</td>\n",
       "      <td>-0.584314</td>\n",
       "      <td>1.423233</td>\n",
       "      <td>1.737388</td>\n",
       "    </tr>\n",
       "    <tr>\n",
       "      <th>2022-02-25</th>\n",
       "      <td>1.474223</td>\n",
       "      <td>-0.848770</td>\n",
       "      <td>-0.367688</td>\n",
       "      <td>0.357055</td>\n",
       "    </tr>\n",
       "    <tr>\n",
       "      <th>2022-02-28</th>\n",
       "      <td>0.224564</td>\n",
       "      <td>-0.802723</td>\n",
       "      <td>-2.523010</td>\n",
       "      <td>-0.390186</td>\n",
       "    </tr>\n",
       "  </tbody>\n",
       "</table>\n",
       "</div>"
      ],
      "text/plain": [
       "                   A         B         C         D\n",
       "2022-02-23  1.216410 -0.584314  1.423233  1.737388\n",
       "2022-02-25  1.474223 -0.848770 -0.367688  0.357055\n",
       "2022-02-28  0.224564 -0.802723 -2.523010 -0.390186"
      ]
     },
     "execution_count": 56,
     "metadata": {},
     "output_type": "execute_result"
    }
   ],
   "source": [
    "df[df[\"A\"] > 0]"
   ]
  },
  {
   "cell_type": "code",
   "execution_count": 57,
   "id": "aed4abc5-cb10-4ca7-ab10-94b107679f17",
   "metadata": {},
   "outputs": [
    {
     "data": {
      "text/html": [
       "<div>\n",
       "<style scoped>\n",
       "    .dataframe tbody tr th:only-of-type {\n",
       "        vertical-align: middle;\n",
       "    }\n",
       "\n",
       "    .dataframe tbody tr th {\n",
       "        vertical-align: top;\n",
       "    }\n",
       "\n",
       "    .dataframe thead th {\n",
       "        text-align: right;\n",
       "    }\n",
       "</style>\n",
       "<table border=\"1\" class=\"dataframe\">\n",
       "  <thead>\n",
       "    <tr style=\"text-align: right;\">\n",
       "      <th></th>\n",
       "      <th>A</th>\n",
       "      <th>B</th>\n",
       "      <th>C</th>\n",
       "      <th>D</th>\n",
       "    </tr>\n",
       "  </thead>\n",
       "  <tbody>\n",
       "    <tr>\n",
       "      <th>2022-02-23</th>\n",
       "      <td>1.216410</td>\n",
       "      <td>NaN</td>\n",
       "      <td>1.423233</td>\n",
       "      <td>1.737388</td>\n",
       "    </tr>\n",
       "    <tr>\n",
       "      <th>2022-02-24</th>\n",
       "      <td>NaN</td>\n",
       "      <td>0.013535</td>\n",
       "      <td>NaN</td>\n",
       "      <td>0.565960</td>\n",
       "    </tr>\n",
       "    <tr>\n",
       "      <th>2022-02-25</th>\n",
       "      <td>1.474223</td>\n",
       "      <td>NaN</td>\n",
       "      <td>NaN</td>\n",
       "      <td>0.357055</td>\n",
       "    </tr>\n",
       "    <tr>\n",
       "      <th>2022-02-26</th>\n",
       "      <td>NaN</td>\n",
       "      <td>NaN</td>\n",
       "      <td>0.611127</td>\n",
       "      <td>NaN</td>\n",
       "    </tr>\n",
       "    <tr>\n",
       "      <th>2022-02-27</th>\n",
       "      <td>NaN</td>\n",
       "      <td>NaN</td>\n",
       "      <td>NaN</td>\n",
       "      <td>0.939492</td>\n",
       "    </tr>\n",
       "    <tr>\n",
       "      <th>2022-02-28</th>\n",
       "      <td>0.224564</td>\n",
       "      <td>NaN</td>\n",
       "      <td>NaN</td>\n",
       "      <td>NaN</td>\n",
       "    </tr>\n",
       "  </tbody>\n",
       "</table>\n",
       "</div>"
      ],
      "text/plain": [
       "                   A         B         C         D\n",
       "2022-02-23  1.216410       NaN  1.423233  1.737388\n",
       "2022-02-24       NaN  0.013535       NaN  0.565960\n",
       "2022-02-25  1.474223       NaN       NaN  0.357055\n",
       "2022-02-26       NaN       NaN  0.611127       NaN\n",
       "2022-02-27       NaN       NaN       NaN  0.939492\n",
       "2022-02-28  0.224564       NaN       NaN       NaN"
      ]
     },
     "execution_count": 57,
     "metadata": {},
     "output_type": "execute_result"
    }
   ],
   "source": [
    "df[df > 0]"
   ]
  },
  {
   "cell_type": "code",
   "execution_count": 58,
   "id": "00a25753-d177-4903-a6b2-d9c5ae263d81",
   "metadata": {},
   "outputs": [],
   "source": [
    "df2 = df.copy()"
   ]
  },
  {
   "cell_type": "code",
   "execution_count": 60,
   "id": "b7f8aec5-78a8-48c4-bb61-6ace1415094a",
   "metadata": {},
   "outputs": [
    {
     "data": {
      "text/html": [
       "<div>\n",
       "<style scoped>\n",
       "    .dataframe tbody tr th:only-of-type {\n",
       "        vertical-align: middle;\n",
       "    }\n",
       "\n",
       "    .dataframe tbody tr th {\n",
       "        vertical-align: top;\n",
       "    }\n",
       "\n",
       "    .dataframe thead th {\n",
       "        text-align: right;\n",
       "    }\n",
       "</style>\n",
       "<table border=\"1\" class=\"dataframe\">\n",
       "  <thead>\n",
       "    <tr style=\"text-align: right;\">\n",
       "      <th></th>\n",
       "      <th>A</th>\n",
       "      <th>B</th>\n",
       "      <th>C</th>\n",
       "      <th>D</th>\n",
       "      <th>E</th>\n",
       "    </tr>\n",
       "  </thead>\n",
       "  <tbody>\n",
       "    <tr>\n",
       "      <th>2022-02-23</th>\n",
       "      <td>1.216410</td>\n",
       "      <td>-0.584314</td>\n",
       "      <td>1.423233</td>\n",
       "      <td>1.737388</td>\n",
       "      <td>one</td>\n",
       "    </tr>\n",
       "    <tr>\n",
       "      <th>2022-02-24</th>\n",
       "      <td>-0.750925</td>\n",
       "      <td>0.013535</td>\n",
       "      <td>-0.894995</td>\n",
       "      <td>0.565960</td>\n",
       "      <td>one</td>\n",
       "    </tr>\n",
       "    <tr>\n",
       "      <th>2022-02-25</th>\n",
       "      <td>1.474223</td>\n",
       "      <td>-0.848770</td>\n",
       "      <td>-0.367688</td>\n",
       "      <td>0.357055</td>\n",
       "      <td>two</td>\n",
       "    </tr>\n",
       "    <tr>\n",
       "      <th>2022-02-26</th>\n",
       "      <td>-1.125284</td>\n",
       "      <td>-1.851011</td>\n",
       "      <td>0.611127</td>\n",
       "      <td>-1.026441</td>\n",
       "      <td>three</td>\n",
       "    </tr>\n",
       "    <tr>\n",
       "      <th>2022-02-27</th>\n",
       "      <td>-0.313378</td>\n",
       "      <td>-0.647989</td>\n",
       "      <td>-1.353883</td>\n",
       "      <td>0.939492</td>\n",
       "      <td>four</td>\n",
       "    </tr>\n",
       "    <tr>\n",
       "      <th>2022-02-28</th>\n",
       "      <td>0.224564</td>\n",
       "      <td>-0.802723</td>\n",
       "      <td>-2.523010</td>\n",
       "      <td>-0.390186</td>\n",
       "      <td>three</td>\n",
       "    </tr>\n",
       "  </tbody>\n",
       "</table>\n",
       "</div>"
      ],
      "text/plain": [
       "                   A         B         C         D      E\n",
       "2022-02-23  1.216410 -0.584314  1.423233  1.737388    one\n",
       "2022-02-24 -0.750925  0.013535 -0.894995  0.565960    one\n",
       "2022-02-25  1.474223 -0.848770 -0.367688  0.357055    two\n",
       "2022-02-26 -1.125284 -1.851011  0.611127 -1.026441  three\n",
       "2022-02-27 -0.313378 -0.647989 -1.353883  0.939492   four\n",
       "2022-02-28  0.224564 -0.802723 -2.523010 -0.390186  three"
      ]
     },
     "execution_count": 60,
     "metadata": {},
     "output_type": "execute_result"
    }
   ],
   "source": [
    "df2[\"E\"] = [\"one\", \"one\", \"two\", \"three\", \"four\", \"three\"]\n",
    "df2"
   ]
  },
  {
   "cell_type": "code",
   "execution_count": 61,
   "id": "11725ef8-1a6e-42eb-9379-51bdc73beb10",
   "metadata": {},
   "outputs": [
    {
     "data": {
      "text/html": [
       "<div>\n",
       "<style scoped>\n",
       "    .dataframe tbody tr th:only-of-type {\n",
       "        vertical-align: middle;\n",
       "    }\n",
       "\n",
       "    .dataframe tbody tr th {\n",
       "        vertical-align: top;\n",
       "    }\n",
       "\n",
       "    .dataframe thead th {\n",
       "        text-align: right;\n",
       "    }\n",
       "</style>\n",
       "<table border=\"1\" class=\"dataframe\">\n",
       "  <thead>\n",
       "    <tr style=\"text-align: right;\">\n",
       "      <th></th>\n",
       "      <th>A</th>\n",
       "      <th>B</th>\n",
       "      <th>C</th>\n",
       "      <th>D</th>\n",
       "      <th>E</th>\n",
       "    </tr>\n",
       "  </thead>\n",
       "  <tbody>\n",
       "    <tr>\n",
       "      <th>2022-02-25</th>\n",
       "      <td>1.474223</td>\n",
       "      <td>-0.848770</td>\n",
       "      <td>-0.367688</td>\n",
       "      <td>0.357055</td>\n",
       "      <td>two</td>\n",
       "    </tr>\n",
       "    <tr>\n",
       "      <th>2022-02-27</th>\n",
       "      <td>-0.313378</td>\n",
       "      <td>-0.647989</td>\n",
       "      <td>-1.353883</td>\n",
       "      <td>0.939492</td>\n",
       "      <td>four</td>\n",
       "    </tr>\n",
       "  </tbody>\n",
       "</table>\n",
       "</div>"
      ],
      "text/plain": [
       "                   A         B         C         D     E\n",
       "2022-02-25  1.474223 -0.848770 -0.367688  0.357055   two\n",
       "2022-02-27 -0.313378 -0.647989 -1.353883  0.939492  four"
      ]
     },
     "execution_count": 61,
     "metadata": {},
     "output_type": "execute_result"
    }
   ],
   "source": [
    "df2[df2[\"E\"].isin([\"two\", \"four\"])]"
   ]
  },
  {
   "cell_type": "code",
   "execution_count": 63,
   "id": "6c76dc9c-17bd-43fd-b7b2-21524d8ea855",
   "metadata": {},
   "outputs": [
    {
     "data": {
      "text/plain": [
       "2022-02-23    1\n",
       "2022-02-24    2\n",
       "2022-02-25    3\n",
       "2022-02-26    4\n",
       "2022-02-27    5\n",
       "2022-02-28    6\n",
       "Freq: D, dtype: int64"
      ]
     },
     "execution_count": 63,
     "metadata": {},
     "output_type": "execute_result"
    }
   ],
   "source": [
    "s1 = pd.Series([1, 2, 3, 4, 5, 6], index=pd.date_range(\"20220223\", periods=6))\n",
    "s1"
   ]
  },
  {
   "cell_type": "code",
   "execution_count": 77,
   "id": "e6cf022d-b082-48fa-8ce6-58432f5bb552",
   "metadata": {},
   "outputs": [
    {
     "data": {
      "text/html": [
       "<div>\n",
       "<style scoped>\n",
       "    .dataframe tbody tr th:only-of-type {\n",
       "        vertical-align: middle;\n",
       "    }\n",
       "\n",
       "    .dataframe tbody tr th {\n",
       "        vertical-align: top;\n",
       "    }\n",
       "\n",
       "    .dataframe thead th {\n",
       "        text-align: right;\n",
       "    }\n",
       "</style>\n",
       "<table border=\"1\" class=\"dataframe\">\n",
       "  <thead>\n",
       "    <tr style=\"text-align: right;\">\n",
       "      <th></th>\n",
       "      <th>A</th>\n",
       "      <th>B</th>\n",
       "      <th>C</th>\n",
       "      <th>D</th>\n",
       "      <th>F</th>\n",
       "    </tr>\n",
       "  </thead>\n",
       "  <tbody>\n",
       "    <tr>\n",
       "      <th>2022-02-23</th>\n",
       "      <td>0.000000</td>\n",
       "      <td>-0.584314</td>\n",
       "      <td>1.423233</td>\n",
       "      <td>1.737388</td>\n",
       "      <td>1</td>\n",
       "    </tr>\n",
       "    <tr>\n",
       "      <th>2022-02-24</th>\n",
       "      <td>-0.750925</td>\n",
       "      <td>0.013535</td>\n",
       "      <td>-0.894995</td>\n",
       "      <td>0.565960</td>\n",
       "      <td>2</td>\n",
       "    </tr>\n",
       "    <tr>\n",
       "      <th>2022-02-25</th>\n",
       "      <td>1.474223</td>\n",
       "      <td>-0.848770</td>\n",
       "      <td>-0.367688</td>\n",
       "      <td>0.357055</td>\n",
       "      <td>3</td>\n",
       "    </tr>\n",
       "    <tr>\n",
       "      <th>2022-02-26</th>\n",
       "      <td>-1.125284</td>\n",
       "      <td>-1.851011</td>\n",
       "      <td>0.611127</td>\n",
       "      <td>-1.026441</td>\n",
       "      <td>4</td>\n",
       "    </tr>\n",
       "    <tr>\n",
       "      <th>2022-02-27</th>\n",
       "      <td>-0.313378</td>\n",
       "      <td>-0.647989</td>\n",
       "      <td>-1.353883</td>\n",
       "      <td>0.939492</td>\n",
       "      <td>5</td>\n",
       "    </tr>\n",
       "    <tr>\n",
       "      <th>2022-02-28</th>\n",
       "      <td>0.224564</td>\n",
       "      <td>-0.802723</td>\n",
       "      <td>-2.523010</td>\n",
       "      <td>-0.390186</td>\n",
       "      <td>6</td>\n",
       "    </tr>\n",
       "  </tbody>\n",
       "</table>\n",
       "</div>"
      ],
      "text/plain": [
       "                   A         B         C         D  F\n",
       "2022-02-23  0.000000 -0.584314  1.423233  1.737388  1\n",
       "2022-02-24 -0.750925  0.013535 -0.894995  0.565960  2\n",
       "2022-02-25  1.474223 -0.848770 -0.367688  0.357055  3\n",
       "2022-02-26 -1.125284 -1.851011  0.611127 -1.026441  4\n",
       "2022-02-27 -0.313378 -0.647989 -1.353883  0.939492  5\n",
       "2022-02-28  0.224564 -0.802723 -2.523010 -0.390186  6"
      ]
     },
     "execution_count": 77,
     "metadata": {},
     "output_type": "execute_result"
    }
   ],
   "source": [
    "df[\"F\"] = s1\n",
    "df"
   ]
  },
  {
   "cell_type": "code",
   "execution_count": 78,
   "id": "909fd81a-70fc-4b8d-a77f-391c6a6dedee",
   "metadata": {},
   "outputs": [
    {
     "data": {
      "text/html": [
       "<div>\n",
       "<style scoped>\n",
       "    .dataframe tbody tr th:only-of-type {\n",
       "        vertical-align: middle;\n",
       "    }\n",
       "\n",
       "    .dataframe tbody tr th {\n",
       "        vertical-align: top;\n",
       "    }\n",
       "\n",
       "    .dataframe thead th {\n",
       "        text-align: right;\n",
       "    }\n",
       "</style>\n",
       "<table border=\"1\" class=\"dataframe\">\n",
       "  <thead>\n",
       "    <tr style=\"text-align: right;\">\n",
       "      <th></th>\n",
       "      <th>A</th>\n",
       "      <th>B</th>\n",
       "      <th>C</th>\n",
       "      <th>D</th>\n",
       "      <th>F</th>\n",
       "    </tr>\n",
       "  </thead>\n",
       "  <tbody>\n",
       "    <tr>\n",
       "      <th>2022-02-23</th>\n",
       "      <td>0.000000</td>\n",
       "      <td>-0.584314</td>\n",
       "      <td>1.423233</td>\n",
       "      <td>1.737388</td>\n",
       "      <td>1</td>\n",
       "    </tr>\n",
       "    <tr>\n",
       "      <th>2022-02-24</th>\n",
       "      <td>-0.750925</td>\n",
       "      <td>0.013535</td>\n",
       "      <td>-0.894995</td>\n",
       "      <td>0.565960</td>\n",
       "      <td>2</td>\n",
       "    </tr>\n",
       "    <tr>\n",
       "      <th>2022-02-25</th>\n",
       "      <td>1.474223</td>\n",
       "      <td>-0.848770</td>\n",
       "      <td>-0.367688</td>\n",
       "      <td>0.357055</td>\n",
       "      <td>3</td>\n",
       "    </tr>\n",
       "    <tr>\n",
       "      <th>2022-02-26</th>\n",
       "      <td>-1.125284</td>\n",
       "      <td>-1.851011</td>\n",
       "      <td>0.611127</td>\n",
       "      <td>-1.026441</td>\n",
       "      <td>4</td>\n",
       "    </tr>\n",
       "    <tr>\n",
       "      <th>2022-02-27</th>\n",
       "      <td>-0.313378</td>\n",
       "      <td>-0.647989</td>\n",
       "      <td>-1.353883</td>\n",
       "      <td>0.939492</td>\n",
       "      <td>5</td>\n",
       "    </tr>\n",
       "    <tr>\n",
       "      <th>2022-02-28</th>\n",
       "      <td>0.224564</td>\n",
       "      <td>-0.802723</td>\n",
       "      <td>-2.523010</td>\n",
       "      <td>-0.390186</td>\n",
       "      <td>6</td>\n",
       "    </tr>\n",
       "  </tbody>\n",
       "</table>\n",
       "</div>"
      ],
      "text/plain": [
       "                   A         B         C         D  F\n",
       "2022-02-23  0.000000 -0.584314  1.423233  1.737388  1\n",
       "2022-02-24 -0.750925  0.013535 -0.894995  0.565960  2\n",
       "2022-02-25  1.474223 -0.848770 -0.367688  0.357055  3\n",
       "2022-02-26 -1.125284 -1.851011  0.611127 -1.026441  4\n",
       "2022-02-27 -0.313378 -0.647989 -1.353883  0.939492  5\n",
       "2022-02-28  0.224564 -0.802723 -2.523010 -0.390186  6"
      ]
     },
     "execution_count": 78,
     "metadata": {},
     "output_type": "execute_result"
    }
   ],
   "source": [
    "df.at[dates[0], \"A\"] = 0\n",
    "df"
   ]
  },
  {
   "cell_type": "code",
   "execution_count": 80,
   "id": "2df75344-bb5c-42af-bc18-3ba324e30039",
   "metadata": {},
   "outputs": [
    {
     "data": {
      "text/html": [
       "<div>\n",
       "<style scoped>\n",
       "    .dataframe tbody tr th:only-of-type {\n",
       "        vertical-align: middle;\n",
       "    }\n",
       "\n",
       "    .dataframe tbody tr th {\n",
       "        vertical-align: top;\n",
       "    }\n",
       "\n",
       "    .dataframe thead th {\n",
       "        text-align: right;\n",
       "    }\n",
       "</style>\n",
       "<table border=\"1\" class=\"dataframe\">\n",
       "  <thead>\n",
       "    <tr style=\"text-align: right;\">\n",
       "      <th></th>\n",
       "      <th>A</th>\n",
       "      <th>B</th>\n",
       "      <th>C</th>\n",
       "      <th>D</th>\n",
       "      <th>F</th>\n",
       "    </tr>\n",
       "  </thead>\n",
       "  <tbody>\n",
       "    <tr>\n",
       "      <th>2022-02-23</th>\n",
       "      <td>0.000000</td>\n",
       "      <td>0.000000</td>\n",
       "      <td>1.423233</td>\n",
       "      <td>1.737388</td>\n",
       "      <td>1</td>\n",
       "    </tr>\n",
       "    <tr>\n",
       "      <th>2022-02-24</th>\n",
       "      <td>-0.750925</td>\n",
       "      <td>0.013535</td>\n",
       "      <td>-0.894995</td>\n",
       "      <td>0.565960</td>\n",
       "      <td>2</td>\n",
       "    </tr>\n",
       "    <tr>\n",
       "      <th>2022-02-25</th>\n",
       "      <td>1.474223</td>\n",
       "      <td>-0.848770</td>\n",
       "      <td>-0.367688</td>\n",
       "      <td>0.357055</td>\n",
       "      <td>3</td>\n",
       "    </tr>\n",
       "    <tr>\n",
       "      <th>2022-02-26</th>\n",
       "      <td>-1.125284</td>\n",
       "      <td>-1.851011</td>\n",
       "      <td>0.611127</td>\n",
       "      <td>-1.026441</td>\n",
       "      <td>4</td>\n",
       "    </tr>\n",
       "    <tr>\n",
       "      <th>2022-02-27</th>\n",
       "      <td>-0.313378</td>\n",
       "      <td>-0.647989</td>\n",
       "      <td>-1.353883</td>\n",
       "      <td>0.939492</td>\n",
       "      <td>5</td>\n",
       "    </tr>\n",
       "    <tr>\n",
       "      <th>2022-02-28</th>\n",
       "      <td>0.224564</td>\n",
       "      <td>-0.802723</td>\n",
       "      <td>-2.523010</td>\n",
       "      <td>-0.390186</td>\n",
       "      <td>6</td>\n",
       "    </tr>\n",
       "  </tbody>\n",
       "</table>\n",
       "</div>"
      ],
      "text/plain": [
       "                   A         B         C         D  F\n",
       "2022-02-23  0.000000  0.000000  1.423233  1.737388  1\n",
       "2022-02-24 -0.750925  0.013535 -0.894995  0.565960  2\n",
       "2022-02-25  1.474223 -0.848770 -0.367688  0.357055  3\n",
       "2022-02-26 -1.125284 -1.851011  0.611127 -1.026441  4\n",
       "2022-02-27 -0.313378 -0.647989 -1.353883  0.939492  5\n",
       "2022-02-28  0.224564 -0.802723 -2.523010 -0.390186  6"
      ]
     },
     "execution_count": 80,
     "metadata": {},
     "output_type": "execute_result"
    }
   ],
   "source": [
    "df.iat[0, 1] = 0\n",
    "df"
   ]
  },
  {
   "cell_type": "code",
   "execution_count": 81,
   "id": "97233881-f8e1-42ff-80f4-bda2d7c6ed73",
   "metadata": {},
   "outputs": [
    {
     "data": {
      "text/html": [
       "<div>\n",
       "<style scoped>\n",
       "    .dataframe tbody tr th:only-of-type {\n",
       "        vertical-align: middle;\n",
       "    }\n",
       "\n",
       "    .dataframe tbody tr th {\n",
       "        vertical-align: top;\n",
       "    }\n",
       "\n",
       "    .dataframe thead th {\n",
       "        text-align: right;\n",
       "    }\n",
       "</style>\n",
       "<table border=\"1\" class=\"dataframe\">\n",
       "  <thead>\n",
       "    <tr style=\"text-align: right;\">\n",
       "      <th></th>\n",
       "      <th>A</th>\n",
       "      <th>B</th>\n",
       "      <th>C</th>\n",
       "      <th>D</th>\n",
       "      <th>F</th>\n",
       "    </tr>\n",
       "  </thead>\n",
       "  <tbody>\n",
       "    <tr>\n",
       "      <th>2022-02-23</th>\n",
       "      <td>0.000000</td>\n",
       "      <td>0.000000</td>\n",
       "      <td>1.423233</td>\n",
       "      <td>5</td>\n",
       "      <td>1</td>\n",
       "    </tr>\n",
       "    <tr>\n",
       "      <th>2022-02-24</th>\n",
       "      <td>-0.750925</td>\n",
       "      <td>0.013535</td>\n",
       "      <td>-0.894995</td>\n",
       "      <td>5</td>\n",
       "      <td>2</td>\n",
       "    </tr>\n",
       "    <tr>\n",
       "      <th>2022-02-25</th>\n",
       "      <td>1.474223</td>\n",
       "      <td>-0.848770</td>\n",
       "      <td>-0.367688</td>\n",
       "      <td>5</td>\n",
       "      <td>3</td>\n",
       "    </tr>\n",
       "    <tr>\n",
       "      <th>2022-02-26</th>\n",
       "      <td>-1.125284</td>\n",
       "      <td>-1.851011</td>\n",
       "      <td>0.611127</td>\n",
       "      <td>5</td>\n",
       "      <td>4</td>\n",
       "    </tr>\n",
       "    <tr>\n",
       "      <th>2022-02-27</th>\n",
       "      <td>-0.313378</td>\n",
       "      <td>-0.647989</td>\n",
       "      <td>-1.353883</td>\n",
       "      <td>5</td>\n",
       "      <td>5</td>\n",
       "    </tr>\n",
       "    <tr>\n",
       "      <th>2022-02-28</th>\n",
       "      <td>0.224564</td>\n",
       "      <td>-0.802723</td>\n",
       "      <td>-2.523010</td>\n",
       "      <td>5</td>\n",
       "      <td>6</td>\n",
       "    </tr>\n",
       "  </tbody>\n",
       "</table>\n",
       "</div>"
      ],
      "text/plain": [
       "                   A         B         C  D  F\n",
       "2022-02-23  0.000000  0.000000  1.423233  5  1\n",
       "2022-02-24 -0.750925  0.013535 -0.894995  5  2\n",
       "2022-02-25  1.474223 -0.848770 -0.367688  5  3\n",
       "2022-02-26 -1.125284 -1.851011  0.611127  5  4\n",
       "2022-02-27 -0.313378 -0.647989 -1.353883  5  5\n",
       "2022-02-28  0.224564 -0.802723 -2.523010  5  6"
      ]
     },
     "execution_count": 81,
     "metadata": {},
     "output_type": "execute_result"
    }
   ],
   "source": [
    "df.loc[:, \"D\"] = np.array([5] * len(df))\n",
    "df"
   ]
  },
  {
   "cell_type": "code",
   "execution_count": 83,
   "id": "19c68726-5561-4082-8f80-16e3b3756009",
   "metadata": {},
   "outputs": [
    {
     "data": {
      "text/html": [
       "<div>\n",
       "<style scoped>\n",
       "    .dataframe tbody tr th:only-of-type {\n",
       "        vertical-align: middle;\n",
       "    }\n",
       "\n",
       "    .dataframe tbody tr th {\n",
       "        vertical-align: top;\n",
       "    }\n",
       "\n",
       "    .dataframe thead th {\n",
       "        text-align: right;\n",
       "    }\n",
       "</style>\n",
       "<table border=\"1\" class=\"dataframe\">\n",
       "  <thead>\n",
       "    <tr style=\"text-align: right;\">\n",
       "      <th></th>\n",
       "      <th>A</th>\n",
       "      <th>B</th>\n",
       "      <th>C</th>\n",
       "      <th>D</th>\n",
       "      <th>F</th>\n",
       "    </tr>\n",
       "  </thead>\n",
       "  <tbody>\n",
       "    <tr>\n",
       "      <th>2022-02-23</th>\n",
       "      <td>0.000000</td>\n",
       "      <td>0.000000</td>\n",
       "      <td>-1.423233</td>\n",
       "      <td>-5</td>\n",
       "      <td>-1</td>\n",
       "    </tr>\n",
       "    <tr>\n",
       "      <th>2022-02-24</th>\n",
       "      <td>-0.750925</td>\n",
       "      <td>-0.013535</td>\n",
       "      <td>-0.894995</td>\n",
       "      <td>-5</td>\n",
       "      <td>-2</td>\n",
       "    </tr>\n",
       "    <tr>\n",
       "      <th>2022-02-25</th>\n",
       "      <td>-1.474223</td>\n",
       "      <td>-0.848770</td>\n",
       "      <td>-0.367688</td>\n",
       "      <td>-5</td>\n",
       "      <td>-3</td>\n",
       "    </tr>\n",
       "    <tr>\n",
       "      <th>2022-02-26</th>\n",
       "      <td>-1.125284</td>\n",
       "      <td>-1.851011</td>\n",
       "      <td>-0.611127</td>\n",
       "      <td>-5</td>\n",
       "      <td>-4</td>\n",
       "    </tr>\n",
       "    <tr>\n",
       "      <th>2022-02-27</th>\n",
       "      <td>-0.313378</td>\n",
       "      <td>-0.647989</td>\n",
       "      <td>-1.353883</td>\n",
       "      <td>-5</td>\n",
       "      <td>-5</td>\n",
       "    </tr>\n",
       "    <tr>\n",
       "      <th>2022-02-28</th>\n",
       "      <td>-0.224564</td>\n",
       "      <td>-0.802723</td>\n",
       "      <td>-2.523010</td>\n",
       "      <td>-5</td>\n",
       "      <td>-6</td>\n",
       "    </tr>\n",
       "  </tbody>\n",
       "</table>\n",
       "</div>"
      ],
      "text/plain": [
       "                   A         B         C  D  F\n",
       "2022-02-23  0.000000  0.000000 -1.423233 -5 -1\n",
       "2022-02-24 -0.750925 -0.013535 -0.894995 -5 -2\n",
       "2022-02-25 -1.474223 -0.848770 -0.367688 -5 -3\n",
       "2022-02-26 -1.125284 -1.851011 -0.611127 -5 -4\n",
       "2022-02-27 -0.313378 -0.647989 -1.353883 -5 -5\n",
       "2022-02-28 -0.224564 -0.802723 -2.523010 -5 -6"
      ]
     },
     "execution_count": 83,
     "metadata": {},
     "output_type": "execute_result"
    }
   ],
   "source": [
    "df2 = df.copy()\n",
    "df2[df2 > 0] = -df2\n",
    "df2"
   ]
  },
  {
   "cell_type": "code",
   "execution_count": 84,
   "id": "37c78138-65a9-486e-b9ff-90966ff580f3",
   "metadata": {},
   "outputs": [
    {
     "data": {
      "text/html": [
       "<div>\n",
       "<style scoped>\n",
       "    .dataframe tbody tr th:only-of-type {\n",
       "        vertical-align: middle;\n",
       "    }\n",
       "\n",
       "    .dataframe tbody tr th {\n",
       "        vertical-align: top;\n",
       "    }\n",
       "\n",
       "    .dataframe thead th {\n",
       "        text-align: right;\n",
       "    }\n",
       "</style>\n",
       "<table border=\"1\" class=\"dataframe\">\n",
       "  <thead>\n",
       "    <tr style=\"text-align: right;\">\n",
       "      <th></th>\n",
       "      <th>A</th>\n",
       "      <th>B</th>\n",
       "      <th>C</th>\n",
       "      <th>D</th>\n",
       "      <th>F</th>\n",
       "      <th>E</th>\n",
       "    </tr>\n",
       "  </thead>\n",
       "  <tbody>\n",
       "    <tr>\n",
       "      <th>2022-02-23</th>\n",
       "      <td>0.000000</td>\n",
       "      <td>0.000000</td>\n",
       "      <td>1.423233</td>\n",
       "      <td>5</td>\n",
       "      <td>1</td>\n",
       "      <td>1.0</td>\n",
       "    </tr>\n",
       "    <tr>\n",
       "      <th>2022-02-24</th>\n",
       "      <td>-0.750925</td>\n",
       "      <td>0.013535</td>\n",
       "      <td>-0.894995</td>\n",
       "      <td>5</td>\n",
       "      <td>2</td>\n",
       "      <td>1.0</td>\n",
       "    </tr>\n",
       "    <tr>\n",
       "      <th>2022-02-25</th>\n",
       "      <td>1.474223</td>\n",
       "      <td>-0.848770</td>\n",
       "      <td>-0.367688</td>\n",
       "      <td>5</td>\n",
       "      <td>3</td>\n",
       "      <td>NaN</td>\n",
       "    </tr>\n",
       "    <tr>\n",
       "      <th>2022-02-26</th>\n",
       "      <td>-1.125284</td>\n",
       "      <td>-1.851011</td>\n",
       "      <td>0.611127</td>\n",
       "      <td>5</td>\n",
       "      <td>4</td>\n",
       "      <td>NaN</td>\n",
       "    </tr>\n",
       "  </tbody>\n",
       "</table>\n",
       "</div>"
      ],
      "text/plain": [
       "                   A         B         C  D  F    E\n",
       "2022-02-23  0.000000  0.000000  1.423233  5  1  1.0\n",
       "2022-02-24 -0.750925  0.013535 -0.894995  5  2  1.0\n",
       "2022-02-25  1.474223 -0.848770 -0.367688  5  3  NaN\n",
       "2022-02-26 -1.125284 -1.851011  0.611127  5  4  NaN"
      ]
     },
     "execution_count": 84,
     "metadata": {},
     "output_type": "execute_result"
    }
   ],
   "source": [
    "df1 = df.reindex(index=dates[0:4], columns=list(df.columns) + [\"E\"])\n",
    "df1.loc[dates[0] : dates[1], \"E\"] = 1\n",
    "df1"
   ]
  },
  {
   "cell_type": "code",
   "execution_count": 85,
   "id": "24b013fe-db61-43ed-8f84-a4ec165b4885",
   "metadata": {},
   "outputs": [
    {
     "data": {
      "text/html": [
       "<div>\n",
       "<style scoped>\n",
       "    .dataframe tbody tr th:only-of-type {\n",
       "        vertical-align: middle;\n",
       "    }\n",
       "\n",
       "    .dataframe tbody tr th {\n",
       "        vertical-align: top;\n",
       "    }\n",
       "\n",
       "    .dataframe thead th {\n",
       "        text-align: right;\n",
       "    }\n",
       "</style>\n",
       "<table border=\"1\" class=\"dataframe\">\n",
       "  <thead>\n",
       "    <tr style=\"text-align: right;\">\n",
       "      <th></th>\n",
       "      <th>A</th>\n",
       "      <th>B</th>\n",
       "      <th>C</th>\n",
       "      <th>D</th>\n",
       "      <th>F</th>\n",
       "      <th>E</th>\n",
       "    </tr>\n",
       "  </thead>\n",
       "  <tbody>\n",
       "    <tr>\n",
       "      <th>2022-02-23</th>\n",
       "      <td>0.000000</td>\n",
       "      <td>0.000000</td>\n",
       "      <td>1.423233</td>\n",
       "      <td>5</td>\n",
       "      <td>1</td>\n",
       "      <td>1.0</td>\n",
       "    </tr>\n",
       "    <tr>\n",
       "      <th>2022-02-24</th>\n",
       "      <td>-0.750925</td>\n",
       "      <td>0.013535</td>\n",
       "      <td>-0.894995</td>\n",
       "      <td>5</td>\n",
       "      <td>2</td>\n",
       "      <td>1.0</td>\n",
       "    </tr>\n",
       "  </tbody>\n",
       "</table>\n",
       "</div>"
      ],
      "text/plain": [
       "                   A         B         C  D  F    E\n",
       "2022-02-23  0.000000  0.000000  1.423233  5  1  1.0\n",
       "2022-02-24 -0.750925  0.013535 -0.894995  5  2  1.0"
      ]
     },
     "execution_count": 85,
     "metadata": {},
     "output_type": "execute_result"
    }
   ],
   "source": [
    "df1.dropna(how=\"any\")"
   ]
  },
  {
   "cell_type": "code",
   "execution_count": 87,
   "id": "2395bcab-8762-4619-a7e4-2ef53b40dfa8",
   "metadata": {},
   "outputs": [
    {
     "data": {
      "text/html": [
       "<div>\n",
       "<style scoped>\n",
       "    .dataframe tbody tr th:only-of-type {\n",
       "        vertical-align: middle;\n",
       "    }\n",
       "\n",
       "    .dataframe tbody tr th {\n",
       "        vertical-align: top;\n",
       "    }\n",
       "\n",
       "    .dataframe thead th {\n",
       "        text-align: right;\n",
       "    }\n",
       "</style>\n",
       "<table border=\"1\" class=\"dataframe\">\n",
       "  <thead>\n",
       "    <tr style=\"text-align: right;\">\n",
       "      <th></th>\n",
       "      <th>A</th>\n",
       "      <th>B</th>\n",
       "      <th>C</th>\n",
       "      <th>D</th>\n",
       "      <th>F</th>\n",
       "      <th>E</th>\n",
       "    </tr>\n",
       "  </thead>\n",
       "  <tbody>\n",
       "    <tr>\n",
       "      <th>2022-02-23</th>\n",
       "      <td>0.000000</td>\n",
       "      <td>0.000000</td>\n",
       "      <td>1.423233</td>\n",
       "      <td>5</td>\n",
       "      <td>1</td>\n",
       "      <td>1.0</td>\n",
       "    </tr>\n",
       "    <tr>\n",
       "      <th>2022-02-24</th>\n",
       "      <td>-0.750925</td>\n",
       "      <td>0.013535</td>\n",
       "      <td>-0.894995</td>\n",
       "      <td>5</td>\n",
       "      <td>2</td>\n",
       "      <td>1.0</td>\n",
       "    </tr>\n",
       "    <tr>\n",
       "      <th>2022-02-25</th>\n",
       "      <td>1.474223</td>\n",
       "      <td>-0.848770</td>\n",
       "      <td>-0.367688</td>\n",
       "      <td>5</td>\n",
       "      <td>3</td>\n",
       "      <td>5.0</td>\n",
       "    </tr>\n",
       "    <tr>\n",
       "      <th>2022-02-26</th>\n",
       "      <td>-1.125284</td>\n",
       "      <td>-1.851011</td>\n",
       "      <td>0.611127</td>\n",
       "      <td>5</td>\n",
       "      <td>4</td>\n",
       "      <td>5.0</td>\n",
       "    </tr>\n",
       "  </tbody>\n",
       "</table>\n",
       "</div>"
      ],
      "text/plain": [
       "                   A         B         C  D  F    E\n",
       "2022-02-23  0.000000  0.000000  1.423233  5  1  1.0\n",
       "2022-02-24 -0.750925  0.013535 -0.894995  5  2  1.0\n",
       "2022-02-25  1.474223 -0.848770 -0.367688  5  3  5.0\n",
       "2022-02-26 -1.125284 -1.851011  0.611127  5  4  5.0"
      ]
     },
     "execution_count": 87,
     "metadata": {},
     "output_type": "execute_result"
    }
   ],
   "source": [
    "df1.fillna(value=5)"
   ]
  },
  {
   "cell_type": "code",
   "execution_count": 88,
   "id": "e982c951-7f3f-4a14-94f1-af69ad96cfec",
   "metadata": {},
   "outputs": [
    {
     "data": {
      "text/html": [
       "<div>\n",
       "<style scoped>\n",
       "    .dataframe tbody tr th:only-of-type {\n",
       "        vertical-align: middle;\n",
       "    }\n",
       "\n",
       "    .dataframe tbody tr th {\n",
       "        vertical-align: top;\n",
       "    }\n",
       "\n",
       "    .dataframe thead th {\n",
       "        text-align: right;\n",
       "    }\n",
       "</style>\n",
       "<table border=\"1\" class=\"dataframe\">\n",
       "  <thead>\n",
       "    <tr style=\"text-align: right;\">\n",
       "      <th></th>\n",
       "      <th>A</th>\n",
       "      <th>B</th>\n",
       "      <th>C</th>\n",
       "      <th>D</th>\n",
       "      <th>F</th>\n",
       "      <th>E</th>\n",
       "    </tr>\n",
       "  </thead>\n",
       "  <tbody>\n",
       "    <tr>\n",
       "      <th>2022-02-23</th>\n",
       "      <td>False</td>\n",
       "      <td>False</td>\n",
       "      <td>False</td>\n",
       "      <td>False</td>\n",
       "      <td>False</td>\n",
       "      <td>False</td>\n",
       "    </tr>\n",
       "    <tr>\n",
       "      <th>2022-02-24</th>\n",
       "      <td>False</td>\n",
       "      <td>False</td>\n",
       "      <td>False</td>\n",
       "      <td>False</td>\n",
       "      <td>False</td>\n",
       "      <td>False</td>\n",
       "    </tr>\n",
       "    <tr>\n",
       "      <th>2022-02-25</th>\n",
       "      <td>False</td>\n",
       "      <td>False</td>\n",
       "      <td>False</td>\n",
       "      <td>False</td>\n",
       "      <td>False</td>\n",
       "      <td>True</td>\n",
       "    </tr>\n",
       "    <tr>\n",
       "      <th>2022-02-26</th>\n",
       "      <td>False</td>\n",
       "      <td>False</td>\n",
       "      <td>False</td>\n",
       "      <td>False</td>\n",
       "      <td>False</td>\n",
       "      <td>True</td>\n",
       "    </tr>\n",
       "  </tbody>\n",
       "</table>\n",
       "</div>"
      ],
      "text/plain": [
       "                A      B      C      D      F      E\n",
       "2022-02-23  False  False  False  False  False  False\n",
       "2022-02-24  False  False  False  False  False  False\n",
       "2022-02-25  False  False  False  False  False   True\n",
       "2022-02-26  False  False  False  False  False   True"
      ]
     },
     "execution_count": 88,
     "metadata": {},
     "output_type": "execute_result"
    }
   ],
   "source": [
    "pd.isna(df1)"
   ]
  },
  {
   "cell_type": "code",
   "execution_count": 89,
   "id": "89e6dbd9-5050-4950-8022-7f71a2c6e169",
   "metadata": {},
   "outputs": [
    {
     "data": {
      "text/plain": [
       "A   -0.081800\n",
       "B   -0.689493\n",
       "C   -0.517536\n",
       "D    5.000000\n",
       "F    3.500000\n",
       "dtype: float64"
      ]
     },
     "execution_count": 89,
     "metadata": {},
     "output_type": "execute_result"
    }
   ],
   "source": [
    "df.mean()"
   ]
  },
  {
   "cell_type": "code",
   "execution_count": 90,
   "id": "20258eca-8438-4351-9f79-60ddf0bc07d3",
   "metadata": {},
   "outputs": [
    {
     "data": {
      "text/plain": [
       "2022-02-23    1.484647\n",
       "2022-02-24    1.073523\n",
       "2022-02-25    1.651553\n",
       "2022-02-26    1.326966\n",
       "2022-02-27    1.536950\n",
       "2022-02-28    1.579766\n",
       "Freq: D, dtype: float64"
      ]
     },
     "execution_count": 90,
     "metadata": {},
     "output_type": "execute_result"
    }
   ],
   "source": [
    "df.mean(1)"
   ]
  },
  {
   "cell_type": "code",
   "execution_count": 97,
   "id": "c8f15d4b-b2d7-4812-ae2d-09061280b845",
   "metadata": {},
   "outputs": [
    {
     "data": {
      "text/plain": [
       "2022-02-23    NaN\n",
       "2022-02-24    NaN\n",
       "2022-02-25    1.0\n",
       "2022-02-26    3.0\n",
       "2022-02-27    5.0\n",
       "2022-02-28    NaN\n",
       "Freq: D, dtype: float64"
      ]
     },
     "execution_count": 97,
     "metadata": {},
     "output_type": "execute_result"
    }
   ],
   "source": [
    "s = pd.Series([1, 3, 5, np.nan, 6, 8], index=dates).shift(2)\n",
    "s"
   ]
  },
  {
   "cell_type": "code",
   "execution_count": 98,
   "id": "4d45e63e-7352-461c-8404-8b3757e94304",
   "metadata": {},
   "outputs": [
    {
     "data": {
      "text/html": [
       "<div>\n",
       "<style scoped>\n",
       "    .dataframe tbody tr th:only-of-type {\n",
       "        vertical-align: middle;\n",
       "    }\n",
       "\n",
       "    .dataframe tbody tr th {\n",
       "        vertical-align: top;\n",
       "    }\n",
       "\n",
       "    .dataframe thead th {\n",
       "        text-align: right;\n",
       "    }\n",
       "</style>\n",
       "<table border=\"1\" class=\"dataframe\">\n",
       "  <thead>\n",
       "    <tr style=\"text-align: right;\">\n",
       "      <th></th>\n",
       "      <th>A</th>\n",
       "      <th>B</th>\n",
       "      <th>C</th>\n",
       "      <th>D</th>\n",
       "      <th>F</th>\n",
       "    </tr>\n",
       "  </thead>\n",
       "  <tbody>\n",
       "    <tr>\n",
       "      <th>2022-02-23</th>\n",
       "      <td>NaN</td>\n",
       "      <td>NaN</td>\n",
       "      <td>NaN</td>\n",
       "      <td>NaN</td>\n",
       "      <td>NaN</td>\n",
       "    </tr>\n",
       "    <tr>\n",
       "      <th>2022-02-24</th>\n",
       "      <td>NaN</td>\n",
       "      <td>NaN</td>\n",
       "      <td>NaN</td>\n",
       "      <td>NaN</td>\n",
       "      <td>NaN</td>\n",
       "    </tr>\n",
       "    <tr>\n",
       "      <th>2022-02-25</th>\n",
       "      <td>0.474223</td>\n",
       "      <td>-1.848770</td>\n",
       "      <td>-1.367688</td>\n",
       "      <td>4.0</td>\n",
       "      <td>2.0</td>\n",
       "    </tr>\n",
       "    <tr>\n",
       "      <th>2022-02-26</th>\n",
       "      <td>-4.125284</td>\n",
       "      <td>-4.851011</td>\n",
       "      <td>-2.388873</td>\n",
       "      <td>2.0</td>\n",
       "      <td>1.0</td>\n",
       "    </tr>\n",
       "    <tr>\n",
       "      <th>2022-02-27</th>\n",
       "      <td>-5.313378</td>\n",
       "      <td>-5.647989</td>\n",
       "      <td>-6.353883</td>\n",
       "      <td>0.0</td>\n",
       "      <td>0.0</td>\n",
       "    </tr>\n",
       "    <tr>\n",
       "      <th>2022-02-28</th>\n",
       "      <td>NaN</td>\n",
       "      <td>NaN</td>\n",
       "      <td>NaN</td>\n",
       "      <td>NaN</td>\n",
       "      <td>NaN</td>\n",
       "    </tr>\n",
       "  </tbody>\n",
       "</table>\n",
       "</div>"
      ],
      "text/plain": [
       "                   A         B         C    D    F\n",
       "2022-02-23       NaN       NaN       NaN  NaN  NaN\n",
       "2022-02-24       NaN       NaN       NaN  NaN  NaN\n",
       "2022-02-25  0.474223 -1.848770 -1.367688  4.0  2.0\n",
       "2022-02-26 -4.125284 -4.851011 -2.388873  2.0  1.0\n",
       "2022-02-27 -5.313378 -5.647989 -6.353883  0.0  0.0\n",
       "2022-02-28       NaN       NaN       NaN  NaN  NaN"
      ]
     },
     "execution_count": 98,
     "metadata": {},
     "output_type": "execute_result"
    }
   ],
   "source": [
    "df.sub(s, axis=\"index\")"
   ]
  },
  {
   "cell_type": "code",
   "execution_count": 99,
   "id": "2417c23d-af29-4cb3-a214-b36a149d4531",
   "metadata": {},
   "outputs": [
    {
     "data": {
      "text/html": [
       "<div>\n",
       "<style scoped>\n",
       "    .dataframe tbody tr th:only-of-type {\n",
       "        vertical-align: middle;\n",
       "    }\n",
       "\n",
       "    .dataframe tbody tr th {\n",
       "        vertical-align: top;\n",
       "    }\n",
       "\n",
       "    .dataframe thead th {\n",
       "        text-align: right;\n",
       "    }\n",
       "</style>\n",
       "<table border=\"1\" class=\"dataframe\">\n",
       "  <thead>\n",
       "    <tr style=\"text-align: right;\">\n",
       "      <th></th>\n",
       "      <th>A</th>\n",
       "      <th>B</th>\n",
       "      <th>C</th>\n",
       "      <th>D</th>\n",
       "      <th>F</th>\n",
       "    </tr>\n",
       "  </thead>\n",
       "  <tbody>\n",
       "    <tr>\n",
       "      <th>2022-02-23</th>\n",
       "      <td>0.000000</td>\n",
       "      <td>0.000000</td>\n",
       "      <td>1.423233</td>\n",
       "      <td>5</td>\n",
       "      <td>1</td>\n",
       "    </tr>\n",
       "    <tr>\n",
       "      <th>2022-02-24</th>\n",
       "      <td>-0.750925</td>\n",
       "      <td>0.013535</td>\n",
       "      <td>0.528238</td>\n",
       "      <td>10</td>\n",
       "      <td>3</td>\n",
       "    </tr>\n",
       "    <tr>\n",
       "      <th>2022-02-25</th>\n",
       "      <td>0.723299</td>\n",
       "      <td>-0.835235</td>\n",
       "      <td>0.160550</td>\n",
       "      <td>15</td>\n",
       "      <td>6</td>\n",
       "    </tr>\n",
       "    <tr>\n",
       "      <th>2022-02-26</th>\n",
       "      <td>-0.401986</td>\n",
       "      <td>-2.686246</td>\n",
       "      <td>0.771677</td>\n",
       "      <td>20</td>\n",
       "      <td>10</td>\n",
       "    </tr>\n",
       "    <tr>\n",
       "      <th>2022-02-27</th>\n",
       "      <td>-0.715363</td>\n",
       "      <td>-3.334235</td>\n",
       "      <td>-0.582206</td>\n",
       "      <td>25</td>\n",
       "      <td>15</td>\n",
       "    </tr>\n",
       "    <tr>\n",
       "      <th>2022-02-28</th>\n",
       "      <td>-0.490800</td>\n",
       "      <td>-4.136958</td>\n",
       "      <td>-3.105216</td>\n",
       "      <td>30</td>\n",
       "      <td>21</td>\n",
       "    </tr>\n",
       "  </tbody>\n",
       "</table>\n",
       "</div>"
      ],
      "text/plain": [
       "                   A         B         C   D   F\n",
       "2022-02-23  0.000000  0.000000  1.423233   5   1\n",
       "2022-02-24 -0.750925  0.013535  0.528238  10   3\n",
       "2022-02-25  0.723299 -0.835235  0.160550  15   6\n",
       "2022-02-26 -0.401986 -2.686246  0.771677  20  10\n",
       "2022-02-27 -0.715363 -3.334235 -0.582206  25  15\n",
       "2022-02-28 -0.490800 -4.136958 -3.105216  30  21"
      ]
     },
     "execution_count": 99,
     "metadata": {},
     "output_type": "execute_result"
    }
   ],
   "source": [
    "df.apply(np.cumsum)"
   ]
  },
  {
   "cell_type": "code",
   "execution_count": 101,
   "id": "0ba1d06c-bafe-47ba-9150-6f37724626ab",
   "metadata": {},
   "outputs": [
    {
     "data": {
      "text/plain": [
       "A    2.599508\n",
       "B    1.864545\n",
       "C    3.946243\n",
       "D    0.000000\n",
       "F    5.000000\n",
       "dtype: float64"
      ]
     },
     "execution_count": 101,
     "metadata": {},
     "output_type": "execute_result"
    }
   ],
   "source": [
    "df.apply(lambda x: x.max() - x.min())"
   ]
  },
  {
   "cell_type": "code",
   "execution_count": 105,
   "id": "586460c9-9574-41d0-b410-45d9a52f09b7",
   "metadata": {},
   "outputs": [
    {
     "data": {
      "text/plain": [
       "0    5\n",
       "1    5\n",
       "2    4\n",
       "3    1\n",
       "4    6\n",
       "5    5\n",
       "6    0\n",
       "7    5\n",
       "8    5\n",
       "9    5\n",
       "dtype: int32"
      ]
     },
     "execution_count": 105,
     "metadata": {},
     "output_type": "execute_result"
    }
   ],
   "source": [
    "s = pd.Series(np.random.randint(0, 7, size=10))\n",
    "s"
   ]
  },
  {
   "cell_type": "code",
   "execution_count": 106,
   "id": "401ad4ae-d368-4f2d-a9c9-fc3788b22c07",
   "metadata": {},
   "outputs": [
    {
     "data": {
      "text/plain": [
       "5    6\n",
       "4    1\n",
       "1    1\n",
       "6    1\n",
       "0    1\n",
       "dtype: int64"
      ]
     },
     "execution_count": 106,
     "metadata": {},
     "output_type": "execute_result"
    }
   ],
   "source": [
    "s.value_counts()"
   ]
  },
  {
   "cell_type": "code",
   "execution_count": 107,
   "id": "8344a343-495b-474d-9f1a-f317db9c6ca1",
   "metadata": {},
   "outputs": [
    {
     "data": {
      "text/plain": [
       "0       a\n",
       "1       b\n",
       "2       c\n",
       "3    aaba\n",
       "4    baca\n",
       "5     NaN\n",
       "6    caba\n",
       "7     dog\n",
       "8     cat\n",
       "dtype: object"
      ]
     },
     "execution_count": 107,
     "metadata": {},
     "output_type": "execute_result"
    }
   ],
   "source": [
    "s = pd.Series([\"A\", \"B\", \"C\", \"Aaba\", \"Baca\", np.nan, \"CABA\", \"dog\", \"cat\"])\n",
    "s.str.lower()"
   ]
  },
  {
   "cell_type": "code",
   "execution_count": 109,
   "id": "7868fab1-1261-4f15-aebf-a3f5631888af",
   "metadata": {},
   "outputs": [
    {
     "data": {
      "text/html": [
       "<div>\n",
       "<style scoped>\n",
       "    .dataframe tbody tr th:only-of-type {\n",
       "        vertical-align: middle;\n",
       "    }\n",
       "\n",
       "    .dataframe tbody tr th {\n",
       "        vertical-align: top;\n",
       "    }\n",
       "\n",
       "    .dataframe thead th {\n",
       "        text-align: right;\n",
       "    }\n",
       "</style>\n",
       "<table border=\"1\" class=\"dataframe\">\n",
       "  <thead>\n",
       "    <tr style=\"text-align: right;\">\n",
       "      <th></th>\n",
       "      <th>0</th>\n",
       "      <th>1</th>\n",
       "      <th>2</th>\n",
       "      <th>3</th>\n",
       "    </tr>\n",
       "  </thead>\n",
       "  <tbody>\n",
       "    <tr>\n",
       "      <th>0</th>\n",
       "      <td>0.723211</td>\n",
       "      <td>0.482555</td>\n",
       "      <td>-0.566821</td>\n",
       "      <td>1.023446</td>\n",
       "    </tr>\n",
       "    <tr>\n",
       "      <th>1</th>\n",
       "      <td>0.133799</td>\n",
       "      <td>0.627141</td>\n",
       "      <td>-0.271139</td>\n",
       "      <td>0.567261</td>\n",
       "    </tr>\n",
       "    <tr>\n",
       "      <th>2</th>\n",
       "      <td>0.348491</td>\n",
       "      <td>-0.724072</td>\n",
       "      <td>-1.744044</td>\n",
       "      <td>-0.811076</td>\n",
       "    </tr>\n",
       "    <tr>\n",
       "      <th>3</th>\n",
       "      <td>-0.248251</td>\n",
       "      <td>1.131712</td>\n",
       "      <td>-0.383570</td>\n",
       "      <td>0.873038</td>\n",
       "    </tr>\n",
       "    <tr>\n",
       "      <th>4</th>\n",
       "      <td>-1.071361</td>\n",
       "      <td>0.172579</td>\n",
       "      <td>-0.631381</td>\n",
       "      <td>-1.276512</td>\n",
       "    </tr>\n",
       "    <tr>\n",
       "      <th>5</th>\n",
       "      <td>1.279017</td>\n",
       "      <td>0.656447</td>\n",
       "      <td>0.070497</td>\n",
       "      <td>-1.879534</td>\n",
       "    </tr>\n",
       "    <tr>\n",
       "      <th>6</th>\n",
       "      <td>-0.467673</td>\n",
       "      <td>-0.592992</td>\n",
       "      <td>0.986610</td>\n",
       "      <td>0.148461</td>\n",
       "    </tr>\n",
       "    <tr>\n",
       "      <th>7</th>\n",
       "      <td>-0.617012</td>\n",
       "      <td>2.068930</td>\n",
       "      <td>0.527540</td>\n",
       "      <td>0.114069</td>\n",
       "    </tr>\n",
       "    <tr>\n",
       "      <th>8</th>\n",
       "      <td>-0.420015</td>\n",
       "      <td>0.880216</td>\n",
       "      <td>0.586187</td>\n",
       "      <td>0.917847</td>\n",
       "    </tr>\n",
       "    <tr>\n",
       "      <th>9</th>\n",
       "      <td>0.718272</td>\n",
       "      <td>-0.627193</td>\n",
       "      <td>1.638720</td>\n",
       "      <td>0.560879</td>\n",
       "    </tr>\n",
       "  </tbody>\n",
       "</table>\n",
       "</div>"
      ],
      "text/plain": [
       "          0         1         2         3\n",
       "0  0.723211  0.482555 -0.566821  1.023446\n",
       "1  0.133799  0.627141 -0.271139  0.567261\n",
       "2  0.348491 -0.724072 -1.744044 -0.811076\n",
       "3 -0.248251  1.131712 -0.383570  0.873038\n",
       "4 -1.071361  0.172579 -0.631381 -1.276512\n",
       "5  1.279017  0.656447  0.070497 -1.879534\n",
       "6 -0.467673 -0.592992  0.986610  0.148461\n",
       "7 -0.617012  2.068930  0.527540  0.114069\n",
       "8 -0.420015  0.880216  0.586187  0.917847\n",
       "9  0.718272 -0.627193  1.638720  0.560879"
      ]
     },
     "execution_count": 109,
     "metadata": {},
     "output_type": "execute_result"
    }
   ],
   "source": [
    "df = pd.DataFrame(np.random.randn(10, 4))\n",
    "df"
   ]
  },
  {
   "cell_type": "code",
   "execution_count": 110,
   "id": "f132c074-7013-45fd-85b7-43f5faf69a23",
   "metadata": {},
   "outputs": [],
   "source": [
    "pieces = [df[:3], df[3:7], df[7:]]"
   ]
  },
  {
   "cell_type": "code",
   "execution_count": 111,
   "id": "db6f7b4f-548a-42f0-bcfb-9dd172021e31",
   "metadata": {},
   "outputs": [
    {
     "data": {
      "text/plain": [
       "[          0         1         2         3\n",
       " 0  0.723211  0.482555 -0.566821  1.023446\n",
       " 1  0.133799  0.627141 -0.271139  0.567261\n",
       " 2  0.348491 -0.724072 -1.744044 -0.811076,\n",
       "           0         1         2         3\n",
       " 3 -0.248251  1.131712 -0.383570  0.873038\n",
       " 4 -1.071361  0.172579 -0.631381 -1.276512\n",
       " 5  1.279017  0.656447  0.070497 -1.879534\n",
       " 6 -0.467673 -0.592992  0.986610  0.148461,\n",
       "           0         1         2         3\n",
       " 7 -0.617012  2.068930  0.527540  0.114069\n",
       " 8 -0.420015  0.880216  0.586187  0.917847\n",
       " 9  0.718272 -0.627193  1.638720  0.560879]"
      ]
     },
     "execution_count": 111,
     "metadata": {},
     "output_type": "execute_result"
    }
   ],
   "source": [
    "pieces"
   ]
  },
  {
   "cell_type": "code",
   "execution_count": 112,
   "id": "cd812ecd-97e7-4202-a650-c513e516b68f",
   "metadata": {},
   "outputs": [
    {
     "data": {
      "text/html": [
       "<div>\n",
       "<style scoped>\n",
       "    .dataframe tbody tr th:only-of-type {\n",
       "        vertical-align: middle;\n",
       "    }\n",
       "\n",
       "    .dataframe tbody tr th {\n",
       "        vertical-align: top;\n",
       "    }\n",
       "\n",
       "    .dataframe thead th {\n",
       "        text-align: right;\n",
       "    }\n",
       "</style>\n",
       "<table border=\"1\" class=\"dataframe\">\n",
       "  <thead>\n",
       "    <tr style=\"text-align: right;\">\n",
       "      <th></th>\n",
       "      <th>0</th>\n",
       "      <th>1</th>\n",
       "      <th>2</th>\n",
       "      <th>3</th>\n",
       "    </tr>\n",
       "  </thead>\n",
       "  <tbody>\n",
       "    <tr>\n",
       "      <th>0</th>\n",
       "      <td>0.723211</td>\n",
       "      <td>0.482555</td>\n",
       "      <td>-0.566821</td>\n",
       "      <td>1.023446</td>\n",
       "    </tr>\n",
       "    <tr>\n",
       "      <th>1</th>\n",
       "      <td>0.133799</td>\n",
       "      <td>0.627141</td>\n",
       "      <td>-0.271139</td>\n",
       "      <td>0.567261</td>\n",
       "    </tr>\n",
       "    <tr>\n",
       "      <th>2</th>\n",
       "      <td>0.348491</td>\n",
       "      <td>-0.724072</td>\n",
       "      <td>-1.744044</td>\n",
       "      <td>-0.811076</td>\n",
       "    </tr>\n",
       "    <tr>\n",
       "      <th>3</th>\n",
       "      <td>-0.248251</td>\n",
       "      <td>1.131712</td>\n",
       "      <td>-0.383570</td>\n",
       "      <td>0.873038</td>\n",
       "    </tr>\n",
       "    <tr>\n",
       "      <th>4</th>\n",
       "      <td>-1.071361</td>\n",
       "      <td>0.172579</td>\n",
       "      <td>-0.631381</td>\n",
       "      <td>-1.276512</td>\n",
       "    </tr>\n",
       "    <tr>\n",
       "      <th>5</th>\n",
       "      <td>1.279017</td>\n",
       "      <td>0.656447</td>\n",
       "      <td>0.070497</td>\n",
       "      <td>-1.879534</td>\n",
       "    </tr>\n",
       "    <tr>\n",
       "      <th>6</th>\n",
       "      <td>-0.467673</td>\n",
       "      <td>-0.592992</td>\n",
       "      <td>0.986610</td>\n",
       "      <td>0.148461</td>\n",
       "    </tr>\n",
       "    <tr>\n",
       "      <th>7</th>\n",
       "      <td>-0.617012</td>\n",
       "      <td>2.068930</td>\n",
       "      <td>0.527540</td>\n",
       "      <td>0.114069</td>\n",
       "    </tr>\n",
       "    <tr>\n",
       "      <th>8</th>\n",
       "      <td>-0.420015</td>\n",
       "      <td>0.880216</td>\n",
       "      <td>0.586187</td>\n",
       "      <td>0.917847</td>\n",
       "    </tr>\n",
       "    <tr>\n",
       "      <th>9</th>\n",
       "      <td>0.718272</td>\n",
       "      <td>-0.627193</td>\n",
       "      <td>1.638720</td>\n",
       "      <td>0.560879</td>\n",
       "    </tr>\n",
       "  </tbody>\n",
       "</table>\n",
       "</div>"
      ],
      "text/plain": [
       "          0         1         2         3\n",
       "0  0.723211  0.482555 -0.566821  1.023446\n",
       "1  0.133799  0.627141 -0.271139  0.567261\n",
       "2  0.348491 -0.724072 -1.744044 -0.811076\n",
       "3 -0.248251  1.131712 -0.383570  0.873038\n",
       "4 -1.071361  0.172579 -0.631381 -1.276512\n",
       "5  1.279017  0.656447  0.070497 -1.879534\n",
       "6 -0.467673 -0.592992  0.986610  0.148461\n",
       "7 -0.617012  2.068930  0.527540  0.114069\n",
       "8 -0.420015  0.880216  0.586187  0.917847\n",
       "9  0.718272 -0.627193  1.638720  0.560879"
      ]
     },
     "execution_count": 112,
     "metadata": {},
     "output_type": "execute_result"
    }
   ],
   "source": [
    "pd.concat(pieces)"
   ]
  },
  {
   "cell_type": "code",
   "execution_count": 113,
   "id": "a60253fa-57c9-42d2-8cd5-c278d9be1eee",
   "metadata": {},
   "outputs": [],
   "source": [
    "left = pd.DataFrame({\"key\": [\"foo\", \"foo\"], \"lval\": [1, 2]})\n",
    "right = pd.DataFrame({\"key\": [\"foo\", \"foo\"], \"rval\": [4, 5]})"
   ]
  },
  {
   "cell_type": "code",
   "execution_count": 114,
   "id": "108f45d5-cdf2-4222-885c-7b6124d4707a",
   "metadata": {},
   "outputs": [
    {
     "data": {
      "text/html": [
       "<div>\n",
       "<style scoped>\n",
       "    .dataframe tbody tr th:only-of-type {\n",
       "        vertical-align: middle;\n",
       "    }\n",
       "\n",
       "    .dataframe tbody tr th {\n",
       "        vertical-align: top;\n",
       "    }\n",
       "\n",
       "    .dataframe thead th {\n",
       "        text-align: right;\n",
       "    }\n",
       "</style>\n",
       "<table border=\"1\" class=\"dataframe\">\n",
       "  <thead>\n",
       "    <tr style=\"text-align: right;\">\n",
       "      <th></th>\n",
       "      <th>key</th>\n",
       "      <th>lval</th>\n",
       "    </tr>\n",
       "  </thead>\n",
       "  <tbody>\n",
       "    <tr>\n",
       "      <th>0</th>\n",
       "      <td>foo</td>\n",
       "      <td>1</td>\n",
       "    </tr>\n",
       "    <tr>\n",
       "      <th>1</th>\n",
       "      <td>foo</td>\n",
       "      <td>2</td>\n",
       "    </tr>\n",
       "  </tbody>\n",
       "</table>\n",
       "</div>"
      ],
      "text/plain": [
       "   key  lval\n",
       "0  foo     1\n",
       "1  foo     2"
      ]
     },
     "execution_count": 114,
     "metadata": {},
     "output_type": "execute_result"
    }
   ],
   "source": [
    "left"
   ]
  },
  {
   "cell_type": "code",
   "execution_count": 115,
   "id": "1618eabe-655f-4afa-98c4-bc76f342c62b",
   "metadata": {},
   "outputs": [
    {
     "data": {
      "text/html": [
       "<div>\n",
       "<style scoped>\n",
       "    .dataframe tbody tr th:only-of-type {\n",
       "        vertical-align: middle;\n",
       "    }\n",
       "\n",
       "    .dataframe tbody tr th {\n",
       "        vertical-align: top;\n",
       "    }\n",
       "\n",
       "    .dataframe thead th {\n",
       "        text-align: right;\n",
       "    }\n",
       "</style>\n",
       "<table border=\"1\" class=\"dataframe\">\n",
       "  <thead>\n",
       "    <tr style=\"text-align: right;\">\n",
       "      <th></th>\n",
       "      <th>key</th>\n",
       "      <th>rval</th>\n",
       "    </tr>\n",
       "  </thead>\n",
       "  <tbody>\n",
       "    <tr>\n",
       "      <th>0</th>\n",
       "      <td>foo</td>\n",
       "      <td>4</td>\n",
       "    </tr>\n",
       "    <tr>\n",
       "      <th>1</th>\n",
       "      <td>foo</td>\n",
       "      <td>5</td>\n",
       "    </tr>\n",
       "  </tbody>\n",
       "</table>\n",
       "</div>"
      ],
      "text/plain": [
       "   key  rval\n",
       "0  foo     4\n",
       "1  foo     5"
      ]
     },
     "execution_count": 115,
     "metadata": {},
     "output_type": "execute_result"
    }
   ],
   "source": [
    "right"
   ]
  },
  {
   "cell_type": "code",
   "execution_count": 116,
   "id": "c5d6c1b2-bd39-4a15-a0b3-67687c5b014d",
   "metadata": {},
   "outputs": [
    {
     "data": {
      "text/html": [
       "<div>\n",
       "<style scoped>\n",
       "    .dataframe tbody tr th:only-of-type {\n",
       "        vertical-align: middle;\n",
       "    }\n",
       "\n",
       "    .dataframe tbody tr th {\n",
       "        vertical-align: top;\n",
       "    }\n",
       "\n",
       "    .dataframe thead th {\n",
       "        text-align: right;\n",
       "    }\n",
       "</style>\n",
       "<table border=\"1\" class=\"dataframe\">\n",
       "  <thead>\n",
       "    <tr style=\"text-align: right;\">\n",
       "      <th></th>\n",
       "      <th>key</th>\n",
       "      <th>lval</th>\n",
       "      <th>rval</th>\n",
       "    </tr>\n",
       "  </thead>\n",
       "  <tbody>\n",
       "    <tr>\n",
       "      <th>0</th>\n",
       "      <td>foo</td>\n",
       "      <td>1</td>\n",
       "      <td>4</td>\n",
       "    </tr>\n",
       "    <tr>\n",
       "      <th>1</th>\n",
       "      <td>foo</td>\n",
       "      <td>1</td>\n",
       "      <td>5</td>\n",
       "    </tr>\n",
       "    <tr>\n",
       "      <th>2</th>\n",
       "      <td>foo</td>\n",
       "      <td>2</td>\n",
       "      <td>4</td>\n",
       "    </tr>\n",
       "    <tr>\n",
       "      <th>3</th>\n",
       "      <td>foo</td>\n",
       "      <td>2</td>\n",
       "      <td>5</td>\n",
       "    </tr>\n",
       "  </tbody>\n",
       "</table>\n",
       "</div>"
      ],
      "text/plain": [
       "   key  lval  rval\n",
       "0  foo     1     4\n",
       "1  foo     1     5\n",
       "2  foo     2     4\n",
       "3  foo     2     5"
      ]
     },
     "execution_count": 116,
     "metadata": {},
     "output_type": "execute_result"
    }
   ],
   "source": [
    "pd.merge(left, right, on=\"key\")"
   ]
  },
  {
   "cell_type": "code",
   "execution_count": 117,
   "id": "6abf6552-ca5d-4ce7-bf49-a232ff51cde4",
   "metadata": {},
   "outputs": [
    {
     "data": {
      "text/html": [
       "<div>\n",
       "<style scoped>\n",
       "    .dataframe tbody tr th:only-of-type {\n",
       "        vertical-align: middle;\n",
       "    }\n",
       "\n",
       "    .dataframe tbody tr th {\n",
       "        vertical-align: top;\n",
       "    }\n",
       "\n",
       "    .dataframe thead th {\n",
       "        text-align: right;\n",
       "    }\n",
       "</style>\n",
       "<table border=\"1\" class=\"dataframe\">\n",
       "  <thead>\n",
       "    <tr style=\"text-align: right;\">\n",
       "      <th></th>\n",
       "      <th>A</th>\n",
       "      <th>B</th>\n",
       "      <th>C</th>\n",
       "      <th>D</th>\n",
       "    </tr>\n",
       "  </thead>\n",
       "  <tbody>\n",
       "    <tr>\n",
       "      <th>0</th>\n",
       "      <td>foo</td>\n",
       "      <td>one</td>\n",
       "      <td>0.135461</td>\n",
       "      <td>0.312179</td>\n",
       "    </tr>\n",
       "    <tr>\n",
       "      <th>1</th>\n",
       "      <td>bar</td>\n",
       "      <td>one</td>\n",
       "      <td>0.537111</td>\n",
       "      <td>-1.297565</td>\n",
       "    </tr>\n",
       "    <tr>\n",
       "      <th>2</th>\n",
       "      <td>foo</td>\n",
       "      <td>two</td>\n",
       "      <td>1.038696</td>\n",
       "      <td>2.058621</td>\n",
       "    </tr>\n",
       "    <tr>\n",
       "      <th>3</th>\n",
       "      <td>bar</td>\n",
       "      <td>three</td>\n",
       "      <td>-0.503046</td>\n",
       "      <td>0.188416</td>\n",
       "    </tr>\n",
       "    <tr>\n",
       "      <th>4</th>\n",
       "      <td>foo</td>\n",
       "      <td>two</td>\n",
       "      <td>-0.722922</td>\n",
       "      <td>0.225139</td>\n",
       "    </tr>\n",
       "    <tr>\n",
       "      <th>5</th>\n",
       "      <td>bar</td>\n",
       "      <td>two</td>\n",
       "      <td>-1.456640</td>\n",
       "      <td>0.347218</td>\n",
       "    </tr>\n",
       "    <tr>\n",
       "      <th>6</th>\n",
       "      <td>foo</td>\n",
       "      <td>one</td>\n",
       "      <td>0.885266</td>\n",
       "      <td>-0.805854</td>\n",
       "    </tr>\n",
       "    <tr>\n",
       "      <th>7</th>\n",
       "      <td>foo</td>\n",
       "      <td>three</td>\n",
       "      <td>0.531064</td>\n",
       "      <td>-1.183341</td>\n",
       "    </tr>\n",
       "  </tbody>\n",
       "</table>\n",
       "</div>"
      ],
      "text/plain": [
       "     A      B         C         D\n",
       "0  foo    one  0.135461  0.312179\n",
       "1  bar    one  0.537111 -1.297565\n",
       "2  foo    two  1.038696  2.058621\n",
       "3  bar  three -0.503046  0.188416\n",
       "4  foo    two -0.722922  0.225139\n",
       "5  bar    two -1.456640  0.347218\n",
       "6  foo    one  0.885266 -0.805854\n",
       "7  foo  three  0.531064 -1.183341"
      ]
     },
     "execution_count": 117,
     "metadata": {},
     "output_type": "execute_result"
    }
   ],
   "source": [
    "df = pd.DataFrame(\n",
    "    {\n",
    "        \"A\": [\"foo\", \"bar\", \"foo\", \"bar\", \"foo\", \"bar\", \"foo\", \"foo\"],\n",
    "        \"B\": [\"one\", \"one\", \"two\", \"three\", \"two\", \"two\", \"one\", \"three\"],\n",
    "        \"C\": np.random.randn(8),\n",
    "        \"D\": np.random.randn(8),\n",
    "    }\n",
    ")\n",
    "df"
   ]
  },
  {
   "cell_type": "code",
   "execution_count": 120,
   "id": "6aaedc2a-e420-4bc7-9443-dbc1a8004d13",
   "metadata": {},
   "outputs": [
    {
     "data": {
      "text/html": [
       "<div>\n",
       "<style scoped>\n",
       "    .dataframe tbody tr th:only-of-type {\n",
       "        vertical-align: middle;\n",
       "    }\n",
       "\n",
       "    .dataframe tbody tr th {\n",
       "        vertical-align: top;\n",
       "    }\n",
       "\n",
       "    .dataframe thead th {\n",
       "        text-align: right;\n",
       "    }\n",
       "</style>\n",
       "<table border=\"1\" class=\"dataframe\">\n",
       "  <thead>\n",
       "    <tr style=\"text-align: right;\">\n",
       "      <th></th>\n",
       "      <th>C</th>\n",
       "      <th>D</th>\n",
       "    </tr>\n",
       "    <tr>\n",
       "      <th>A</th>\n",
       "      <th></th>\n",
       "      <th></th>\n",
       "    </tr>\n",
       "  </thead>\n",
       "  <tbody>\n",
       "    <tr>\n",
       "      <th>bar</th>\n",
       "      <td>-1.422576</td>\n",
       "      <td>-0.761931</td>\n",
       "    </tr>\n",
       "    <tr>\n",
       "      <th>foo</th>\n",
       "      <td>1.867565</td>\n",
       "      <td>0.606743</td>\n",
       "    </tr>\n",
       "  </tbody>\n",
       "</table>\n",
       "</div>"
      ],
      "text/plain": [
       "            C         D\n",
       "A                      \n",
       "bar -1.422576 -0.761931\n",
       "foo  1.867565  0.606743"
      ]
     },
     "execution_count": 120,
     "metadata": {},
     "output_type": "execute_result"
    }
   ],
   "source": [
    "df.groupby(\"A\").sum()"
   ]
  },
  {
   "cell_type": "code",
   "execution_count": 121,
   "id": "9966cc59-9f16-483e-8940-536115f4caef",
   "metadata": {},
   "outputs": [
    {
     "data": {
      "text/html": [
       "<div>\n",
       "<style scoped>\n",
       "    .dataframe tbody tr th:only-of-type {\n",
       "        vertical-align: middle;\n",
       "    }\n",
       "\n",
       "    .dataframe tbody tr th {\n",
       "        vertical-align: top;\n",
       "    }\n",
       "\n",
       "    .dataframe thead th {\n",
       "        text-align: right;\n",
       "    }\n",
       "</style>\n",
       "<table border=\"1\" class=\"dataframe\">\n",
       "  <thead>\n",
       "    <tr style=\"text-align: right;\">\n",
       "      <th></th>\n",
       "      <th></th>\n",
       "      <th>C</th>\n",
       "      <th>D</th>\n",
       "    </tr>\n",
       "    <tr>\n",
       "      <th>A</th>\n",
       "      <th>B</th>\n",
       "      <th></th>\n",
       "      <th></th>\n",
       "    </tr>\n",
       "  </thead>\n",
       "  <tbody>\n",
       "    <tr>\n",
       "      <th rowspan=\"3\" valign=\"top\">bar</th>\n",
       "      <th>one</th>\n",
       "      <td>0.537111</td>\n",
       "      <td>-1.297565</td>\n",
       "    </tr>\n",
       "    <tr>\n",
       "      <th>three</th>\n",
       "      <td>-0.503046</td>\n",
       "      <td>0.188416</td>\n",
       "    </tr>\n",
       "    <tr>\n",
       "      <th>two</th>\n",
       "      <td>-1.456640</td>\n",
       "      <td>0.347218</td>\n",
       "    </tr>\n",
       "    <tr>\n",
       "      <th rowspan=\"3\" valign=\"top\">foo</th>\n",
       "      <th>one</th>\n",
       "      <td>1.020728</td>\n",
       "      <td>-0.493676</td>\n",
       "    </tr>\n",
       "    <tr>\n",
       "      <th>three</th>\n",
       "      <td>0.531064</td>\n",
       "      <td>-1.183341</td>\n",
       "    </tr>\n",
       "    <tr>\n",
       "      <th>two</th>\n",
       "      <td>0.315773</td>\n",
       "      <td>2.283759</td>\n",
       "    </tr>\n",
       "  </tbody>\n",
       "</table>\n",
       "</div>"
      ],
      "text/plain": [
       "                  C         D\n",
       "A   B                        \n",
       "bar one    0.537111 -1.297565\n",
       "    three -0.503046  0.188416\n",
       "    two   -1.456640  0.347218\n",
       "foo one    1.020728 -0.493676\n",
       "    three  0.531064 -1.183341\n",
       "    two    0.315773  2.283759"
      ]
     },
     "execution_count": 121,
     "metadata": {},
     "output_type": "execute_result"
    }
   ],
   "source": [
    "df.groupby([\"A\", \"B\"]).sum()"
   ]
  },
  {
   "cell_type": "code",
   "execution_count": 127,
   "id": "6f1f11c6-39c5-4684-b384-b7b9d9eef96c",
   "metadata": {},
   "outputs": [],
   "source": [
    "tuples = list(\n",
    "    zip(\n",
    "        *[\n",
    "            [\"bar\", \"bar\", \"baz\", \"baz\", \"foo\", \"foo\", \"qux\", \"qux\"],\n",
    "            [\"one\", \"two\", \"one\", \"two\", \"one\", \"two\", \"one\", \"two\"],\n",
    "        ]\n",
    "    )\n",
    ")"
   ]
  },
  {
   "cell_type": "code",
   "execution_count": 133,
   "id": "98b10201-bbef-4a70-9e2b-379a1adf7f06",
   "metadata": {},
   "outputs": [
    {
     "data": {
      "text/html": [
       "<div>\n",
       "<style scoped>\n",
       "    .dataframe tbody tr th:only-of-type {\n",
       "        vertical-align: middle;\n",
       "    }\n",
       "\n",
       "    .dataframe tbody tr th {\n",
       "        vertical-align: top;\n",
       "    }\n",
       "\n",
       "    .dataframe thead th {\n",
       "        text-align: right;\n",
       "    }\n",
       "</style>\n",
       "<table border=\"1\" class=\"dataframe\">\n",
       "  <thead>\n",
       "    <tr style=\"text-align: right;\">\n",
       "      <th></th>\n",
       "      <th></th>\n",
       "      <th>A</th>\n",
       "      <th>B</th>\n",
       "    </tr>\n",
       "    <tr>\n",
       "      <th>first</th>\n",
       "      <th>second</th>\n",
       "      <th></th>\n",
       "      <th></th>\n",
       "    </tr>\n",
       "  </thead>\n",
       "  <tbody>\n",
       "    <tr>\n",
       "      <th rowspan=\"2\" valign=\"top\">bar</th>\n",
       "      <th>one</th>\n",
       "      <td>-0.219261</td>\n",
       "      <td>1.014446</td>\n",
       "    </tr>\n",
       "    <tr>\n",
       "      <th>two</th>\n",
       "      <td>0.417630</td>\n",
       "      <td>0.459968</td>\n",
       "    </tr>\n",
       "    <tr>\n",
       "      <th rowspan=\"2\" valign=\"top\">baz</th>\n",
       "      <th>one</th>\n",
       "      <td>0.513018</td>\n",
       "      <td>1.168497</td>\n",
       "    </tr>\n",
       "    <tr>\n",
       "      <th>two</th>\n",
       "      <td>-0.299681</td>\n",
       "      <td>-0.438081</td>\n",
       "    </tr>\n",
       "  </tbody>\n",
       "</table>\n",
       "</div>"
      ],
      "text/plain": [
       "                     A         B\n",
       "first second                    \n",
       "bar   one    -0.219261  1.014446\n",
       "      two     0.417630  0.459968\n",
       "baz   one     0.513018  1.168497\n",
       "      two    -0.299681 -0.438081"
      ]
     },
     "execution_count": 133,
     "metadata": {},
     "output_type": "execute_result"
    }
   ],
   "source": [
    "index = pd.MultiIndex.from_tuples(tuples, names=[\"first\", \"second\"])\n",
    "df = pd.DataFrame(np.random.randn(8, 2), index=index, columns=[\"A\", \"B\"])\n",
    "df2 = df[:4]\n",
    "df2"
   ]
  },
  {
   "cell_type": "code",
   "execution_count": 134,
   "id": "8302645a-05ad-4e34-9d5e-e60515ab0715",
   "metadata": {},
   "outputs": [
    {
     "data": {
      "text/html": [
       "<div>\n",
       "<style scoped>\n",
       "    .dataframe tbody tr th:only-of-type {\n",
       "        vertical-align: middle;\n",
       "    }\n",
       "\n",
       "    .dataframe tbody tr th {\n",
       "        vertical-align: top;\n",
       "    }\n",
       "\n",
       "    .dataframe thead th {\n",
       "        text-align: right;\n",
       "    }\n",
       "</style>\n",
       "<table border=\"1\" class=\"dataframe\">\n",
       "  <thead>\n",
       "    <tr style=\"text-align: right;\">\n",
       "      <th></th>\n",
       "      <th></th>\n",
       "      <th>A</th>\n",
       "      <th>B</th>\n",
       "    </tr>\n",
       "    <tr>\n",
       "      <th>first</th>\n",
       "      <th>second</th>\n",
       "      <th></th>\n",
       "      <th></th>\n",
       "    </tr>\n",
       "  </thead>\n",
       "  <tbody>\n",
       "    <tr>\n",
       "      <th rowspan=\"2\" valign=\"top\">bar</th>\n",
       "      <th>one</th>\n",
       "      <td>-0.219261</td>\n",
       "      <td>1.014446</td>\n",
       "    </tr>\n",
       "    <tr>\n",
       "      <th>two</th>\n",
       "      <td>0.417630</td>\n",
       "      <td>0.459968</td>\n",
       "    </tr>\n",
       "    <tr>\n",
       "      <th rowspan=\"2\" valign=\"top\">baz</th>\n",
       "      <th>one</th>\n",
       "      <td>0.513018</td>\n",
       "      <td>1.168497</td>\n",
       "    </tr>\n",
       "    <tr>\n",
       "      <th>two</th>\n",
       "      <td>-0.299681</td>\n",
       "      <td>-0.438081</td>\n",
       "    </tr>\n",
       "    <tr>\n",
       "      <th rowspan=\"2\" valign=\"top\">foo</th>\n",
       "      <th>one</th>\n",
       "      <td>0.251549</td>\n",
       "      <td>-1.848364</td>\n",
       "    </tr>\n",
       "    <tr>\n",
       "      <th>two</th>\n",
       "      <td>-0.443371</td>\n",
       "      <td>-0.129616</td>\n",
       "    </tr>\n",
       "    <tr>\n",
       "      <th rowspan=\"2\" valign=\"top\">qux</th>\n",
       "      <th>one</th>\n",
       "      <td>-1.026567</td>\n",
       "      <td>-1.393853</td>\n",
       "    </tr>\n",
       "    <tr>\n",
       "      <th>two</th>\n",
       "      <td>-0.628313</td>\n",
       "      <td>-0.352460</td>\n",
       "    </tr>\n",
       "  </tbody>\n",
       "</table>\n",
       "</div>"
      ],
      "text/plain": [
       "                     A         B\n",
       "first second                    \n",
       "bar   one    -0.219261  1.014446\n",
       "      two     0.417630  0.459968\n",
       "baz   one     0.513018  1.168497\n",
       "      two    -0.299681 -0.438081\n",
       "foo   one     0.251549 -1.848364\n",
       "      two    -0.443371 -0.129616\n",
       "qux   one    -1.026567 -1.393853\n",
       "      two    -0.628313 -0.352460"
      ]
     },
     "execution_count": 134,
     "metadata": {},
     "output_type": "execute_result"
    }
   ],
   "source": [
    "df"
   ]
  },
  {
   "cell_type": "code",
   "execution_count": 136,
   "id": "e897dce3-d813-4818-9faa-3d797b403631",
   "metadata": {},
   "outputs": [
    {
     "data": {
      "text/plain": [
       "first  second   \n",
       "bar    one     A   -0.219261\n",
       "               B    1.014446\n",
       "       two     A    0.417630\n",
       "               B    0.459968\n",
       "baz    one     A    0.513018\n",
       "               B    1.168497\n",
       "       two     A   -0.299681\n",
       "               B   -0.438081\n",
       "dtype: float64"
      ]
     },
     "execution_count": 136,
     "metadata": {},
     "output_type": "execute_result"
    }
   ],
   "source": [
    "stacked = df2.stack()\n",
    "stacked"
   ]
  },
  {
   "cell_type": "code",
   "execution_count": 137,
   "id": "63453389-bbea-473d-b9ee-86f75f9c0df5",
   "metadata": {},
   "outputs": [
    {
     "data": {
      "text/html": [
       "<div>\n",
       "<style scoped>\n",
       "    .dataframe tbody tr th:only-of-type {\n",
       "        vertical-align: middle;\n",
       "    }\n",
       "\n",
       "    .dataframe tbody tr th {\n",
       "        vertical-align: top;\n",
       "    }\n",
       "\n",
       "    .dataframe thead th {\n",
       "        text-align: right;\n",
       "    }\n",
       "</style>\n",
       "<table border=\"1\" class=\"dataframe\">\n",
       "  <thead>\n",
       "    <tr style=\"text-align: right;\">\n",
       "      <th></th>\n",
       "      <th></th>\n",
       "      <th>A</th>\n",
       "      <th>B</th>\n",
       "    </tr>\n",
       "    <tr>\n",
       "      <th>first</th>\n",
       "      <th>second</th>\n",
       "      <th></th>\n",
       "      <th></th>\n",
       "    </tr>\n",
       "  </thead>\n",
       "  <tbody>\n",
       "    <tr>\n",
       "      <th rowspan=\"2\" valign=\"top\">bar</th>\n",
       "      <th>one</th>\n",
       "      <td>-0.219261</td>\n",
       "      <td>1.014446</td>\n",
       "    </tr>\n",
       "    <tr>\n",
       "      <th>two</th>\n",
       "      <td>0.417630</td>\n",
       "      <td>0.459968</td>\n",
       "    </tr>\n",
       "    <tr>\n",
       "      <th rowspan=\"2\" valign=\"top\">baz</th>\n",
       "      <th>one</th>\n",
       "      <td>0.513018</td>\n",
       "      <td>1.168497</td>\n",
       "    </tr>\n",
       "    <tr>\n",
       "      <th>two</th>\n",
       "      <td>-0.299681</td>\n",
       "      <td>-0.438081</td>\n",
       "    </tr>\n",
       "  </tbody>\n",
       "</table>\n",
       "</div>"
      ],
      "text/plain": [
       "                     A         B\n",
       "first second                    \n",
       "bar   one    -0.219261  1.014446\n",
       "      two     0.417630  0.459968\n",
       "baz   one     0.513018  1.168497\n",
       "      two    -0.299681 -0.438081"
      ]
     },
     "execution_count": 137,
     "metadata": {},
     "output_type": "execute_result"
    }
   ],
   "source": [
    "stacked.unstack()"
   ]
  },
  {
   "cell_type": "code",
   "execution_count": 138,
   "id": "f92d676f-85ae-4224-a4c4-7901ff064cef",
   "metadata": {},
   "outputs": [
    {
     "data": {
      "text/html": [
       "<div>\n",
       "<style scoped>\n",
       "    .dataframe tbody tr th:only-of-type {\n",
       "        vertical-align: middle;\n",
       "    }\n",
       "\n",
       "    .dataframe tbody tr th {\n",
       "        vertical-align: top;\n",
       "    }\n",
       "\n",
       "    .dataframe thead th {\n",
       "        text-align: right;\n",
       "    }\n",
       "</style>\n",
       "<table border=\"1\" class=\"dataframe\">\n",
       "  <thead>\n",
       "    <tr style=\"text-align: right;\">\n",
       "      <th></th>\n",
       "      <th>second</th>\n",
       "      <th>one</th>\n",
       "      <th>two</th>\n",
       "    </tr>\n",
       "    <tr>\n",
       "      <th>first</th>\n",
       "      <th></th>\n",
       "      <th></th>\n",
       "      <th></th>\n",
       "    </tr>\n",
       "  </thead>\n",
       "  <tbody>\n",
       "    <tr>\n",
       "      <th rowspan=\"2\" valign=\"top\">bar</th>\n",
       "      <th>A</th>\n",
       "      <td>-0.219261</td>\n",
       "      <td>0.417630</td>\n",
       "    </tr>\n",
       "    <tr>\n",
       "      <th>B</th>\n",
       "      <td>1.014446</td>\n",
       "      <td>0.459968</td>\n",
       "    </tr>\n",
       "    <tr>\n",
       "      <th rowspan=\"2\" valign=\"top\">baz</th>\n",
       "      <th>A</th>\n",
       "      <td>0.513018</td>\n",
       "      <td>-0.299681</td>\n",
       "    </tr>\n",
       "    <tr>\n",
       "      <th>B</th>\n",
       "      <td>1.168497</td>\n",
       "      <td>-0.438081</td>\n",
       "    </tr>\n",
       "  </tbody>\n",
       "</table>\n",
       "</div>"
      ],
      "text/plain": [
       "second        one       two\n",
       "first                      \n",
       "bar   A -0.219261  0.417630\n",
       "      B  1.014446  0.459968\n",
       "baz   A  0.513018 -0.299681\n",
       "      B  1.168497 -0.438081"
      ]
     },
     "execution_count": 138,
     "metadata": {},
     "output_type": "execute_result"
    }
   ],
   "source": [
    "stacked.unstack(1)"
   ]
  },
  {
   "cell_type": "code",
   "execution_count": 139,
   "id": "35c9999c-123e-4be9-a608-442cdaba40bf",
   "metadata": {},
   "outputs": [
    {
     "data": {
      "text/html": [
       "<div>\n",
       "<style scoped>\n",
       "    .dataframe tbody tr th:only-of-type {\n",
       "        vertical-align: middle;\n",
       "    }\n",
       "\n",
       "    .dataframe tbody tr th {\n",
       "        vertical-align: top;\n",
       "    }\n",
       "\n",
       "    .dataframe thead th {\n",
       "        text-align: right;\n",
       "    }\n",
       "</style>\n",
       "<table border=\"1\" class=\"dataframe\">\n",
       "  <thead>\n",
       "    <tr style=\"text-align: right;\">\n",
       "      <th></th>\n",
       "      <th>first</th>\n",
       "      <th>bar</th>\n",
       "      <th>baz</th>\n",
       "    </tr>\n",
       "    <tr>\n",
       "      <th>second</th>\n",
       "      <th></th>\n",
       "      <th></th>\n",
       "      <th></th>\n",
       "    </tr>\n",
       "  </thead>\n",
       "  <tbody>\n",
       "    <tr>\n",
       "      <th rowspan=\"2\" valign=\"top\">one</th>\n",
       "      <th>A</th>\n",
       "      <td>-0.219261</td>\n",
       "      <td>0.513018</td>\n",
       "    </tr>\n",
       "    <tr>\n",
       "      <th>B</th>\n",
       "      <td>1.014446</td>\n",
       "      <td>1.168497</td>\n",
       "    </tr>\n",
       "    <tr>\n",
       "      <th rowspan=\"2\" valign=\"top\">two</th>\n",
       "      <th>A</th>\n",
       "      <td>0.417630</td>\n",
       "      <td>-0.299681</td>\n",
       "    </tr>\n",
       "    <tr>\n",
       "      <th>B</th>\n",
       "      <td>0.459968</td>\n",
       "      <td>-0.438081</td>\n",
       "    </tr>\n",
       "  </tbody>\n",
       "</table>\n",
       "</div>"
      ],
      "text/plain": [
       "first          bar       baz\n",
       "second                      \n",
       "one    A -0.219261  0.513018\n",
       "       B  1.014446  1.168497\n",
       "two    A  0.417630 -0.299681\n",
       "       B  0.459968 -0.438081"
      ]
     },
     "execution_count": 139,
     "metadata": {},
     "output_type": "execute_result"
    }
   ],
   "source": [
    "stacked.unstack(0)"
   ]
  },
  {
   "cell_type": "code",
   "execution_count": 140,
   "id": "a6f2a81e-32df-461f-8f15-4522e34a336f",
   "metadata": {},
   "outputs": [
    {
     "data": {
      "text/html": [
       "<div>\n",
       "<style scoped>\n",
       "    .dataframe tbody tr th:only-of-type {\n",
       "        vertical-align: middle;\n",
       "    }\n",
       "\n",
       "    .dataframe tbody tr th {\n",
       "        vertical-align: top;\n",
       "    }\n",
       "\n",
       "    .dataframe thead th {\n",
       "        text-align: right;\n",
       "    }\n",
       "</style>\n",
       "<table border=\"1\" class=\"dataframe\">\n",
       "  <thead>\n",
       "    <tr style=\"text-align: right;\">\n",
       "      <th></th>\n",
       "      <th>A</th>\n",
       "      <th>B</th>\n",
       "      <th>C</th>\n",
       "      <th>D</th>\n",
       "      <th>E</th>\n",
       "    </tr>\n",
       "  </thead>\n",
       "  <tbody>\n",
       "    <tr>\n",
       "      <th>0</th>\n",
       "      <td>one</td>\n",
       "      <td>A</td>\n",
       "      <td>foo</td>\n",
       "      <td>-0.327845</td>\n",
       "      <td>0.394399</td>\n",
       "    </tr>\n",
       "    <tr>\n",
       "      <th>1</th>\n",
       "      <td>one</td>\n",
       "      <td>B</td>\n",
       "      <td>foo</td>\n",
       "      <td>0.237457</td>\n",
       "      <td>-0.358715</td>\n",
       "    </tr>\n",
       "    <tr>\n",
       "      <th>2</th>\n",
       "      <td>two</td>\n",
       "      <td>C</td>\n",
       "      <td>foo</td>\n",
       "      <td>1.286432</td>\n",
       "      <td>-0.308848</td>\n",
       "    </tr>\n",
       "    <tr>\n",
       "      <th>3</th>\n",
       "      <td>three</td>\n",
       "      <td>A</td>\n",
       "      <td>bar</td>\n",
       "      <td>2.857433</td>\n",
       "      <td>-1.176876</td>\n",
       "    </tr>\n",
       "    <tr>\n",
       "      <th>4</th>\n",
       "      <td>one</td>\n",
       "      <td>B</td>\n",
       "      <td>bar</td>\n",
       "      <td>0.252496</td>\n",
       "      <td>0.504522</td>\n",
       "    </tr>\n",
       "    <tr>\n",
       "      <th>5</th>\n",
       "      <td>one</td>\n",
       "      <td>C</td>\n",
       "      <td>bar</td>\n",
       "      <td>-0.657143</td>\n",
       "      <td>-0.540318</td>\n",
       "    </tr>\n",
       "    <tr>\n",
       "      <th>6</th>\n",
       "      <td>two</td>\n",
       "      <td>A</td>\n",
       "      <td>foo</td>\n",
       "      <td>0.012389</td>\n",
       "      <td>-0.566950</td>\n",
       "    </tr>\n",
       "    <tr>\n",
       "      <th>7</th>\n",
       "      <td>three</td>\n",
       "      <td>B</td>\n",
       "      <td>foo</td>\n",
       "      <td>0.637402</td>\n",
       "      <td>-0.121269</td>\n",
       "    </tr>\n",
       "    <tr>\n",
       "      <th>8</th>\n",
       "      <td>one</td>\n",
       "      <td>C</td>\n",
       "      <td>foo</td>\n",
       "      <td>1.069567</td>\n",
       "      <td>0.390893</td>\n",
       "    </tr>\n",
       "    <tr>\n",
       "      <th>9</th>\n",
       "      <td>one</td>\n",
       "      <td>A</td>\n",
       "      <td>bar</td>\n",
       "      <td>1.054304</td>\n",
       "      <td>1.706430</td>\n",
       "    </tr>\n",
       "    <tr>\n",
       "      <th>10</th>\n",
       "      <td>two</td>\n",
       "      <td>B</td>\n",
       "      <td>bar</td>\n",
       "      <td>-0.177413</td>\n",
       "      <td>0.561402</td>\n",
       "    </tr>\n",
       "    <tr>\n",
       "      <th>11</th>\n",
       "      <td>three</td>\n",
       "      <td>C</td>\n",
       "      <td>bar</td>\n",
       "      <td>-0.095211</td>\n",
       "      <td>0.681618</td>\n",
       "    </tr>\n",
       "  </tbody>\n",
       "</table>\n",
       "</div>"
      ],
      "text/plain": [
       "        A  B    C         D         E\n",
       "0     one  A  foo -0.327845  0.394399\n",
       "1     one  B  foo  0.237457 -0.358715\n",
       "2     two  C  foo  1.286432 -0.308848\n",
       "3   three  A  bar  2.857433 -1.176876\n",
       "4     one  B  bar  0.252496  0.504522\n",
       "5     one  C  bar -0.657143 -0.540318\n",
       "6     two  A  foo  0.012389 -0.566950\n",
       "7   three  B  foo  0.637402 -0.121269\n",
       "8     one  C  foo  1.069567  0.390893\n",
       "9     one  A  bar  1.054304  1.706430\n",
       "10    two  B  bar -0.177413  0.561402\n",
       "11  three  C  bar -0.095211  0.681618"
      ]
     },
     "execution_count": 140,
     "metadata": {},
     "output_type": "execute_result"
    }
   ],
   "source": [
    "df = pd.DataFrame(\n",
    "    {\n",
    "        \"A\": [\"one\", \"one\", \"two\", \"three\"] * 3,\n",
    "        \"B\": [\"A\", \"B\", \"C\"] * 4,\n",
    "        \"C\": [\"foo\", \"foo\", \"foo\", \"bar\", \"bar\", \"bar\"] * 2,\n",
    "        \"D\": np.random.randn(12),\n",
    "        \"E\": np.random.randn(12),   \n",
    "    }\n",
    ")\n",
    "df"
   ]
  },
  {
   "cell_type": "code",
   "execution_count": 141,
   "id": "49af7fd7-10fa-42ac-92fd-37bba9ef9998",
   "metadata": {},
   "outputs": [
    {
     "data": {
      "text/html": [
       "<div>\n",
       "<style scoped>\n",
       "    .dataframe tbody tr th:only-of-type {\n",
       "        vertical-align: middle;\n",
       "    }\n",
       "\n",
       "    .dataframe tbody tr th {\n",
       "        vertical-align: top;\n",
       "    }\n",
       "\n",
       "    .dataframe thead th {\n",
       "        text-align: right;\n",
       "    }\n",
       "</style>\n",
       "<table border=\"1\" class=\"dataframe\">\n",
       "  <thead>\n",
       "    <tr style=\"text-align: right;\">\n",
       "      <th></th>\n",
       "      <th>C</th>\n",
       "      <th>bar</th>\n",
       "      <th>foo</th>\n",
       "    </tr>\n",
       "    <tr>\n",
       "      <th>A</th>\n",
       "      <th>B</th>\n",
       "      <th></th>\n",
       "      <th></th>\n",
       "    </tr>\n",
       "  </thead>\n",
       "  <tbody>\n",
       "    <tr>\n",
       "      <th rowspan=\"3\" valign=\"top\">one</th>\n",
       "      <th>A</th>\n",
       "      <td>1.054304</td>\n",
       "      <td>-0.327845</td>\n",
       "    </tr>\n",
       "    <tr>\n",
       "      <th>B</th>\n",
       "      <td>0.252496</td>\n",
       "      <td>0.237457</td>\n",
       "    </tr>\n",
       "    <tr>\n",
       "      <th>C</th>\n",
       "      <td>-0.657143</td>\n",
       "      <td>1.069567</td>\n",
       "    </tr>\n",
       "    <tr>\n",
       "      <th rowspan=\"3\" valign=\"top\">three</th>\n",
       "      <th>A</th>\n",
       "      <td>2.857433</td>\n",
       "      <td>NaN</td>\n",
       "    </tr>\n",
       "    <tr>\n",
       "      <th>B</th>\n",
       "      <td>NaN</td>\n",
       "      <td>0.637402</td>\n",
       "    </tr>\n",
       "    <tr>\n",
       "      <th>C</th>\n",
       "      <td>-0.095211</td>\n",
       "      <td>NaN</td>\n",
       "    </tr>\n",
       "    <tr>\n",
       "      <th rowspan=\"3\" valign=\"top\">two</th>\n",
       "      <th>A</th>\n",
       "      <td>NaN</td>\n",
       "      <td>0.012389</td>\n",
       "    </tr>\n",
       "    <tr>\n",
       "      <th>B</th>\n",
       "      <td>-0.177413</td>\n",
       "      <td>NaN</td>\n",
       "    </tr>\n",
       "    <tr>\n",
       "      <th>C</th>\n",
       "      <td>NaN</td>\n",
       "      <td>1.286432</td>\n",
       "    </tr>\n",
       "  </tbody>\n",
       "</table>\n",
       "</div>"
      ],
      "text/plain": [
       "C             bar       foo\n",
       "A     B                    \n",
       "one   A  1.054304 -0.327845\n",
       "      B  0.252496  0.237457\n",
       "      C -0.657143  1.069567\n",
       "three A  2.857433       NaN\n",
       "      B       NaN  0.637402\n",
       "      C -0.095211       NaN\n",
       "two   A       NaN  0.012389\n",
       "      B -0.177413       NaN\n",
       "      C       NaN  1.286432"
      ]
     },
     "execution_count": 141,
     "metadata": {},
     "output_type": "execute_result"
    }
   ],
   "source": [
    "pd.pivot_table(df, values=\"D\", index=[\"A\", \"B\"], columns=[\"C\"])"
   ]
  },
  {
   "cell_type": "code",
   "execution_count": 147,
   "id": "3ab37f5d-3266-48d4-80d7-88db86648c18",
   "metadata": {},
   "outputs": [
    {
     "data": {
      "text/plain": [
       "2012-01-01    25232\n",
       "Freq: 5T, dtype: int32"
      ]
     },
     "execution_count": 147,
     "metadata": {},
     "output_type": "execute_result"
    }
   ],
   "source": [
    "rng = pd.date_range(\"1/1/2012\", periods=100, freq=\"S\")\n",
    "ts = pd.Series(np.random.randint(0, 500, len(rng)), index=rng)\n",
    "ts.resample(\"5Min\").sum()"
   ]
  },
  {
   "cell_type": "code",
   "execution_count": 149,
   "id": "145f72fd-6df9-4343-a407-9a7f3842e2f5",
   "metadata": {},
   "outputs": [
    {
     "data": {
      "text/plain": [
       "2012-01-01 00:00:00    496\n",
       "2012-01-01 00:00:01    155\n",
       "2012-01-01 00:00:02    214\n",
       "2012-01-01 00:00:03    172\n",
       "2012-01-01 00:00:04    418\n",
       "                      ... \n",
       "2012-01-01 00:01:35    352\n",
       "2012-01-01 00:01:36    127\n",
       "2012-01-01 00:01:37     94\n",
       "2012-01-01 00:01:38     64\n",
       "2012-01-01 00:01:39    319\n",
       "Freq: S, Length: 100, dtype: int32"
      ]
     },
     "execution_count": 149,
     "metadata": {},
     "output_type": "execute_result"
    }
   ],
   "source": [
    "ts"
   ]
  },
  {
   "cell_type": "code",
   "execution_count": 150,
   "id": "d9ac7db2-e869-4e1f-8865-9fe7b008ccee",
   "metadata": {},
   "outputs": [
    {
     "data": {
      "text/plain": [
       "2012-03-06   -1.572910\n",
       "2012-03-07   -0.650926\n",
       "2012-03-08   -1.207607\n",
       "2012-03-09    0.433308\n",
       "2012-03-10    1.404296\n",
       "Freq: D, dtype: float64"
      ]
     },
     "execution_count": 150,
     "metadata": {},
     "output_type": "execute_result"
    }
   ],
   "source": [
    "rng = pd.date_range(\"3/6/2012 00:00\", periods=5, freq=\"D\")\n",
    "ts = pd.Series(np.random.randn(len(rng)), rng)\n",
    "ts"
   ]
  },
  {
   "cell_type": "code",
   "execution_count": 151,
   "id": "167bba34-a51e-4971-bbc9-3d681be2815a",
   "metadata": {},
   "outputs": [
    {
     "data": {
      "text/plain": [
       "2012-03-06 00:00:00+00:00   -1.572910\n",
       "2012-03-07 00:00:00+00:00   -0.650926\n",
       "2012-03-08 00:00:00+00:00   -1.207607\n",
       "2012-03-09 00:00:00+00:00    0.433308\n",
       "2012-03-10 00:00:00+00:00    1.404296\n",
       "Freq: D, dtype: float64"
      ]
     },
     "execution_count": 151,
     "metadata": {},
     "output_type": "execute_result"
    }
   ],
   "source": [
    "ts_utc = ts.tz_localize(\"UTC\")\n",
    "ts_utc"
   ]
  },
  {
   "cell_type": "code",
   "execution_count": 152,
   "id": "6cf5b503-e135-403c-b3d8-14659c893f6e",
   "metadata": {},
   "outputs": [
    {
     "data": {
      "text/plain": [
       "2012-03-05 19:00:00-05:00   -1.572910\n",
       "2012-03-06 19:00:00-05:00   -0.650926\n",
       "2012-03-07 19:00:00-05:00   -1.207607\n",
       "2012-03-08 19:00:00-05:00    0.433308\n",
       "2012-03-09 19:00:00-05:00    1.404296\n",
       "Freq: D, dtype: float64"
      ]
     },
     "execution_count": 152,
     "metadata": {},
     "output_type": "execute_result"
    }
   ],
   "source": [
    "ts_utc.tz_convert(\"US/Eastern\")"
   ]
  },
  {
   "cell_type": "code",
   "execution_count": 156,
   "id": "8d3067a6-06fa-4263-be7d-864c91bc75f6",
   "metadata": {},
   "outputs": [
    {
     "data": {
      "text/plain": [
       "2012-01-31   -0.311597\n",
       "2012-02-29   -0.317247\n",
       "2012-03-31    1.063979\n",
       "2012-04-30    0.216261\n",
       "2012-05-31    0.687834\n",
       "Freq: M, dtype: float64"
      ]
     },
     "execution_count": 156,
     "metadata": {},
     "output_type": "execute_result"
    }
   ],
   "source": [
    "rng = pd.date_range(\"1/1/2012\", periods=5, freq=\"M\")\n",
    "ts = pd.Series(np.random.randn(len(rng)), index=rng)\n",
    "ts"
   ]
  },
  {
   "cell_type": "code",
   "execution_count": 158,
   "id": "344133b8-2331-4a3a-8092-7fca5e159ef5",
   "metadata": {},
   "outputs": [
    {
     "data": {
      "text/plain": [
       "2012-01   -0.311597\n",
       "2012-02   -0.317247\n",
       "2012-03    1.063979\n",
       "2012-04    0.216261\n",
       "2012-05    0.687834\n",
       "Freq: M, dtype: float64"
      ]
     },
     "execution_count": 158,
     "metadata": {},
     "output_type": "execute_result"
    }
   ],
   "source": [
    "ps = ts.to_period()\n",
    "ps"
   ]
  },
  {
   "cell_type": "code",
   "execution_count": 159,
   "id": "420319c3-a135-4953-bd12-71a99c3548d1",
   "metadata": {},
   "outputs": [
    {
     "data": {
      "text/plain": [
       "2012-01-01   -0.311597\n",
       "2012-02-01   -0.317247\n",
       "2012-03-01    1.063979\n",
       "2012-04-01    0.216261\n",
       "2012-05-01    0.687834\n",
       "Freq: MS, dtype: float64"
      ]
     },
     "execution_count": 159,
     "metadata": {},
     "output_type": "execute_result"
    }
   ],
   "source": [
    "ps.to_timestamp()"
   ]
  },
  {
   "cell_type": "code",
   "execution_count": 153,
   "id": "b9601373-a908-4c09-b85e-6b4d1ad8048e",
   "metadata": {},
   "outputs": [],
   "source": [
    "df = pd.DataFrame(\n",
    "        {\"id\": [1, 2, 3, 4, 5, 6], \"raw_grade\": [\"a\", \"b\", \"b\", \"a\", \"a\", \"e\"]}\n",
    ")"
   ]
  },
  {
   "cell_type": "code",
   "execution_count": 160,
   "id": "de36aa70-2a6c-446e-8b4f-698387875852",
   "metadata": {},
   "outputs": [
    {
     "data": {
      "text/plain": [
       "1990-03-01 09:00    1.356882\n",
       "1990-06-01 09:00    0.852872\n",
       "1990-09-01 09:00    0.699896\n",
       "1990-12-01 09:00   -1.484208\n",
       "1991-03-01 09:00    0.636760\n",
       "Freq: H, dtype: float64"
      ]
     },
     "execution_count": 160,
     "metadata": {},
     "output_type": "execute_result"
    }
   ],
   "source": [
    "prng = pd.period_range(\"1990Q1\", \"2000Q4\", freq=\"Q-NOV\")\n",
    "ts = pd.Series(np.random.randn(len(prng)), prng)\n",
    "ts.index = (prng.asfreq(\"M\", \"e\") + 1).asfreq(\"H\", \"S\")+ 9\n",
    "ts.head()"
   ]
  },
  {
   "cell_type": "code",
   "execution_count": 163,
   "id": "2d9f6f17-4a05-4a19-a82e-e76aa2b5d23d",
   "metadata": {},
   "outputs": [
    {
     "data": {
      "text/html": [
       "<div>\n",
       "<style scoped>\n",
       "    .dataframe tbody tr th:only-of-type {\n",
       "        vertical-align: middle;\n",
       "    }\n",
       "\n",
       "    .dataframe tbody tr th {\n",
       "        vertical-align: top;\n",
       "    }\n",
       "\n",
       "    .dataframe thead th {\n",
       "        text-align: right;\n",
       "    }\n",
       "</style>\n",
       "<table border=\"1\" class=\"dataframe\">\n",
       "  <thead>\n",
       "    <tr style=\"text-align: right;\">\n",
       "      <th></th>\n",
       "      <th>id</th>\n",
       "      <th>raw_grade</th>\n",
       "    </tr>\n",
       "  </thead>\n",
       "  <tbody>\n",
       "    <tr>\n",
       "      <th>0</th>\n",
       "      <td>1</td>\n",
       "      <td>a</td>\n",
       "    </tr>\n",
       "    <tr>\n",
       "      <th>1</th>\n",
       "      <td>2</td>\n",
       "      <td>b</td>\n",
       "    </tr>\n",
       "    <tr>\n",
       "      <th>2</th>\n",
       "      <td>3</td>\n",
       "      <td>b</td>\n",
       "    </tr>\n",
       "    <tr>\n",
       "      <th>3</th>\n",
       "      <td>4</td>\n",
       "      <td>a</td>\n",
       "    </tr>\n",
       "    <tr>\n",
       "      <th>4</th>\n",
       "      <td>5</td>\n",
       "      <td>a</td>\n",
       "    </tr>\n",
       "    <tr>\n",
       "      <th>5</th>\n",
       "      <td>6</td>\n",
       "      <td>e</td>\n",
       "    </tr>\n",
       "  </tbody>\n",
       "</table>\n",
       "</div>"
      ],
      "text/plain": [
       "   id raw_grade\n",
       "0   1         a\n",
       "1   2         b\n",
       "2   3         b\n",
       "3   4         a\n",
       "4   5         a\n",
       "5   6         e"
      ]
     },
     "execution_count": 163,
     "metadata": {},
     "output_type": "execute_result"
    }
   ],
   "source": [
    "df = pd.DataFrame(\n",
    "    {\"id\": [1, 2, 3, 4, 5, 6], \"raw_grade\": [\"a\", \"b\", \"b\", \"a\", \"a\", \"e\"]}\n",
    ")\n",
    "df"
   ]
  },
  {
   "cell_type": "code",
   "execution_count": 164,
   "id": "7bbe82e2-c25f-461c-ac5c-d5abfb75a6ef",
   "metadata": {},
   "outputs": [
    {
     "data": {
      "text/plain": [
       "0    a\n",
       "1    b\n",
       "2    b\n",
       "3    a\n",
       "4    a\n",
       "5    e\n",
       "Name: grade, dtype: category\n",
       "Categories (3, object): ['a', 'b', 'e']"
      ]
     },
     "execution_count": 164,
     "metadata": {},
     "output_type": "execute_result"
    }
   ],
   "source": [
    "df[\"grade\"] = df[\"raw_grade\"].astype(\"category\")\n",
    "df[\"grade\"]"
   ]
  },
  {
   "cell_type": "code",
   "execution_count": 165,
   "id": "40c89ca8-86c4-4722-a564-6cdf265de769",
   "metadata": {},
   "outputs": [],
   "source": [
    "df[\"grade\"].cat.categories = [\"very good\", \"good\", \"very bad\"]"
   ]
  },
  {
   "cell_type": "code",
   "execution_count": 166,
   "id": "7013d7fd-c769-4bb9-a789-53f02d001b8b",
   "metadata": {},
   "outputs": [
    {
     "data": {
      "text/plain": [
       "0    very good\n",
       "1         good\n",
       "2         good\n",
       "3    very good\n",
       "4    very good\n",
       "5     very bad\n",
       "Name: grade, dtype: category\n",
       "Categories (3, object): ['very good', 'good', 'very bad']"
      ]
     },
     "execution_count": 166,
     "metadata": {},
     "output_type": "execute_result"
    }
   ],
   "source": [
    "df[\"grade\"]"
   ]
  },
  {
   "cell_type": "code",
   "execution_count": 170,
   "id": "8599cd74-23e8-4f57-acd9-e9a99b68d261",
   "metadata": {},
   "outputs": [],
   "source": [
    "df[\"grade\"] = df[\"grade\"].cat.set_categories(\n",
    "    [\"very bad\", \"bad\", \"medium\", \"good\", \"very good\"]\n",
    ")"
   ]
  },
  {
   "cell_type": "code",
   "execution_count": 171,
   "id": "abfb7284-f7ce-465e-8c80-794daf6f3ebd",
   "metadata": {},
   "outputs": [
    {
     "data": {
      "text/html": [
       "<div>\n",
       "<style scoped>\n",
       "    .dataframe tbody tr th:only-of-type {\n",
       "        vertical-align: middle;\n",
       "    }\n",
       "\n",
       "    .dataframe tbody tr th {\n",
       "        vertical-align: top;\n",
       "    }\n",
       "\n",
       "    .dataframe thead th {\n",
       "        text-align: right;\n",
       "    }\n",
       "</style>\n",
       "<table border=\"1\" class=\"dataframe\">\n",
       "  <thead>\n",
       "    <tr style=\"text-align: right;\">\n",
       "      <th></th>\n",
       "      <th>id</th>\n",
       "      <th>raw_grade</th>\n",
       "      <th>grade</th>\n",
       "    </tr>\n",
       "  </thead>\n",
       "  <tbody>\n",
       "    <tr>\n",
       "      <th>5</th>\n",
       "      <td>6</td>\n",
       "      <td>e</td>\n",
       "      <td>very bad</td>\n",
       "    </tr>\n",
       "    <tr>\n",
       "      <th>1</th>\n",
       "      <td>2</td>\n",
       "      <td>b</td>\n",
       "      <td>good</td>\n",
       "    </tr>\n",
       "    <tr>\n",
       "      <th>2</th>\n",
       "      <td>3</td>\n",
       "      <td>b</td>\n",
       "      <td>good</td>\n",
       "    </tr>\n",
       "    <tr>\n",
       "      <th>0</th>\n",
       "      <td>1</td>\n",
       "      <td>a</td>\n",
       "      <td>very good</td>\n",
       "    </tr>\n",
       "    <tr>\n",
       "      <th>3</th>\n",
       "      <td>4</td>\n",
       "      <td>a</td>\n",
       "      <td>very good</td>\n",
       "    </tr>\n",
       "    <tr>\n",
       "      <th>4</th>\n",
       "      <td>5</td>\n",
       "      <td>a</td>\n",
       "      <td>very good</td>\n",
       "    </tr>\n",
       "  </tbody>\n",
       "</table>\n",
       "</div>"
      ],
      "text/plain": [
       "   id raw_grade      grade\n",
       "5   6         e   very bad\n",
       "1   2         b       good\n",
       "2   3         b       good\n",
       "0   1         a  very good\n",
       "3   4         a  very good\n",
       "4   5         a  very good"
      ]
     },
     "execution_count": 171,
     "metadata": {},
     "output_type": "execute_result"
    }
   ],
   "source": [
    "df.sort_values(by=\"grade\")"
   ]
  },
  {
   "cell_type": "code",
   "execution_count": 172,
   "id": "ac76408a-6c09-40ea-8222-1ec1b1dffe4a",
   "metadata": {},
   "outputs": [
    {
     "data": {
      "text/plain": [
       "grade\n",
       "very bad     1\n",
       "bad          0\n",
       "medium       0\n",
       "good         2\n",
       "very good    3\n",
       "dtype: int64"
      ]
     },
     "execution_count": 172,
     "metadata": {},
     "output_type": "execute_result"
    }
   ],
   "source": [
    "df.groupby(\"grade\").size()"
   ]
  },
  {
   "cell_type": "code",
   "execution_count": null,
   "id": "fc7c2f08-6c04-474a-b684-5e0d2c9aee86",
   "metadata": {},
   "outputs": [],
   "source": []
  }
 ],
 "metadata": {
  "kernelspec": {
   "display_name": "Python 3 (ipykernel)",
   "language": "python",
   "name": "python3"
  },
  "language_info": {
   "codemirror_mode": {
    "name": "ipython",
    "version": 3
   },
   "file_extension": ".py",
   "mimetype": "text/x-python",
   "name": "python",
   "nbconvert_exporter": "python",
   "pygments_lexer": "ipython3",
   "version": "3.9.7"
  }
 },
 "nbformat": 4,
 "nbformat_minor": 5
}
