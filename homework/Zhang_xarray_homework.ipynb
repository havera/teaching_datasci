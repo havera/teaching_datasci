{
 "cells": [
  {
   "cell_type": "markdown",
   "id": "17d1a32d-aa3c-4ace-85a0-a37aa74a8ddc",
   "metadata": {},
   "source": [
    "Homework Options:\n",
    "1) data structure of the doc\n",
    "2) generate random data to some shape and try. or bring your own data sets to try"
   ]
  },
  {
   "cell_type": "code",
   "execution_count": null,
   "id": "187bef0a-589f-4aae-bb97-d73cca8699e0",
   "metadata": {},
   "outputs": [],
   "source": []
  }
 ],
 "metadata": {
  "kernelspec": {
   "display_name": "Python 3 (ipykernel)",
   "language": "python",
   "name": "python3"
  },
  "language_info": {
   "codemirror_mode": {
    "name": "ipython",
    "version": 3
   },
   "file_extension": ".py",
   "mimetype": "text/x-python",
   "name": "python",
   "nbconvert_exporter": "python",
   "pygments_lexer": "ipython3",
   "version": "3.9.7"
  }
 },
 "nbformat": 4,
 "nbformat_minor": 5
}
