{
 "cells": [
  {
   "cell_type": "markdown",
   "id": "b21786cb-8242-41ae-b07b-8f4be538c983",
   "metadata": {},
   "source": [
    "Homework Options:\n",
    "1) data structure of the doc\n",
    "2) generate random data to some shape and try. or bring your own data sets to try"
   ]
  },
  {
   "cell_type": "code",
   "execution_count": null,
   "id": "0aefa24d-9a8a-4f62-acb3-b66ab94cb1ee",
   "metadata": {},
   "outputs": [],
   "source": []
  }
 ],
 "metadata": {
  "kernelspec": {
   "display_name": "Python 3 (ipykernel)",
   "language": "python",
   "name": "python3"
  },
  "language_info": {
   "codemirror_mode": {
    "name": "ipython",
    "version": 3
   },
   "file_extension": ".py",
   "mimetype": "text/x-python",
   "name": "python",
   "nbconvert_exporter": "python",
   "pygments_lexer": "ipython3",
   "version": "3.9.7"
  }
 },
 "nbformat": 4,
 "nbformat_minor": 5
}
