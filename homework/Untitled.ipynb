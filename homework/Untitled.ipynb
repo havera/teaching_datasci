{
 "cells": [
  {
   "cell_type": "code",
   "execution_count": 1,
   "id": "da6f5db3-4aa7-4509-b84a-cd025c4270fc",
   "metadata": {},
   "outputs": [],
   "source": [
    "import matplotlib as mpl\n",
    "import matplotlib.pyplot as plt\n",
    "import numpy as np"
   ]
  },
  {
   "cell_type": "code",
   "execution_count": 4,
   "id": "7ff660c5-0703-4989-b634-dabf9b8f2d86",
   "metadata": {},
   "outputs": [
    {
     "data": {
      "image/png": "[encoded data removed]",
      "text/plain": [
       "<Figure size 432x288 with 1 Axes>"
      ]
     },
     "metadata": {
      "needs_background": "light"
     },
     "output_type": "display_data"
    }
   ],
   "source": [
    "fig, ax = plt.subplots()\n",
    "ax.plot([3, 2, 5, 8], [4, 6, 9, 3], 'go');"
   ]
  },
  {
   "cell_type": "code",
   "execution_count": 5,
   "id": "9f367391-124f-42ea-b963-39296f6cee10",
   "metadata": {},
   "outputs": [
    {
     "data": {
      "text/plain": [
       "<Figure size 432x288 with 0 Axes>"
      ]
     },
     "metadata": {},
     "output_type": "display_data"
    }
   ],
   "source": [
    "fig = plt.figure()"
   ]
  },
  {
   "cell_type": "code",
   "execution_count": 6,
   "id": "dac52b27-bb63-4d45-8bea-6dd6a03adbad",
   "metadata": {},
   "outputs": [
    {
     "data": {
      "image/png": "[encoded data removed]",
      "text/plain": [
       "<Figure size 432x288 with 1 Axes>"
      ]
     },
     "metadata": {
      "needs_background": "light"
     },
     "output_type": "display_data"
    }
   ],
   "source": [
    "fig, ax = plt.subplots()"
   ]
  },
  {
   "cell_type": "code",
   "execution_count": 10,
   "id": "1de2875f-8d49-48c4-9fa6-47ae6aac16e7",
   "metadata": {},
   "outputs": [
    {
     "data": {
      "image/png": "[encoded data removed]",
      "text/plain": [
       "<Figure size 432x288 with 4 Axes>"
      ]
     },
     "metadata": {
      "needs_background": "light"
     },
     "output_type": "display_data"
    }
   ],
   "source": [
    "fig, ax = plt.subplots(2, 2)"
   ]
  },
  {
   "cell_type": "code",
   "execution_count": 11,
   "id": "31901680-13d1-410c-af3f-d107bcf9b0d8",
   "metadata": {},
   "outputs": [],
   "source": [
    "b = np.matrix([[2, 4], [5, 8]])\n",
    "b_asarray = np.asarray(b)"
   ]
  },
  {
   "cell_type": "code",
   "execution_count": 12,
   "id": "245be723-7f0f-49ab-9aa6-13c436888329",
   "metadata": {},
   "outputs": [
    {
     "data": {
      "text/plain": [
       "array([[2, 4],\n",
       "       [5, 8]])"
      ]
     },
     "execution_count": 12,
     "metadata": {},
     "output_type": "execute_result"
    }
   ],
   "source": [
    "b_asarray"
   ]
  },
  {
   "cell_type": "code",
   "execution_count": 13,
   "id": "77459921-6735-4ba8-8531-72d9d208e2f6",
   "metadata": {},
   "outputs": [
    {
     "data": {
      "text/plain": [
       "matrix([[2, 4],\n",
       "        [5, 8]])"
      ]
     },
     "execution_count": 13,
     "metadata": {},
     "output_type": "execute_result"
    }
   ],
   "source": [
    "b"
   ]
  },
  {
   "cell_type": "code",
   "execution_count": 16,
   "id": "858695ea-21b0-49b3-89ef-ce34c1ebcfcc",
   "metadata": {},
   "outputs": [
    {
     "data": {
      "text/plain": [
       "{'a': array([ 0,  1,  2,  3,  4,  5,  6,  7,  8,  9, 10, 11, 12, 13, 14, 15, 16,\n",
       "        17, 18, 19, 20, 21, 22, 23, 24, 25, 26, 27, 28, 29, 30, 31, 32, 33,\n",
       "        34, 35, 36, 37, 38, 39, 40, 41, 42, 43, 44, 45, 46, 47, 48, 49]),\n",
       " 'c': array([20, 44, 20, 45,  6, 34, 34, 23,  3, 49, 36, 42, 18, 11,  8, 37, 11,\n",
       "         3,  5, 48,  9,  3, 33, 32, 31,  0, 26, 37,  0, 17, 23, 25, 24,  6,\n",
       "        23, 19, 34, 10, 42, 11, 47,  9, 39,  3, 24, 38, 42, 10, 35, 47]),\n",
       " 'd': array([ 1.31086051, -0.51744207, -0.01665814,  0.46917225,  0.77677809,\n",
       "        -1.88469769, -0.12758733, -0.51931744,  0.73514322,  1.34685132,\n",
       "         0.55025505, -0.22905116,  0.66123163, -0.53636847, -0.48194438,\n",
       "         0.31272356, -3.12183853, -1.35847701, -0.14263821, -0.21699693,\n",
       "        -0.032868  ,  1.83214468,  0.35235984,  0.23664513,  1.47854807,\n",
       "         1.55430657, -1.11060898,  0.82378856,  0.66527469,  0.71476639,\n",
       "        -1.23078705,  2.09540213, -0.60321948,  1.61355306, -0.25398405,\n",
       "        -1.51587877, -0.11722652,  0.49542836, -0.70259085,  0.39506954,\n",
       "        -1.12327902, -1.71555479, -0.27110515,  0.08624074, -1.09047119,\n",
       "         0.11254301, -0.95364447,  0.05022319, -0.4831606 ,  1.3339033 ]),\n",
       " 'b': array([  4.8018808 ,  -6.4972666 , -11.2077656 ,   6.322316  ,\n",
       "          1.33391659,  11.36202025,  -5.18315173,   9.64545151,\n",
       "          8.93059413,  -2.9619809 ,   1.010722  ,  10.5460328 ,\n",
       "          6.02832418,  13.15619153,   7.92816087,  22.2140083 ,\n",
       "         20.64277678,  25.26559419,  18.93012033,  -3.62283088,\n",
       "         29.90723646,   8.2618424 ,   8.1226306 ,  24.55220778,\n",
       "         24.73672481,  35.29148044,  19.39618445,  20.81129384,\n",
       "         26.1046295 ,  23.53964929,  46.2580496 ,  29.97454235,\n",
       "         17.69996036,  41.7538301 ,  32.48260765,  31.30030868,\n",
       "         36.13983623,  36.18332016,  48.92477345,  44.27782523,\n",
       "         57.41677485,  35.53675523,  58.57367953,  49.73629965,\n",
       "         43.15151999,  28.47595654,  52.43563731,  37.8567097 ,\n",
       "         51.49878342,  49.98087623])}"
      ]
     },
     "execution_count": 16,
     "metadata": {},
     "output_type": "execute_result"
    }
   ],
   "source": [
    "np.random.seed(19680801)\n",
    "data = {'a': np.arange(50),\n",
    "        'c': np.random.randint(0, 50, 50),\n",
    "        'd': np.random.randn(50)}\n",
    "data['b'] = data['a'] + 10 * np.random.randn(50)\n",
    "data['d'] = np.abs(data['d']) * 100\n",
    "data"
   ]
  },
  {
   "cell_type": "code",
   "execution_count": null,
   "id": "eca7f64f-2ee2-4bfd-a26a-1b496b37a7d9",
   "metadata": {},
   "outputs": [],
   "source": []
  }
 ],
 "metadata": {
  "kernelspec": {
   "display_name": "Python 3 (ipykernel)",
   "language": "python",
   "name": "python3"
  },
  "language_info": {
   "codemirror_mode": {
    "name": "ipython",
    "version": 3
   },
   "file_extension": ".py",
   "mimetype": "text/x-python",
   "name": "python",
   "nbconvert_exporter": "python",
   "pygments_lexer": "ipython3",
   "version": "3.9.7"
  }
 },
 "nbformat": 4,
 "nbformat_minor": 5
}
