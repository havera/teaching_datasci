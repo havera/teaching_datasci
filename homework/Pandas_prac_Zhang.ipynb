{
 "cells": [
  {
   "cell_type": "code",
   "execution_count": 1,
   "id": "dbac21d0-56bc-4155-8aaf-c187f092e76b",
   "metadata": {},
   "outputs": [],
   "source": [
    "import numpy as np"
   ]
  },
  {
   "cell_type": "code",
   "execution_count": 2,
   "id": "7ffba7ce-ede2-4c6b-80ba-9ef7ae7be080",
   "metadata": {},
   "outputs": [],
   "source": [
    "import pandas as pd"
   ]
  },
  {
   "cell_type": "code",
   "execution_count": 3,
   "id": "44577b51-3a86-4589-9495-e4213cb00fa1",
   "metadata": {},
   "outputs": [
    {
     "data": {
      "text/plain": [
       "0    1.0\n",
       "1    3.0\n",
       "2    5.0\n",
       "3    NaN\n",
       "4    7.0\n",
       "5    9.0\n",
       "dtype: float64"
      ]
     },
     "execution_count": 3,
     "metadata": {},
     "output_type": "execute_result"
    }
   ],
   "source": [
    "s = pd.Series([1, 3, 5, np.nan, 7, 9])\n",
    "s"
   ]
  },
  {
   "cell_type": "code",
   "execution_count": 6,
   "id": "1024b6ca-fb0b-494b-98be-526a0224b152",
   "metadata": {},
   "outputs": [
    {
     "data": {
      "text/plain": [
       "DatetimeIndex(['2022-02-23', '2022-02-24', '2022-02-25', '2022-02-26',\n",
       "               '2022-02-27', '2022-02-28'],\n",
       "              dtype='datetime64[ns]', freq='D')"
      ]
     },
     "execution_count": 6,
     "metadata": {},
     "output_type": "execute_result"
    }
   ],
   "source": [
    "dates = pd.date_range(\"20220223\", periods=6)\n",
    "dates"
   ]
  },
  {
   "cell_type": "code",
   "execution_count": 7,
   "id": "2b82fc5a-79ba-4f6d-a291-e557ddf711fe",
   "metadata": {},
   "outputs": [
    {
     "data": {
      "text/html": [
       "<div>\n",
       "<style scoped>\n",
       "    .dataframe tbody tr th:only-of-type {\n",
       "        vertical-align: middle;\n",
       "    }\n",
       "\n",
       "    .dataframe tbody tr th {\n",
       "        vertical-align: top;\n",
       "    }\n",
       "\n",
       "    .dataframe thead th {\n",
       "        text-align: right;\n",
       "    }\n",
       "</style>\n",
       "<table border=\"1\" class=\"dataframe\">\n",
       "  <thead>\n",
       "    <tr style=\"text-align: right;\">\n",
       "      <th></th>\n",
       "      <th>A</th>\n",
       "      <th>B</th>\n",
       "      <th>C</th>\n",
       "      <th>D</th>\n",
       "    </tr>\n",
       "  </thead>\n",
       "  <tbody>\n",
       "    <tr>\n",
       "      <th>2022-02-23</th>\n",
       "      <td>1.216410</td>\n",
       "      <td>-0.584314</td>\n",
       "      <td>1.423233</td>\n",
       "      <td>1.737388</td>\n",
       "    </tr>\n",
       "    <tr>\n",
       "      <th>2022-02-24</th>\n",
       "      <td>-0.750925</td>\n",
       "      <td>0.013535</td>\n",
       "      <td>-0.894995</td>\n",
       "      <td>0.565960</td>\n",
       "    </tr>\n",
       "    <tr>\n",
       "      <th>2022-02-25</th>\n",
       "      <td>1.474223</td>\n",
       "      <td>-0.848770</td>\n",
       "      <td>-0.367688</td>\n",
       "      <td>0.357055</td>\n",
       "    </tr>\n",
       "    <tr>\n",
       "      <th>2022-02-26</th>\n",
       "      <td>-1.125284</td>\n",
       "      <td>-1.851011</td>\n",
       "      <td>0.611127</td>\n",
       "      <td>-1.026441</td>\n",
       "    </tr>\n",
       "    <tr>\n",
       "      <th>2022-02-27</th>\n",
       "      <td>-0.313378</td>\n",
       "      <td>-0.647989</td>\n",
       "      <td>-1.353883</td>\n",
       "      <td>0.939492</td>\n",
       "    </tr>\n",
       "    <tr>\n",
       "      <th>2022-02-28</th>\n",
       "      <td>0.224564</td>\n",
       "      <td>-0.802723</td>\n",
       "      <td>-2.523010</td>\n",
       "      <td>-0.390186</td>\n",
       "    </tr>\n",
       "  </tbody>\n",
       "</table>\n",
       "</div>"
      ],
      "text/plain": [
       "                   A         B         C         D\n",
       "2022-02-23  1.216410 -0.584314  1.423233  1.737388\n",
       "2022-02-24 -0.750925  0.013535 -0.894995  0.565960\n",
       "2022-02-25  1.474223 -0.848770 -0.367688  0.357055\n",
       "2022-02-26 -1.125284 -1.851011  0.611127 -1.026441\n",
       "2022-02-27 -0.313378 -0.647989 -1.353883  0.939492\n",
       "2022-02-28  0.224564 -0.802723 -2.523010 -0.390186"
      ]
     },
     "execution_count": 7,
     "metadata": {},
     "output_type": "execute_result"
    }
   ],
   "source": [
    "df = pd.DataFrame(np.random.randn(6, 4), index=dates, columns=list(\"ABCD\"))\n",
    "df"
   ]
  },
  {
   "cell_type": "code",
   "execution_count": 24,
   "id": "76a3a66e-484a-4782-9b24-6d4da8f47701",
   "metadata": {},
   "outputs": [
    {
     "data": {
      "text/html": [
       "<div>\n",
       "<style scoped>\n",
       "    .dataframe tbody tr th:only-of-type {\n",
       "        vertical-align: middle;\n",
       "    }\n",
       "\n",
       "    .dataframe tbody tr th {\n",
       "        vertical-align: top;\n",
       "    }\n",
       "\n",
       "    .dataframe thead th {\n",
       "        text-align: right;\n",
       "    }\n",
       "</style>\n",
       "<table border=\"1\" class=\"dataframe\">\n",
       "  <thead>\n",
       "    <tr style=\"text-align: right;\">\n",
       "      <th></th>\n",
       "      <th>A</th>\n",
       "      <th>B</th>\n",
       "      <th>C</th>\n",
       "      <th>D</th>\n",
       "      <th>E</th>\n",
       "      <th>F</th>\n",
       "    </tr>\n",
       "  </thead>\n",
       "  <tbody>\n",
       "    <tr>\n",
       "      <th>0</th>\n",
       "      <td>1.0</td>\n",
       "      <td>2022-01-01</td>\n",
       "      <td>1.0</td>\n",
       "      <td>3</td>\n",
       "      <td>test</td>\n",
       "      <td>foo</td>\n",
       "    </tr>\n",
       "    <tr>\n",
       "      <th>1</th>\n",
       "      <td>1.0</td>\n",
       "      <td>2022-01-01</td>\n",
       "      <td>1.0</td>\n",
       "      <td>3</td>\n",
       "      <td>train</td>\n",
       "      <td>foo</td>\n",
       "    </tr>\n",
       "    <tr>\n",
       "      <th>2</th>\n",
       "      <td>1.0</td>\n",
       "      <td>2022-01-01</td>\n",
       "      <td>1.0</td>\n",
       "      <td>3</td>\n",
       "      <td>test</td>\n",
       "      <td>foo</td>\n",
       "    </tr>\n",
       "    <tr>\n",
       "      <th>3</th>\n",
       "      <td>1.0</td>\n",
       "      <td>2022-01-01</td>\n",
       "      <td>1.0</td>\n",
       "      <td>3</td>\n",
       "      <td>train</td>\n",
       "      <td>foo</td>\n",
       "    </tr>\n",
       "  </tbody>\n",
       "</table>\n",
       "</div>"
      ],
      "text/plain": [
       "     A          B    C  D      E    F\n",
       "0  1.0 2022-01-01  1.0  3   test  foo\n",
       "1  1.0 2022-01-01  1.0  3  train  foo\n",
       "2  1.0 2022-01-01  1.0  3   test  foo\n",
       "3  1.0 2022-01-01  1.0  3  train  foo"
      ]
     },
     "execution_count": 24,
     "metadata": {},
     "output_type": "execute_result"
    }
   ],
   "source": [
    "df2 = pd.DataFrame(\n",
    "    {\n",
    "        \"A\": 1.0,\n",
    "        \"B\": pd.Timestamp(\"20220101\"),\n",
    "        \"C\": pd.Series(1, index=list(range(4)), dtype=\"float32\"),\n",
    "        \"D\": np.array([3] * 4, dtype=\"int32\"),\n",
    "        \"E\": pd.Categorical([\"test\", \"train\", \"test\", \"train\"]),\n",
    "        \"F\": \"foo\",\n",
    "    }\n",
    ")\n",
    "df2"
   ]
  },
  {
   "cell_type": "code",
   "execution_count": 25,
   "id": "174e8776-4add-4090-bc59-c90b77208ce7",
   "metadata": {},
   "outputs": [
    {
     "data": {
      "text/plain": [
       "A           float64\n",
       "B    datetime64[ns]\n",
       "C           float32\n",
       "D             int32\n",
       "E          category\n",
       "F            object\n",
       "dtype: object"
      ]
     },
     "execution_count": 25,
     "metadata": {},
     "output_type": "execute_result"
    }
   ],
   "source": [
    "df2.dtypes"
   ]
  },
  {
   "cell_type": "code",
   "execution_count": 27,
   "id": "8e4f41ec-568a-4a54-9c6b-b1fc76c86751",
   "metadata": {},
   "outputs": [
    {
     "data": {
      "text/html": [
       "<div>\n",
       "<style scoped>\n",
       "    .dataframe tbody tr th:only-of-type {\n",
       "        vertical-align: middle;\n",
       "    }\n",
       "\n",
       "    .dataframe tbody tr th {\n",
       "        vertical-align: top;\n",
       "    }\n",
       "\n",
       "    .dataframe thead th {\n",
       "        text-align: right;\n",
       "    }\n",
       "</style>\n",
       "<table border=\"1\" class=\"dataframe\">\n",
       "  <thead>\n",
       "    <tr style=\"text-align: right;\">\n",
       "      <th></th>\n",
       "      <th>A</th>\n",
       "      <th>B</th>\n",
       "      <th>C</th>\n",
       "      <th>D</th>\n",
       "    </tr>\n",
       "  </thead>\n",
       "  <tbody>\n",
       "    <tr>\n",
       "      <th>2022-02-23</th>\n",
       "      <td>1.216410</td>\n",
       "      <td>-0.584314</td>\n",
       "      <td>1.423233</td>\n",
       "      <td>1.737388</td>\n",
       "    </tr>\n",
       "    <tr>\n",
       "      <th>2022-02-24</th>\n",
       "      <td>-0.750925</td>\n",
       "      <td>0.013535</td>\n",
       "      <td>-0.894995</td>\n",
       "      <td>0.565960</td>\n",
       "    </tr>\n",
       "    <tr>\n",
       "      <th>2022-02-25</th>\n",
       "      <td>1.474223</td>\n",
       "      <td>-0.848770</td>\n",
       "      <td>-0.367688</td>\n",
       "      <td>0.357055</td>\n",
       "    </tr>\n",
       "    <tr>\n",
       "      <th>2022-02-26</th>\n",
       "      <td>-1.125284</td>\n",
       "      <td>-1.851011</td>\n",
       "      <td>0.611127</td>\n",
       "      <td>-1.026441</td>\n",
       "    </tr>\n",
       "    <tr>\n",
       "      <th>2022-02-27</th>\n",
       "      <td>-0.313378</td>\n",
       "      <td>-0.647989</td>\n",
       "      <td>-1.353883</td>\n",
       "      <td>0.939492</td>\n",
       "    </tr>\n",
       "  </tbody>\n",
       "</table>\n",
       "</div>"
      ],
      "text/plain": [
       "                   A         B         C         D\n",
       "2022-02-23  1.216410 -0.584314  1.423233  1.737388\n",
       "2022-02-24 -0.750925  0.013535 -0.894995  0.565960\n",
       "2022-02-25  1.474223 -0.848770 -0.367688  0.357055\n",
       "2022-02-26 -1.125284 -1.851011  0.611127 -1.026441\n",
       "2022-02-27 -0.313378 -0.647989 -1.353883  0.939492"
      ]
     },
     "execution_count": 27,
     "metadata": {},
     "output_type": "execute_result"
    }
   ],
   "source": [
    "df.head()"
   ]
  },
  {
   "cell_type": "code",
   "execution_count": 28,
   "id": "d3339b4c-4954-429c-89a8-b5ad0925b03c",
   "metadata": {},
   "outputs": [
    {
     "data": {
      "text/html": [
       "<div>\n",
       "<style scoped>\n",
       "    .dataframe tbody tr th:only-of-type {\n",
       "        vertical-align: middle;\n",
       "    }\n",
       "\n",
       "    .dataframe tbody tr th {\n",
       "        vertical-align: top;\n",
       "    }\n",
       "\n",
       "    .dataframe thead th {\n",
       "        text-align: right;\n",
       "    }\n",
       "</style>\n",
       "<table border=\"1\" class=\"dataframe\">\n",
       "  <thead>\n",
       "    <tr style=\"text-align: right;\">\n",
       "      <th></th>\n",
       "      <th>A</th>\n",
       "      <th>B</th>\n",
       "      <th>C</th>\n",
       "      <th>D</th>\n",
       "    </tr>\n",
       "  </thead>\n",
       "  <tbody>\n",
       "    <tr>\n",
       "      <th>2022-02-26</th>\n",
       "      <td>-1.125284</td>\n",
       "      <td>-1.851011</td>\n",
       "      <td>0.611127</td>\n",
       "      <td>-1.026441</td>\n",
       "    </tr>\n",
       "    <tr>\n",
       "      <th>2022-02-27</th>\n",
       "      <td>-0.313378</td>\n",
       "      <td>-0.647989</td>\n",
       "      <td>-1.353883</td>\n",
       "      <td>0.939492</td>\n",
       "    </tr>\n",
       "    <tr>\n",
       "      <th>2022-02-28</th>\n",
       "      <td>0.224564</td>\n",
       "      <td>-0.802723</td>\n",
       "      <td>-2.523010</td>\n",
       "      <td>-0.390186</td>\n",
       "    </tr>\n",
       "  </tbody>\n",
       "</table>\n",
       "</div>"
      ],
      "text/plain": [
       "                   A         B         C         D\n",
       "2022-02-26 -1.125284 -1.851011  0.611127 -1.026441\n",
       "2022-02-27 -0.313378 -0.647989 -1.353883  0.939492\n",
       "2022-02-28  0.224564 -0.802723 -2.523010 -0.390186"
      ]
     },
     "execution_count": 28,
     "metadata": {},
     "output_type": "execute_result"
    }
   ],
   "source": [
    "df.tail(3)"
   ]
  },
  {
   "cell_type": "code",
   "execution_count": 29,
   "id": "1a142ed8-3be8-45c8-86a4-93dc58ade0a3",
   "metadata": {},
   "outputs": [
    {
     "data": {
      "text/plain": [
       "DatetimeIndex(['2022-02-23', '2022-02-24', '2022-02-25', '2022-02-26',\n",
       "               '2022-02-27', '2022-02-28'],\n",
       "              dtype='datetime64[ns]', freq='D')"
      ]
     },
     "execution_count": 29,
     "metadata": {},
     "output_type": "execute_result"
    }
   ],
   "source": [
    "df.index"
   ]
  },
  {
   "cell_type": "code",
   "execution_count": 30,
   "id": "8910ccb0-b5a8-408e-b132-9e7c3ca26b4a",
   "metadata": {},
   "outputs": [
    {
     "data": {
      "text/plain": [
       "Index(['A', 'B', 'C', 'D'], dtype='object')"
      ]
     },
     "execution_count": 30,
     "metadata": {},
     "output_type": "execute_result"
    }
   ],
   "source": [
    "df.columns"
   ]
  },
  {
   "cell_type": "code",
   "execution_count": 31,
   "id": "cca889bf-b2a9-4511-8fe7-2fe9c516eb0d",
   "metadata": {},
   "outputs": [
    {
     "data": {
      "text/plain": [
       "array([[ 1.21640959, -0.58431356,  1.42323274,  1.73738825],\n",
       "       [-0.75092467,  0.01353459, -0.89499484,  0.56595967],\n",
       "       [ 1.47422334, -0.84877   , -0.36768789,  0.35705475],\n",
       "       [-1.12528441, -1.85101079,  0.61112687, -1.02644113],\n",
       "       [-0.31337775, -0.6479892 , -1.35388287,  0.93949166],\n",
       "       [ 0.22456369, -0.80272267, -2.52301042, -0.39018592]])"
      ]
     },
     "execution_count": 31,
     "metadata": {},
     "output_type": "execute_result"
    }
   ],
   "source": [
    "df.to_numpy()"
   ]
  },
  {
   "cell_type": "code",
   "execution_count": 32,
   "id": "03554580-fe87-43f7-a573-de0b1818482e",
   "metadata": {},
   "outputs": [
    {
     "data": {
      "text/plain": [
       "array([[1.0, Timestamp('2022-01-01 00:00:00'), 1.0, 3, 'test', 'foo'],\n",
       "       [1.0, Timestamp('2022-01-01 00:00:00'), 1.0, 3, 'train', 'foo'],\n",
       "       [1.0, Timestamp('2022-01-01 00:00:00'), 1.0, 3, 'test', 'foo'],\n",
       "       [1.0, Timestamp('2022-01-01 00:00:00'), 1.0, 3, 'train', 'foo']],\n",
       "      dtype=object)"
      ]
     },
     "execution_count": 32,
     "metadata": {},
     "output_type": "execute_result"
    }
   ],
   "source": [
    "df2.to_numpy()"
   ]
  },
  {
   "cell_type": "code",
   "execution_count": 33,
   "id": "2428fceb-5f8c-4eab-b201-af324f7b8f0a",
   "metadata": {},
   "outputs": [
    {
     "data": {
      "text/html": [
       "<div>\n",
       "<style scoped>\n",
       "    .dataframe tbody tr th:only-of-type {\n",
       "        vertical-align: middle;\n",
       "    }\n",
       "\n",
       "    .dataframe tbody tr th {\n",
       "        vertical-align: top;\n",
       "    }\n",
       "\n",
       "    .dataframe thead th {\n",
       "        text-align: right;\n",
       "    }\n",
       "</style>\n",
       "<table border=\"1\" class=\"dataframe\">\n",
       "  <thead>\n",
       "    <tr style=\"text-align: right;\">\n",
       "      <th></th>\n",
       "      <th>A</th>\n",
       "      <th>B</th>\n",
       "      <th>C</th>\n",
       "      <th>D</th>\n",
       "    </tr>\n",
       "  </thead>\n",
       "  <tbody>\n",
       "    <tr>\n",
       "      <th>count</th>\n",
       "      <td>6.000000</td>\n",
       "      <td>6.000000</td>\n",
       "      <td>6.000000</td>\n",
       "      <td>6.000000</td>\n",
       "    </tr>\n",
       "    <tr>\n",
       "      <th>mean</th>\n",
       "      <td>0.120935</td>\n",
       "      <td>-0.786879</td>\n",
       "      <td>-0.517536</td>\n",
       "      <td>0.363878</td>\n",
       "    </tr>\n",
       "    <tr>\n",
       "      <th>std</th>\n",
       "      <td>1.052998</td>\n",
       "      <td>0.606208</td>\n",
       "      <td>1.409028</td>\n",
       "      <td>0.975740</td>\n",
       "    </tr>\n",
       "    <tr>\n",
       "      <th>min</th>\n",
       "      <td>-1.125284</td>\n",
       "      <td>-1.851011</td>\n",
       "      <td>-2.523010</td>\n",
       "      <td>-1.026441</td>\n",
       "    </tr>\n",
       "    <tr>\n",
       "      <th>25%</th>\n",
       "      <td>-0.641538</td>\n",
       "      <td>-0.837258</td>\n",
       "      <td>-1.239161</td>\n",
       "      <td>-0.203376</td>\n",
       "    </tr>\n",
       "    <tr>\n",
       "      <th>50%</th>\n",
       "      <td>-0.044407</td>\n",
       "      <td>-0.725356</td>\n",
       "      <td>-0.631341</td>\n",
       "      <td>0.461507</td>\n",
       "    </tr>\n",
       "    <tr>\n",
       "      <th>75%</th>\n",
       "      <td>0.968448</td>\n",
       "      <td>-0.600232</td>\n",
       "      <td>0.366423</td>\n",
       "      <td>0.846109</td>\n",
       "    </tr>\n",
       "    <tr>\n",
       "      <th>max</th>\n",
       "      <td>1.474223</td>\n",
       "      <td>0.013535</td>\n",
       "      <td>1.423233</td>\n",
       "      <td>1.737388</td>\n",
       "    </tr>\n",
       "  </tbody>\n",
       "</table>\n",
       "</div>"
      ],
      "text/plain": [
       "              A         B         C         D\n",
       "count  6.000000  6.000000  6.000000  6.000000\n",
       "mean   0.120935 -0.786879 -0.517536  0.363878\n",
       "std    1.052998  0.606208  1.409028  0.975740\n",
       "min   -1.125284 -1.851011 -2.523010 -1.026441\n",
       "25%   -0.641538 -0.837258 -1.239161 -0.203376\n",
       "50%   -0.044407 -0.725356 -0.631341  0.461507\n",
       "75%    0.968448 -0.600232  0.366423  0.846109\n",
       "max    1.474223  0.013535  1.423233  1.737388"
      ]
     },
     "execution_count": 33,
     "metadata": {},
     "output_type": "execute_result"
    }
   ],
   "source": [
    "df.describe()"
   ]
  },
  {
   "cell_type": "code",
   "execution_count": 34,
   "id": "b59de1fc-d603-428f-93d6-bdec9f8c7f1f",
   "metadata": {},
   "outputs": [
    {
     "data": {
      "text/html": [
       "<div>\n",
       "<style scoped>\n",
       "    .dataframe tbody tr th:only-of-type {\n",
       "        vertical-align: middle;\n",
       "    }\n",
       "\n",
       "    .dataframe tbody tr th {\n",
       "        vertical-align: top;\n",
       "    }\n",
       "\n",
       "    .dataframe thead th {\n",
       "        text-align: right;\n",
       "    }\n",
       "</style>\n",
       "<table border=\"1\" class=\"dataframe\">\n",
       "  <thead>\n",
       "    <tr style=\"text-align: right;\">\n",
       "      <th></th>\n",
       "      <th>2022-02-23</th>\n",
       "      <th>2022-02-24</th>\n",
       "      <th>2022-02-25</th>\n",
       "      <th>2022-02-26</th>\n",
       "      <th>2022-02-27</th>\n",
       "      <th>2022-02-28</th>\n",
       "    </tr>\n",
       "  </thead>\n",
       "  <tbody>\n",
       "    <tr>\n",
       "      <th>A</th>\n",
       "      <td>1.216410</td>\n",
       "      <td>-0.750925</td>\n",
       "      <td>1.474223</td>\n",
       "      <td>-1.125284</td>\n",
       "      <td>-0.313378</td>\n",
       "      <td>0.224564</td>\n",
       "    </tr>\n",
       "    <tr>\n",
       "      <th>B</th>\n",
       "      <td>-0.584314</td>\n",
       "      <td>0.013535</td>\n",
       "      <td>-0.848770</td>\n",
       "      <td>-1.851011</td>\n",
       "      <td>-0.647989</td>\n",
       "      <td>-0.802723</td>\n",
       "    </tr>\n",
       "    <tr>\n",
       "      <th>C</th>\n",
       "      <td>1.423233</td>\n",
       "      <td>-0.894995</td>\n",
       "      <td>-0.367688</td>\n",
       "      <td>0.611127</td>\n",
       "      <td>-1.353883</td>\n",
       "      <td>-2.523010</td>\n",
       "    </tr>\n",
       "    <tr>\n",
       "      <th>D</th>\n",
       "      <td>1.737388</td>\n",
       "      <td>0.565960</td>\n",
       "      <td>0.357055</td>\n",
       "      <td>-1.026441</td>\n",
       "      <td>0.939492</td>\n",
       "      <td>-0.390186</td>\n",
       "    </tr>\n",
       "  </tbody>\n",
       "</table>\n",
       "</div>"
      ],
      "text/plain": [
       "   2022-02-23  2022-02-24  2022-02-25  2022-02-26  2022-02-27  2022-02-28\n",
       "A    1.216410   -0.750925    1.474223   -1.125284   -0.313378    0.224564\n",
       "B   -0.584314    0.013535   -0.848770   -1.851011   -0.647989   -0.802723\n",
       "C    1.423233   -0.894995   -0.367688    0.611127   -1.353883   -2.523010\n",
       "D    1.737388    0.565960    0.357055   -1.026441    0.939492   -0.390186"
      ]
     },
     "execution_count": 34,
     "metadata": {},
     "output_type": "execute_result"
    }
   ],
   "source": [
    "df.T"
   ]
  },
  {
   "cell_type": "code",
   "execution_count": 35,
   "id": "9b5cb775-7b4b-4cc2-a4e7-a41312bb25be",
   "metadata": {},
   "outputs": [
    {
     "data": {
      "text/html": [
       "<div>\n",
       "<style scoped>\n",
       "    .dataframe tbody tr th:only-of-type {\n",
       "        vertical-align: middle;\n",
       "    }\n",
       "\n",
       "    .dataframe tbody tr th {\n",
       "        vertical-align: top;\n",
       "    }\n",
       "\n",
       "    .dataframe thead th {\n",
       "        text-align: right;\n",
       "    }\n",
       "</style>\n",
       "<table border=\"1\" class=\"dataframe\">\n",
       "  <thead>\n",
       "    <tr style=\"text-align: right;\">\n",
       "      <th></th>\n",
       "      <th>D</th>\n",
       "      <th>C</th>\n",
       "      <th>B</th>\n",
       "      <th>A</th>\n",
       "    </tr>\n",
       "  </thead>\n",
       "  <tbody>\n",
       "    <tr>\n",
       "      <th>2022-02-23</th>\n",
       "      <td>1.737388</td>\n",
       "      <td>1.423233</td>\n",
       "      <td>-0.584314</td>\n",
       "      <td>1.216410</td>\n",
       "    </tr>\n",
       "    <tr>\n",
       "      <th>2022-02-24</th>\n",
       "      <td>0.565960</td>\n",
       "      <td>-0.894995</td>\n",
       "      <td>0.013535</td>\n",
       "      <td>-0.750925</td>\n",
       "    </tr>\n",
       "    <tr>\n",
       "      <th>2022-02-25</th>\n",
       "      <td>0.357055</td>\n",
       "      <td>-0.367688</td>\n",
       "      <td>-0.848770</td>\n",
       "      <td>1.474223</td>\n",
       "    </tr>\n",
       "    <tr>\n",
       "      <th>2022-02-26</th>\n",
       "      <td>-1.026441</td>\n",
       "      <td>0.611127</td>\n",
       "      <td>-1.851011</td>\n",
       "      <td>-1.125284</td>\n",
       "    </tr>\n",
       "    <tr>\n",
       "      <th>2022-02-27</th>\n",
       "      <td>0.939492</td>\n",
       "      <td>-1.353883</td>\n",
       "      <td>-0.647989</td>\n",
       "      <td>-0.313378</td>\n",
       "    </tr>\n",
       "    <tr>\n",
       "      <th>2022-02-28</th>\n",
       "      <td>-0.390186</td>\n",
       "      <td>-2.523010</td>\n",
       "      <td>-0.802723</td>\n",
       "      <td>0.224564</td>\n",
       "    </tr>\n",
       "  </tbody>\n",
       "</table>\n",
       "</div>"
      ],
      "text/plain": [
       "                   D         C         B         A\n",
       "2022-02-23  1.737388  1.423233 -0.584314  1.216410\n",
       "2022-02-24  0.565960 -0.894995  0.013535 -0.750925\n",
       "2022-02-25  0.357055 -0.367688 -0.848770  1.474223\n",
       "2022-02-26 -1.026441  0.611127 -1.851011 -1.125284\n",
       "2022-02-27  0.939492 -1.353883 -0.647989 -0.313378\n",
       "2022-02-28 -0.390186 -2.523010 -0.802723  0.224564"
      ]
     },
     "execution_count": 35,
     "metadata": {},
     "output_type": "execute_result"
    }
   ],
   "source": [
    "df.sort_index(axis=1, ascending=False)"
   ]
  },
  {
   "cell_type": "code",
   "execution_count": 36,
   "id": "fc4cfd1d-fd34-43db-98de-15336d3a17b0",
   "metadata": {},
   "outputs": [
    {
     "data": {
      "text/html": [
       "<div>\n",
       "<style scoped>\n",
       "    .dataframe tbody tr th:only-of-type {\n",
       "        vertical-align: middle;\n",
       "    }\n",
       "\n",
       "    .dataframe tbody tr th {\n",
       "        vertical-align: top;\n",
       "    }\n",
       "\n",
       "    .dataframe thead th {\n",
       "        text-align: right;\n",
       "    }\n",
       "</style>\n",
       "<table border=\"1\" class=\"dataframe\">\n",
       "  <thead>\n",
       "    <tr style=\"text-align: right;\">\n",
       "      <th></th>\n",
       "      <th>A</th>\n",
       "      <th>B</th>\n",
       "      <th>C</th>\n",
       "      <th>D</th>\n",
       "    </tr>\n",
       "  </thead>\n",
       "  <tbody>\n",
       "    <tr>\n",
       "      <th>2022-02-26</th>\n",
       "      <td>-1.125284</td>\n",
       "      <td>-1.851011</td>\n",
       "      <td>0.611127</td>\n",
       "      <td>-1.026441</td>\n",
       "    </tr>\n",
       "    <tr>\n",
       "      <th>2022-02-25</th>\n",
       "      <td>1.474223</td>\n",
       "      <td>-0.848770</td>\n",
       "      <td>-0.367688</td>\n",
       "      <td>0.357055</td>\n",
       "    </tr>\n",
       "    <tr>\n",
       "      <th>2022-02-28</th>\n",
       "      <td>0.224564</td>\n",
       "      <td>-0.802723</td>\n",
       "      <td>-2.523010</td>\n",
       "      <td>-0.390186</td>\n",
       "    </tr>\n",
       "    <tr>\n",
       "      <th>2022-02-27</th>\n",
       "      <td>-0.313378</td>\n",
       "      <td>-0.647989</td>\n",
       "      <td>-1.353883</td>\n",
       "      <td>0.939492</td>\n",
       "    </tr>\n",
       "    <tr>\n",
       "      <th>2022-02-23</th>\n",
       "      <td>1.216410</td>\n",
       "      <td>-0.584314</td>\n",
       "      <td>1.423233</td>\n",
       "      <td>1.737388</td>\n",
       "    </tr>\n",
       "    <tr>\n",
       "      <th>2022-02-24</th>\n",
       "      <td>-0.750925</td>\n",
       "      <td>0.013535</td>\n",
       "      <td>-0.894995</td>\n",
       "      <td>0.565960</td>\n",
       "    </tr>\n",
       "  </tbody>\n",
       "</table>\n",
       "</div>"
      ],
      "text/plain": [
       "                   A         B         C         D\n",
       "2022-02-26 -1.125284 -1.851011  0.611127 -1.026441\n",
       "2022-02-25  1.474223 -0.848770 -0.367688  0.357055\n",
       "2022-02-28  0.224564 -0.802723 -2.523010 -0.390186\n",
       "2022-02-27 -0.313378 -0.647989 -1.353883  0.939492\n",
       "2022-02-23  1.216410 -0.584314  1.423233  1.737388\n",
       "2022-02-24 -0.750925  0.013535 -0.894995  0.565960"
      ]
     },
     "execution_count": 36,
     "metadata": {},
     "output_type": "execute_result"
    }
   ],
   "source": [
    "df.sort_values(by=\"B\")"
   ]
  },
  {
   "cell_type": "code",
   "execution_count": 37,
   "id": "c53fca63-6a57-4b24-8eaf-e8dcb3578a3b",
   "metadata": {},
   "outputs": [
    {
     "data": {
      "text/plain": [
       "2022-02-23    1.216410\n",
       "2022-02-24   -0.750925\n",
       "2022-02-25    1.474223\n",
       "2022-02-26   -1.125284\n",
       "2022-02-27   -0.313378\n",
       "2022-02-28    0.224564\n",
       "Freq: D, Name: A, dtype: float64"
      ]
     },
     "execution_count": 37,
     "metadata": {},
     "output_type": "execute_result"
    }
   ],
   "source": [
    "df[\"A\"]"
   ]
  },
  {
   "cell_type": "code",
   "execution_count": 38,
   "id": "0bdbad0b-7a9c-47b4-bc0a-a2cb16e1c034",
   "metadata": {},
   "outputs": [
    {
     "data": {
      "text/html": [
       "<div>\n",
       "<style scoped>\n",
       "    .dataframe tbody tr th:only-of-type {\n",
       "        vertical-align: middle;\n",
       "    }\n",
       "\n",
       "    .dataframe tbody tr th {\n",
       "        vertical-align: top;\n",
       "    }\n",
       "\n",
       "    .dataframe thead th {\n",
       "        text-align: right;\n",
       "    }\n",
       "</style>\n",
       "<table border=\"1\" class=\"dataframe\">\n",
       "  <thead>\n",
       "    <tr style=\"text-align: right;\">\n",
       "      <th></th>\n",
       "      <th>A</th>\n",
       "      <th>B</th>\n",
       "      <th>C</th>\n",
       "      <th>D</th>\n",
       "    </tr>\n",
       "  </thead>\n",
       "  <tbody>\n",
       "    <tr>\n",
       "      <th>2022-02-23</th>\n",
       "      <td>1.216410</td>\n",
       "      <td>-0.584314</td>\n",
       "      <td>1.423233</td>\n",
       "      <td>1.737388</td>\n",
       "    </tr>\n",
       "    <tr>\n",
       "      <th>2022-02-24</th>\n",
       "      <td>-0.750925</td>\n",
       "      <td>0.013535</td>\n",
       "      <td>-0.894995</td>\n",
       "      <td>0.565960</td>\n",
       "    </tr>\n",
       "    <tr>\n",
       "      <th>2022-02-25</th>\n",
       "      <td>1.474223</td>\n",
       "      <td>-0.848770</td>\n",
       "      <td>-0.367688</td>\n",
       "      <td>0.357055</td>\n",
       "    </tr>\n",
       "  </tbody>\n",
       "</table>\n",
       "</div>"
      ],
      "text/plain": [
       "                   A         B         C         D\n",
       "2022-02-23  1.216410 -0.584314  1.423233  1.737388\n",
       "2022-02-24 -0.750925  0.013535 -0.894995  0.565960\n",
       "2022-02-25  1.474223 -0.848770 -0.367688  0.357055"
      ]
     },
     "execution_count": 38,
     "metadata": {},
     "output_type": "execute_result"
    }
   ],
   "source": [
    "df[0:3]"
   ]
  },
  {
   "cell_type": "code",
   "execution_count": 39,
   "id": "362eeab5-7596-4843-99aa-459eb9cec5c2",
   "metadata": {},
   "outputs": [
    {
     "data": {
      "text/html": [
       "<div>\n",
       "<style scoped>\n",
       "    .dataframe tbody tr th:only-of-type {\n",
       "        vertical-align: middle;\n",
       "    }\n",
       "\n",
       "    .dataframe tbody tr th {\n",
       "        vertical-align: top;\n",
       "    }\n",
       "\n",
       "    .dataframe thead th {\n",
       "        text-align: right;\n",
       "    }\n",
       "</style>\n",
       "<table border=\"1\" class=\"dataframe\">\n",
       "  <thead>\n",
       "    <tr style=\"text-align: right;\">\n",
       "      <th></th>\n",
       "      <th>A</th>\n",
       "      <th>B</th>\n",
       "      <th>C</th>\n",
       "      <th>D</th>\n",
       "    </tr>\n",
       "  </thead>\n",
       "  <tbody>\n",
       "    <tr>\n",
       "      <th>2022-02-24</th>\n",
       "      <td>-0.750925</td>\n",
       "      <td>0.013535</td>\n",
       "      <td>-0.894995</td>\n",
       "      <td>0.565960</td>\n",
       "    </tr>\n",
       "    <tr>\n",
       "      <th>2022-02-25</th>\n",
       "      <td>1.474223</td>\n",
       "      <td>-0.848770</td>\n",
       "      <td>-0.367688</td>\n",
       "      <td>0.357055</td>\n",
       "    </tr>\n",
       "    <tr>\n",
       "      <th>2022-02-26</th>\n",
       "      <td>-1.125284</td>\n",
       "      <td>-1.851011</td>\n",
       "      <td>0.611127</td>\n",
       "      <td>-1.026441</td>\n",
       "    </tr>\n",
       "    <tr>\n",
       "      <th>2022-02-27</th>\n",
       "      <td>-0.313378</td>\n",
       "      <td>-0.647989</td>\n",
       "      <td>-1.353883</td>\n",
       "      <td>0.939492</td>\n",
       "    </tr>\n",
       "    <tr>\n",
       "      <th>2022-02-28</th>\n",
       "      <td>0.224564</td>\n",
       "      <td>-0.802723</td>\n",
       "      <td>-2.523010</td>\n",
       "      <td>-0.390186</td>\n",
       "    </tr>\n",
       "  </tbody>\n",
       "</table>\n",
       "</div>"
      ],
      "text/plain": [
       "                   A         B         C         D\n",
       "2022-02-24 -0.750925  0.013535 -0.894995  0.565960\n",
       "2022-02-25  1.474223 -0.848770 -0.367688  0.357055\n",
       "2022-02-26 -1.125284 -1.851011  0.611127 -1.026441\n",
       "2022-02-27 -0.313378 -0.647989 -1.353883  0.939492\n",
       "2022-02-28  0.224564 -0.802723 -2.523010 -0.390186"
      ]
     },
     "execution_count": 39,
     "metadata": {},
     "output_type": "execute_result"
    }
   ],
   "source": [
    "df[\"20220224\":\"20220228\"]"
   ]
  },
  {
   "cell_type": "code",
   "execution_count": 40,
   "id": "cc5e6343-f974-4f20-9944-3951b443ceed",
   "metadata": {},
   "outputs": [
    {
     "data": {
      "text/plain": [
       "A    1.216410\n",
       "B   -0.584314\n",
       "C    1.423233\n",
       "D    1.737388\n",
       "Name: 2022-02-23 00:00:00, dtype: float64"
      ]
     },
     "execution_count": 40,
     "metadata": {},
     "output_type": "execute_result"
    }
   ],
   "source": [
    "df.loc[dates[0]]"
   ]
  },
  {
   "cell_type": "code",
   "execution_count": 42,
   "id": "a2cd94a9-5691-4851-9e92-2f40c61c7c2c",
   "metadata": {},
   "outputs": [
    {
     "data": {
      "text/html": [
       "<div>\n",
       "<style scoped>\n",
       "    .dataframe tbody tr th:only-of-type {\n",
       "        vertical-align: middle;\n",
       "    }\n",
       "\n",
       "    .dataframe tbody tr th {\n",
       "        vertical-align: top;\n",
       "    }\n",
       "\n",
       "    .dataframe thead th {\n",
       "        text-align: right;\n",
       "    }\n",
       "</style>\n",
       "<table border=\"1\" class=\"dataframe\">\n",
       "  <thead>\n",
       "    <tr style=\"text-align: right;\">\n",
       "      <th></th>\n",
       "      <th>A</th>\n",
       "      <th>B</th>\n",
       "    </tr>\n",
       "  </thead>\n",
       "  <tbody>\n",
       "    <tr>\n",
       "      <th>2022-02-23</th>\n",
       "      <td>1.216410</td>\n",
       "      <td>-0.584314</td>\n",
       "    </tr>\n",
       "    <tr>\n",
       "      <th>2022-02-24</th>\n",
       "      <td>-0.750925</td>\n",
       "      <td>0.013535</td>\n",
       "    </tr>\n",
       "    <tr>\n",
       "      <th>2022-02-25</th>\n",
       "      <td>1.474223</td>\n",
       "      <td>-0.848770</td>\n",
       "    </tr>\n",
       "    <tr>\n",
       "      <th>2022-02-26</th>\n",
       "      <td>-1.125284</td>\n",
       "      <td>-1.851011</td>\n",
       "    </tr>\n",
       "    <tr>\n",
       "      <th>2022-02-27</th>\n",
       "      <td>-0.313378</td>\n",
       "      <td>-0.647989</td>\n",
       "    </tr>\n",
       "    <tr>\n",
       "      <th>2022-02-28</th>\n",
       "      <td>0.224564</td>\n",
       "      <td>-0.802723</td>\n",
       "    </tr>\n",
       "  </tbody>\n",
       "</table>\n",
       "</div>"
      ],
      "text/plain": [
       "                   A         B\n",
       "2022-02-23  1.216410 -0.584314\n",
       "2022-02-24 -0.750925  0.013535\n",
       "2022-02-25  1.474223 -0.848770\n",
       "2022-02-26 -1.125284 -1.851011\n",
       "2022-02-27 -0.313378 -0.647989\n",
       "2022-02-28  0.224564 -0.802723"
      ]
     },
     "execution_count": 42,
     "metadata": {},
     "output_type": "execute_result"
    }
   ],
   "source": [
    "df.loc[:, [\"A\", \"B\"]]"
   ]
  },
  {
   "cell_type": "code",
   "execution_count": 44,
   "id": "1bd964da-aeb6-4730-b1d6-becfa0d3b579",
   "metadata": {},
   "outputs": [
    {
     "data": {
      "text/html": [
       "<div>\n",
       "<style scoped>\n",
       "    .dataframe tbody tr th:only-of-type {\n",
       "        vertical-align: middle;\n",
       "    }\n",
       "\n",
       "    .dataframe tbody tr th {\n",
       "        vertical-align: top;\n",
       "    }\n",
       "\n",
       "    .dataframe thead th {\n",
       "        text-align: right;\n",
       "    }\n",
       "</style>\n",
       "<table border=\"1\" class=\"dataframe\">\n",
       "  <thead>\n",
       "    <tr style=\"text-align: right;\">\n",
       "      <th></th>\n",
       "      <th>A</th>\n",
       "      <th>B</th>\n",
       "    </tr>\n",
       "  </thead>\n",
       "  <tbody>\n",
       "    <tr>\n",
       "      <th>2022-02-25</th>\n",
       "      <td>1.474223</td>\n",
       "      <td>-0.848770</td>\n",
       "    </tr>\n",
       "    <tr>\n",
       "      <th>2022-02-26</th>\n",
       "      <td>-1.125284</td>\n",
       "      <td>-1.851011</td>\n",
       "    </tr>\n",
       "    <tr>\n",
       "      <th>2022-02-27</th>\n",
       "      <td>-0.313378</td>\n",
       "      <td>-0.647989</td>\n",
       "    </tr>\n",
       "    <tr>\n",
       "      <th>2022-02-28</th>\n",
       "      <td>0.224564</td>\n",
       "      <td>-0.802723</td>\n",
       "    </tr>\n",
       "  </tbody>\n",
       "</table>\n",
       "</div>"
      ],
      "text/plain": [
       "                   A         B\n",
       "2022-02-25  1.474223 -0.848770\n",
       "2022-02-26 -1.125284 -1.851011\n",
       "2022-02-27 -0.313378 -0.647989\n",
       "2022-02-28  0.224564 -0.802723"
      ]
     },
     "execution_count": 44,
     "metadata": {},
     "output_type": "execute_result"
    }
   ],
   "source": [
    "df.loc[\"20220225\":\"20220228\", [\"A\", \"B\"]]"
   ]
  },
  {
   "cell_type": "code",
   "execution_count": 45,
   "id": "4b848620-1eb9-4672-a428-214d9890225e",
   "metadata": {},
   "outputs": [
    {
     "data": {
      "text/plain": [
       "A    0.224564\n",
       "B   -0.802723\n",
       "Name: 2022-02-28 00:00:00, dtype: float64"
      ]
     },
     "execution_count": 45,
     "metadata": {},
     "output_type": "execute_result"
    }
   ],
   "source": [
    "df.loc[\"20220228\", [\"A\", \"B\"]]"
   ]
  },
  {
   "cell_type": "code",
   "execution_count": 46,
   "id": "1f11f472-347a-4670-9a98-fca14c03b2b7",
   "metadata": {},
   "outputs": [
    {
     "data": {
      "text/plain": [
       "1.2164095916595234"
      ]
     },
     "execution_count": 46,
     "metadata": {},
     "output_type": "execute_result"
    }
   ],
   "source": [
    "df.loc[dates[0], \"A\"]"
   ]
  },
  {
   "cell_type": "code",
   "execution_count": 47,
   "id": "238b6379-66a2-4df9-b11f-f99382be8914",
   "metadata": {},
   "outputs": [
    {
     "data": {
      "text/plain": [
       "1.2164095916595234"
      ]
     },
     "execution_count": 47,
     "metadata": {},
     "output_type": "execute_result"
    }
   ],
   "source": [
    "df.at[dates[0], \"A\"]"
   ]
  },
  {
   "cell_type": "code",
   "execution_count": 48,
   "id": "2949e07e-19c7-4e9c-88a2-0888d88b7784",
   "metadata": {},
   "outputs": [
    {
     "data": {
      "text/plain": [
       "A   -1.125284\n",
       "B   -1.851011\n",
       "C    0.611127\n",
       "D   -1.026441\n",
       "Name: 2022-02-26 00:00:00, dtype: float64"
      ]
     },
     "execution_count": 48,
     "metadata": {},
     "output_type": "execute_result"
    }
   ],
   "source": [
    "df.iloc[3]"
   ]
  },
  {
   "cell_type": "code",
   "execution_count": 49,
   "id": "ab2389cd-432f-4cf7-8ac5-20eb0139480c",
   "metadata": {},
   "outputs": [
    {
     "data": {
      "text/html": [
       "<div>\n",
       "<style scoped>\n",
       "    .dataframe tbody tr th:only-of-type {\n",
       "        vertical-align: middle;\n",
       "    }\n",
       "\n",
       "    .dataframe tbody tr th {\n",
       "        vertical-align: top;\n",
       "    }\n",
       "\n",
       "    .dataframe thead th {\n",
       "        text-align: right;\n",
       "    }\n",
       "</style>\n",
       "<table border=\"1\" class=\"dataframe\">\n",
       "  <thead>\n",
       "    <tr style=\"text-align: right;\">\n",
       "      <th></th>\n",
       "      <th>A</th>\n",
       "      <th>B</th>\n",
       "    </tr>\n",
       "  </thead>\n",
       "  <tbody>\n",
       "    <tr>\n",
       "      <th>2022-02-26</th>\n",
       "      <td>-1.125284</td>\n",
       "      <td>-1.851011</td>\n",
       "    </tr>\n",
       "    <tr>\n",
       "      <th>2022-02-27</th>\n",
       "      <td>-0.313378</td>\n",
       "      <td>-0.647989</td>\n",
       "    </tr>\n",
       "  </tbody>\n",
       "</table>\n",
       "</div>"
      ],
      "text/plain": [
       "                   A         B\n",
       "2022-02-26 -1.125284 -1.851011\n",
       "2022-02-27 -0.313378 -0.647989"
      ]
     },
     "execution_count": 49,
     "metadata": {},
     "output_type": "execute_result"
    }
   ],
   "source": [
    "df.iloc[3:5, 0:2]"
   ]
  },
  {
   "cell_type": "code",
   "execution_count": 50,
   "id": "af6fdb42-918b-4960-96ad-a0c9fb54b44a",
   "metadata": {},
   "outputs": [
    {
     "data": {
      "text/html": [
       "<div>\n",
       "<style scoped>\n",
       "    .dataframe tbody tr th:only-of-type {\n",
       "        vertical-align: middle;\n",
       "    }\n",
       "\n",
       "    .dataframe tbody tr th {\n",
       "        vertical-align: top;\n",
       "    }\n",
       "\n",
       "    .dataframe thead th {\n",
       "        text-align: right;\n",
       "    }\n",
       "</style>\n",
       "<table border=\"1\" class=\"dataframe\">\n",
       "  <thead>\n",
       "    <tr style=\"text-align: right;\">\n",
       "      <th></th>\n",
       "      <th>A</th>\n",
       "      <th>B</th>\n",
       "      <th>C</th>\n",
       "      <th>D</th>\n",
       "    </tr>\n",
       "  </thead>\n",
       "  <tbody>\n",
       "    <tr>\n",
       "      <th>2022-02-23</th>\n",
       "      <td>1.216410</td>\n",
       "      <td>-0.584314</td>\n",
       "      <td>1.423233</td>\n",
       "      <td>1.737388</td>\n",
       "    </tr>\n",
       "    <tr>\n",
       "      <th>2022-02-24</th>\n",
       "      <td>-0.750925</td>\n",
       "      <td>0.013535</td>\n",
       "      <td>-0.894995</td>\n",
       "      <td>0.565960</td>\n",
       "    </tr>\n",
       "    <tr>\n",
       "      <th>2022-02-25</th>\n",
       "      <td>1.474223</td>\n",
       "      <td>-0.848770</td>\n",
       "      <td>-0.367688</td>\n",
       "      <td>0.357055</td>\n",
       "    </tr>\n",
       "    <tr>\n",
       "      <th>2022-02-26</th>\n",
       "      <td>-1.125284</td>\n",
       "      <td>-1.851011</td>\n",
       "      <td>0.611127</td>\n",
       "      <td>-1.026441</td>\n",
       "    </tr>\n",
       "    <tr>\n",
       "      <th>2022-02-27</th>\n",
       "      <td>-0.313378</td>\n",
       "      <td>-0.647989</td>\n",
       "      <td>-1.353883</td>\n",
       "      <td>0.939492</td>\n",
       "    </tr>\n",
       "    <tr>\n",
       "      <th>2022-02-28</th>\n",
       "      <td>0.224564</td>\n",
       "      <td>-0.802723</td>\n",
       "      <td>-2.523010</td>\n",
       "      <td>-0.390186</td>\n",
       "    </tr>\n",
       "  </tbody>\n",
       "</table>\n",
       "</div>"
      ],
      "text/plain": [
       "                   A         B         C         D\n",
       "2022-02-23  1.216410 -0.584314  1.423233  1.737388\n",
       "2022-02-24 -0.750925  0.013535 -0.894995  0.565960\n",
       "2022-02-25  1.474223 -0.848770 -0.367688  0.357055\n",
       "2022-02-26 -1.125284 -1.851011  0.611127 -1.026441\n",
       "2022-02-27 -0.313378 -0.647989 -1.353883  0.939492\n",
       "2022-02-28  0.224564 -0.802723 -2.523010 -0.390186"
      ]
     },
     "execution_count": 50,
     "metadata": {},
     "output_type": "execute_result"
    }
   ],
   "source": [
    "df"
   ]
  },
  {
   "cell_type": "code",
   "execution_count": 51,
   "id": "e413bd73-d4a2-47e3-807b-5ee4adc78e89",
   "metadata": {},
   "outputs": [
    {
     "data": {
      "text/html": [
       "<div>\n",
       "<style scoped>\n",
       "    .dataframe tbody tr th:only-of-type {\n",
       "        vertical-align: middle;\n",
       "    }\n",
       "\n",
       "    .dataframe tbody tr th {\n",
       "        vertical-align: top;\n",
       "    }\n",
       "\n",
       "    .dataframe thead th {\n",
       "        text-align: right;\n",
       "    }\n",
       "</style>\n",
       "<table border=\"1\" class=\"dataframe\">\n",
       "  <thead>\n",
       "    <tr style=\"text-align: right;\">\n",
       "      <th></th>\n",
       "      <th>A</th>\n",
       "      <th>C</th>\n",
       "    </tr>\n",
       "  </thead>\n",
       "  <tbody>\n",
       "    <tr>\n",
       "      <th>2022-02-24</th>\n",
       "      <td>-0.750925</td>\n",
       "      <td>-0.894995</td>\n",
       "    </tr>\n",
       "    <tr>\n",
       "      <th>2022-02-25</th>\n",
       "      <td>1.474223</td>\n",
       "      <td>-0.367688</td>\n",
       "    </tr>\n",
       "    <tr>\n",
       "      <th>2022-02-27</th>\n",
       "      <td>-0.313378</td>\n",
       "      <td>-1.353883</td>\n",
       "    </tr>\n",
       "  </tbody>\n",
       "</table>\n",
       "</div>"
      ],
      "text/plain": [
       "                   A         C\n",
       "2022-02-24 -0.750925 -0.894995\n",
       "2022-02-25  1.474223 -0.367688\n",
       "2022-02-27 -0.313378 -1.353883"
      ]
     },
     "execution_count": 51,
     "metadata": {},
     "output_type": "execute_result"
    }
   ],
   "source": [
    "df.iloc[[1, 2, 4], [0, 2]]"
   ]
  },
  {
   "cell_type": "code",
   "execution_count": 52,
   "id": "c605f588-f9a2-4553-a7ca-9958907cbfc2",
   "metadata": {},
   "outputs": [
    {
     "data": {
      "text/html": [
       "<div>\n",
       "<style scoped>\n",
       "    .dataframe tbody tr th:only-of-type {\n",
       "        vertical-align: middle;\n",
       "    }\n",
       "\n",
       "    .dataframe tbody tr th {\n",
       "        vertical-align: top;\n",
       "    }\n",
       "\n",
       "    .dataframe thead th {\n",
       "        text-align: right;\n",
       "    }\n",
       "</style>\n",
       "<table border=\"1\" class=\"dataframe\">\n",
       "  <thead>\n",
       "    <tr style=\"text-align: right;\">\n",
       "      <th></th>\n",
       "      <th>A</th>\n",
       "      <th>B</th>\n",
       "      <th>C</th>\n",
       "      <th>D</th>\n",
       "    </tr>\n",
       "  </thead>\n",
       "  <tbody>\n",
       "    <tr>\n",
       "      <th>2022-02-24</th>\n",
       "      <td>-0.750925</td>\n",
       "      <td>0.013535</td>\n",
       "      <td>-0.894995</td>\n",
       "      <td>0.565960</td>\n",
       "    </tr>\n",
       "    <tr>\n",
       "      <th>2022-02-25</th>\n",
       "      <td>1.474223</td>\n",
       "      <td>-0.848770</td>\n",
       "      <td>-0.367688</td>\n",
       "      <td>0.357055</td>\n",
       "    </tr>\n",
       "  </tbody>\n",
       "</table>\n",
       "</div>"
      ],
      "text/plain": [
       "                   A         B         C         D\n",
       "2022-02-24 -0.750925  0.013535 -0.894995  0.565960\n",
       "2022-02-25  1.474223 -0.848770 -0.367688  0.357055"
      ]
     },
     "execution_count": 52,
     "metadata": {},
     "output_type": "execute_result"
    }
   ],
   "source": [
    "df.iloc[1:3, :]"
   ]
  },
  {
   "cell_type": "code",
   "execution_count": 53,
   "id": "6ad7b712-d4fa-4240-bba4-29bba32da515",
   "metadata": {},
   "outputs": [
    {
     "data": {
      "text/html": [
       "<div>\n",
       "<style scoped>\n",
       "    .dataframe tbody tr th:only-of-type {\n",
       "        vertical-align: middle;\n",
       "    }\n",
       "\n",
       "    .dataframe tbody tr th {\n",
       "        vertical-align: top;\n",
       "    }\n",
       "\n",
       "    .dataframe thead th {\n",
       "        text-align: right;\n",
       "    }\n",
       "</style>\n",
       "<table border=\"1\" class=\"dataframe\">\n",
       "  <thead>\n",
       "    <tr style=\"text-align: right;\">\n",
       "      <th></th>\n",
       "      <th>B</th>\n",
       "      <th>C</th>\n",
       "    </tr>\n",
       "  </thead>\n",
       "  <tbody>\n",
       "    <tr>\n",
       "      <th>2022-02-23</th>\n",
       "      <td>-0.584314</td>\n",
       "      <td>1.423233</td>\n",
       "    </tr>\n",
       "    <tr>\n",
       "      <th>2022-02-24</th>\n",
       "      <td>0.013535</td>\n",
       "      <td>-0.894995</td>\n",
       "    </tr>\n",
       "    <tr>\n",
       "      <th>2022-02-25</th>\n",
       "      <td>-0.848770</td>\n",
       "      <td>-0.367688</td>\n",
       "    </tr>\n",
       "    <tr>\n",
       "      <th>2022-02-26</th>\n",
       "      <td>-1.851011</td>\n",
       "      <td>0.611127</td>\n",
       "    </tr>\n",
       "    <tr>\n",
       "      <th>2022-02-27</th>\n",
       "      <td>-0.647989</td>\n",
       "      <td>-1.353883</td>\n",
       "    </tr>\n",
       "    <tr>\n",
       "      <th>2022-02-28</th>\n",
       "      <td>-0.802723</td>\n",
       "      <td>-2.523010</td>\n",
       "    </tr>\n",
       "  </tbody>\n",
       "</table>\n",
       "</div>"
      ],
      "text/plain": [
       "                   B         C\n",
       "2022-02-23 -0.584314  1.423233\n",
       "2022-02-24  0.013535 -0.894995\n",
       "2022-02-25 -0.848770 -0.367688\n",
       "2022-02-26 -1.851011  0.611127\n",
       "2022-02-27 -0.647989 -1.353883\n",
       "2022-02-28 -0.802723 -2.523010"
      ]
     },
     "execution_count": 53,
     "metadata": {},
     "output_type": "execute_result"
    }
   ],
   "source": [
    "df.iloc[:, 1:3]"
   ]
  },
  {
   "cell_type": "code",
   "execution_count": 54,
   "id": "8a644fae-a556-47e5-ba39-ed3719541734",
   "metadata": {},
   "outputs": [
    {
     "data": {
      "text/plain": [
       "0.013534589744097242"
      ]
     },
     "execution_count": 54,
     "metadata": {},
     "output_type": "execute_result"
    }
   ],
   "source": [
    "df.iloc[1, 1]"
   ]
  },
  {
   "cell_type": "code",
   "execution_count": 55,
   "id": "55408c41-e455-45c8-85a1-f84a03f1a18d",
   "metadata": {},
   "outputs": [
    {
     "data": {
      "text/plain": [
       "0.013534589744097242"
      ]
     },
     "execution_count": 55,
     "metadata": {},
     "output_type": "execute_result"
    }
   ],
   "source": [
    "df.iat[1, 1]"
   ]
  },
  {
   "cell_type": "code",
   "execution_count": 56,
   "id": "4d2dd0c8-a78a-471f-92cb-d427bb721c52",
   "metadata": {},
   "outputs": [
    {
     "data": {
      "text/html": [
       "<div>\n",
       "<style scoped>\n",
       "    .dataframe tbody tr th:only-of-type {\n",
       "        vertical-align: middle;\n",
       "    }\n",
       "\n",
       "    .dataframe tbody tr th {\n",
       "        vertical-align: top;\n",
       "    }\n",
       "\n",
       "    .dataframe thead th {\n",
       "        text-align: right;\n",
       "    }\n",
       "</style>\n",
       "<table border=\"1\" class=\"dataframe\">\n",
       "  <thead>\n",
       "    <tr style=\"text-align: right;\">\n",
       "      <th></th>\n",
       "      <th>A</th>\n",
       "      <th>B</th>\n",
       "      <th>C</th>\n",
       "      <th>D</th>\n",
       "    </tr>\n",
       "  </thead>\n",
       "  <tbody>\n",
       "    <tr>\n",
       "      <th>2022-02-23</th>\n",
       "      <td>1.216410</td>\n",
       "      <td>-0.584314</td>\n",
       "      <td>1.423233</td>\n",
       "      <td>1.737388</td>\n",
       "    </tr>\n",
       "    <tr>\n",
       "      <th>2022-02-25</th>\n",
       "      <td>1.474223</td>\n",
       "      <td>-0.848770</td>\n",
       "      <td>-0.367688</td>\n",
       "      <td>0.357055</td>\n",
       "    </tr>\n",
       "    <tr>\n",
       "      <th>2022-02-28</th>\n",
       "      <td>0.224564</td>\n",
       "      <td>-0.802723</td>\n",
       "      <td>-2.523010</td>\n",
       "      <td>-0.390186</td>\n",
       "    </tr>\n",
       "  </tbody>\n",
       "</table>\n",
       "</div>"
      ],
      "text/plain": [
       "                   A         B         C         D\n",
       "2022-02-23  1.216410 -0.584314  1.423233  1.737388\n",
       "2022-02-25  1.474223 -0.848770 -0.367688  0.357055\n",
       "2022-02-28  0.224564 -0.802723 -2.523010 -0.390186"
      ]
     },
     "execution_count": 56,
     "metadata": {},
     "output_type": "execute_result"
    }
   ],
   "source": [
    "df[df[\"A\"] > 0]"
   ]
  },
  {
   "cell_type": "code",
   "execution_count": 57,
   "id": "aed4abc5-cb10-4ca7-ab10-94b107679f17",
   "metadata": {},
   "outputs": [
    {
     "data": {
      "text/html": [
       "<div>\n",
       "<style scoped>\n",
       "    .dataframe tbody tr th:only-of-type {\n",
       "        vertical-align: middle;\n",
       "    }\n",
       "\n",
       "    .dataframe tbody tr th {\n",
       "        vertical-align: top;\n",
       "    }\n",
       "\n",
       "    .dataframe thead th {\n",
       "        text-align: right;\n",
       "    }\n",
       "</style>\n",
       "<table border=\"1\" class=\"dataframe\">\n",
       "  <thead>\n",
       "    <tr style=\"text-align: right;\">\n",
       "      <th></th>\n",
       "      <th>A</th>\n",
       "      <th>B</th>\n",
       "      <th>C</th>\n",
       "      <th>D</th>\n",
       "    </tr>\n",
       "  </thead>\n",
       "  <tbody>\n",
       "    <tr>\n",
       "      <th>2022-02-23</th>\n",
       "      <td>1.216410</td>\n",
       "      <td>NaN</td>\n",
       "      <td>1.423233</td>\n",
       "      <td>1.737388</td>\n",
       "    </tr>\n",
       "    <tr>\n",
       "      <th>2022-02-24</th>\n",
       "      <td>NaN</td>\n",
       "      <td>0.013535</td>\n",
       "      <td>NaN</td>\n",
       "      <td>0.565960</td>\n",
       "    </tr>\n",
       "    <tr>\n",
       "      <th>2022-02-25</th>\n",
       "      <td>1.474223</td>\n",
       "      <td>NaN</td>\n",
       "      <td>NaN</td>\n",
       "      <td>0.357055</td>\n",
       "    </tr>\n",
       "    <tr>\n",
       "      <th>2022-02-26</th>\n",
       "      <td>NaN</td>\n",
       "      <td>NaN</td>\n",
       "      <td>0.611127</td>\n",
       "      <td>NaN</td>\n",
       "    </tr>\n",
       "    <tr>\n",
       "      <th>2022-02-27</th>\n",
       "      <td>NaN</td>\n",
       "      <td>NaN</td>\n",
       "      <td>NaN</td>\n",
       "      <td>0.939492</td>\n",
       "    </tr>\n",
       "    <tr>\n",
       "      <th>2022-02-28</th>\n",
       "      <td>0.224564</td>\n",
       "      <td>NaN</td>\n",
       "      <td>NaN</td>\n",
       "      <td>NaN</td>\n",
       "    </tr>\n",
       "  </tbody>\n",
       "</table>\n",
       "</div>"
      ],
      "text/plain": [
       "                   A         B         C         D\n",
       "2022-02-23  1.216410       NaN  1.423233  1.737388\n",
       "2022-02-24       NaN  0.013535       NaN  0.565960\n",
       "2022-02-25  1.474223       NaN       NaN  0.357055\n",
       "2022-02-26       NaN       NaN  0.611127       NaN\n",
       "2022-02-27       NaN       NaN       NaN  0.939492\n",
       "2022-02-28  0.224564       NaN       NaN       NaN"
      ]
     },
     "execution_count": 57,
     "metadata": {},
     "output_type": "execute_result"
    }
   ],
   "source": [
    "df[df > 0]"
   ]
  },
  {
   "cell_type": "code",
   "execution_count": 58,
   "id": "00a25753-d177-4903-a6b2-d9c5ae263d81",
   "metadata": {},
   "outputs": [],
   "source": [
    "df2 = df.copy()"
   ]
  },
  {
   "cell_type": "code",
   "execution_count": 60,
   "id": "b7f8aec5-78a8-48c4-bb61-6ace1415094a",
   "metadata": {},
   "outputs": [
    {
     "data": {
      "text/html": [
       "<div>\n",
       "<style scoped>\n",
       "    .dataframe tbody tr th:only-of-type {\n",
       "        vertical-align: middle;\n",
       "    }\n",
       "\n",
       "    .dataframe tbody tr th {\n",
       "        vertical-align: top;\n",
       "    }\n",
       "\n",
       "    .dataframe thead th {\n",
       "        text-align: right;\n",
       "    }\n",
       "</style>\n",
       "<table border=\"1\" class=\"dataframe\">\n",
       "  <thead>\n",
       "    <tr style=\"text-align: right;\">\n",
       "      <th></th>\n",
       "      <th>A</th>\n",
       "      <th>B</th>\n",
       "      <th>C</th>\n",
       "      <th>D</th>\n",
       "      <th>E</th>\n",
       "    </tr>\n",
       "  </thead>\n",
       "  <tbody>\n",
       "    <tr>\n",
       "      <th>2022-02-23</th>\n",
       "      <td>1.216410</td>\n",
       "      <td>-0.584314</td>\n",
       "      <td>1.423233</td>\n",
       "      <td>1.737388</td>\n",
       "      <td>one</td>\n",
       "    </tr>\n",
       "    <tr>\n",
       "      <th>2022-02-24</th>\n",
       "      <td>-0.750925</td>\n",
       "      <td>0.013535</td>\n",
       "      <td>-0.894995</td>\n",
       "      <td>0.565960</td>\n",
       "      <td>one</td>\n",
       "    </tr>\n",
       "    <tr>\n",
       "      <th>2022-02-25</th>\n",
       "      <td>1.474223</td>\n",
       "      <td>-0.848770</td>\n",
       "      <td>-0.367688</td>\n",
       "      <td>0.357055</td>\n",
       "      <td>two</td>\n",
       "    </tr>\n",
       "    <tr>\n",
       "      <th>2022-02-26</th>\n",
       "      <td>-1.125284</td>\n",
       "      <td>-1.851011</td>\n",
       "      <td>0.611127</td>\n",
       "      <td>-1.026441</td>\n",
       "      <td>three</td>\n",
       "    </tr>\n",
       "    <tr>\n",
       "      <th>2022-02-27</th>\n",
       "      <td>-0.313378</td>\n",
       "      <td>-0.647989</td>\n",
       "      <td>-1.353883</td>\n",
       "      <td>0.939492</td>\n",
       "      <td>four</td>\n",
       "    </tr>\n",
       "    <tr>\n",
       "      <th>2022-02-28</th>\n",
       "      <td>0.224564</td>\n",
       "      <td>-0.802723</td>\n",
       "      <td>-2.523010</td>\n",
       "      <td>-0.390186</td>\n",
       "      <td>three</td>\n",
       "    </tr>\n",
       "  </tbody>\n",
       "</table>\n",
       "</div>"
      ],
      "text/plain": [
       "                   A         B         C         D      E\n",
       "2022-02-23  1.216410 -0.584314  1.423233  1.737388    one\n",
       "2022-02-24 -0.750925  0.013535 -0.894995  0.565960    one\n",
       "2022-02-25  1.474223 -0.848770 -0.367688  0.357055    two\n",
       "2022-02-26 -1.125284 -1.851011  0.611127 -1.026441  three\n",
       "2022-02-27 -0.313378 -0.647989 -1.353883  0.939492   four\n",
       "2022-02-28  0.224564 -0.802723 -2.523010 -0.390186  three"
      ]
     },
     "execution_count": 60,
     "metadata": {},
     "output_type": "execute_result"
    }
   ],
   "source": [
    "df2[\"E\"] = [\"one\", \"one\", \"two\", \"three\", \"four\", \"three\"]\n",
    "df2"
   ]
  },
  {
   "cell_type": "code",
   "execution_count": 61,
   "id": "11725ef8-1a6e-42eb-9379-51bdc73beb10",
   "metadata": {},
   "outputs": [
    {
     "data": {
      "text/html": [
       "<div>\n",
       "<style scoped>\n",
       "    .dataframe tbody tr th:only-of-type {\n",
       "        vertical-align: middle;\n",
       "    }\n",
       "\n",
       "    .dataframe tbody tr th {\n",
       "        vertical-align: top;\n",
       "    }\n",
       "\n",
       "    .dataframe thead th {\n",
       "        text-align: right;\n",
       "    }\n",
       "</style>\n",
       "<table border=\"1\" class=\"dataframe\">\n",
       "  <thead>\n",
       "    <tr style=\"text-align: right;\">\n",
       "      <th></th>\n",
       "      <th>A</th>\n",
       "      <th>B</th>\n",
       "      <th>C</th>\n",
       "      <th>D</th>\n",
       "      <th>E</th>\n",
       "    </tr>\n",
       "  </thead>\n",
       "  <tbody>\n",
       "    <tr>\n",
       "      <th>2022-02-25</th>\n",
       "      <td>1.474223</td>\n",
       "      <td>-0.848770</td>\n",
       "      <td>-0.367688</td>\n",
       "      <td>0.357055</td>\n",
       "      <td>two</td>\n",
       "    </tr>\n",
       "    <tr>\n",
       "      <th>2022-02-27</th>\n",
       "      <td>-0.313378</td>\n",
       "      <td>-0.647989</td>\n",
       "      <td>-1.353883</td>\n",
       "      <td>0.939492</td>\n",
       "      <td>four</td>\n",
       "    </tr>\n",
       "  </tbody>\n",
       "</table>\n",
       "</div>"
      ],
      "text/plain": [
       "                   A         B         C         D     E\n",
       "2022-02-25  1.474223 -0.848770 -0.367688  0.357055   two\n",
       "2022-02-27 -0.313378 -0.647989 -1.353883  0.939492  four"
      ]
     },
     "execution_count": 61,
     "metadata": {},
     "output_type": "execute_result"
    }
   ],
   "source": [
    "df2[df2[\"E\"].isin([\"two\", \"four\"])]"
   ]
  },
  {
   "cell_type": "code",
   "execution_count": null,
   "id": "6c76dc9c-17bd-43fd-b7b2-21524d8ea855",
   "metadata": {},
   "outputs": [],
   "source": []
  }
 ],
 "metadata": {
  "kernelspec": {
   "display_name": "Python 3 (ipykernel)",
   "language": "python",
   "name": "python3"
  },
  "language_info": {
   "codemirror_mode": {
    "name": "ipython",
    "version": 3
   },
   "file_extension": ".py",
   "mimetype": "text/x-python",
   "name": "python",
   "nbconvert_exporter": "python",
   "pygments_lexer": "ipython3",
   "version": "3.9.7"
  }
 },
 "nbformat": 4,
 "nbformat_minor": 5
}
